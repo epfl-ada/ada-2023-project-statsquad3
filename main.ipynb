{
 "cells": [
  {
   "cell_type": "markdown",
   "id": "68c0bfa7",
   "metadata": {},
   "source": [
    "# Project Milestone P2 — StatSquad3 — How does the sentiment of Wikispeedia articles affect player game paths?\n",
    "## I. Exploring sentiment annotation methods"
   ]
  },
  {
   "cell_type": "markdown",
   "id": "7c78da4b",
   "metadata": {},
   "source": [
    "- In this project, we aim to describe and analyze data based on a sentiment associated to each Wikispeedia page. To do so, we believe that our analyses will strongly depend on the sentiment annotation method. Therefore, in this first part, we extensively explore the different methods of sentiment annotation. \n",
    "- By \"sentiment annotation\", we mean that each article will be given a score for its content. A sentiment score $s\\in[-1,1]$ where $s=1$ (respectively, $s=0$, $s=-1$) means an article is associated to a positive (respectively, neutral, negative) sentiment.\n",
    "#### We start off by exploring different method for sentiment annotation of the Wikispeedia articles. Namely, we explore five different methods: \n",
    "1. Using sentiment lexicons to infer sentiment frequencies: using a positive and negative score for each word in a lexicon, the individual token scores are summed for each article.\n",
    "2. pattern package: Pattern is a python package that leverages a sentiment dictionary to score each word on polarity and subjectivity. Polarity (emotional direction (positive or negative)) and subjectivity (strength of emotion) are particularly interesting in the case of wikipedia.\n",
    "3. [Vader](https://vadersentiment.readthedocs.io/en/latest/index.html) (Valence Aware Dictionary and sEntiment Reasoner): VADER is a lexicon and rule-based sentiment analysis tool specifically designed for social media content. It is sensitive to both the polarity (positive/negative) and intensity (strength) of emotions. This method uses a sentiment lexicon which is a list of lexical features, like words, that are generally labeled with their sentiment intensity. It is known for its effectiveness in handling social media texts and other domains where expressions are less formal and more emotionally varied.\n",
    "4. [LIWC](https://www.liwc.app/dictionaries) (Linguistic Inquiry and Word Count): LIWC counts words in psychologically meaningful categories. This method is particularly adept at showing attentional focus, emotionality, social relationships, thinking styles, and individual differences in texts.\n",
    "5. Large language model ([Roberta for sentiment analysis](https://huggingface.co/cardiffnlp/twitter-roberta-base-sentiment)) (A Robustly Optimised BERT Pre-training Approach): RoBERTa is a large language model (Meta Research), which is trained on a vast corpus of data for self-supervised natural language processing. It performs binary sentiment analysis, categorising text as either positive or negative. RoBERTa has been fine-tuned on millions of tweets, making it suitable to detect sentiment.\n",
    "\n",
    "In order for us to compare these different methods, we manually put together a small validation set of articles that are considered very positive, very negative, or neutral. We show it below:"
   ]
  },
  {
   "cell_type": "code",
   "execution_count": 1,
   "id": "dc1cf3ae",
   "metadata": {
    "ExecuteTime": {
     "end_time": "2023-11-17T19:37:52.428350200Z",
     "start_time": "2023-11-17T19:37:51.830631300Z"
    }
   },
   "outputs": [
    {
     "data": {
      "text/html": [
       "<div>\n",
       "<style scoped>\n",
       "    .dataframe tbody tr th:only-of-type {\n",
       "        vertical-align: middle;\n",
       "    }\n",
       "\n",
       "    .dataframe tbody tr th {\n",
       "        vertical-align: top;\n",
       "    }\n",
       "\n",
       "    .dataframe thead th {\n",
       "        text-align: right;\n",
       "    }\n",
       "</style>\n",
       "<table border=\"1\" class=\"dataframe\">\n",
       "  <thead>\n",
       "    <tr style=\"text-align: right;\">\n",
       "      <th></th>\n",
       "      <th>sentiment</th>\n",
       "    </tr>\n",
       "    <tr>\n",
       "      <th>article</th>\n",
       "      <th></th>\n",
       "    </tr>\n",
       "  </thead>\n",
       "  <tbody>\n",
       "    <tr>\n",
       "      <th>1755_Lisbon_earthquake</th>\n",
       "      <td>-1</td>\n",
       "    </tr>\n",
       "    <tr>\n",
       "      <th>1896_Summer_Olympics</th>\n",
       "      <td>1</td>\n",
       "    </tr>\n",
       "    <tr>\n",
       "      <th>1997_Pacific_hurricane_season</th>\n",
       "      <td>-1</td>\n",
       "    </tr>\n",
       "    <tr>\n",
       "      <th>Actinium</th>\n",
       "      <td>0</td>\n",
       "    </tr>\n",
       "    <tr>\n",
       "      <th>Barracuda</th>\n",
       "      <td>-1</td>\n",
       "    </tr>\n",
       "  </tbody>\n",
       "</table>\n",
       "</div>"
      ],
      "text/plain": [
       "                               sentiment\n",
       "article                                 \n",
       "1755_Lisbon_earthquake                -1\n",
       "1896_Summer_Olympics                   1\n",
       "1997_Pacific_hurricane_season         -1\n",
       "Actinium                               0\n",
       "Barracuda                             -1"
      ]
     },
     "execution_count": 1,
     "metadata": {},
     "output_type": "execute_result"
    }
   ],
   "source": [
    "import pandas as pd\n",
    "\n",
    "validation = pd.read_csv(\"../validation.txt\", sep=\"\\t\", header=None, names=[\"article\", \"sentiment\"])\n",
    "validation = validation.set_index(\"article\")\n",
    "validation.head()"
   ]
  },
  {
   "cell_type": "markdown",
   "id": "335c04b5",
   "metadata": {},
   "source": [
    "In the next sections, we try to reproduce the sign of the sentiment rather than the score it"
   ]
  },
  {
   "cell_type": "markdown",
   "id": "cb89094d",
   "metadata": {},
   "source": [
    "### 1. Lexicons"
   ]
  },
  {
   "cell_type": "markdown",
   "id": "56e96584",
   "metadata": {},
   "source": [
    "#### Method: we use a sentiment lexicon: each word in the lexicon has a positive and negative score both in the interval $[0,1]$. For each article, we infer the sentiment score by computing $\\text{positive-score}-\\text{negative-score}$"
   ]
  },
  {
   "cell_type": "code",
   "execution_count": 2,
   "id": "1b3e5058",
   "metadata": {},
   "outputs": [],
   "source": [
    "from sentiment_analysis_1 import *"
   ]
  },
  {
   "cell_type": "code",
   "execution_count": 3,
   "id": "c4150dae",
   "metadata": {},
   "outputs": [
    {
     "name": "stdout",
     "output_type": "stream",
     "text": [
      "4604 articles found\n"
     ]
    }
   ],
   "source": [
    "articles = load_titles()\n",
    "print(len(articles), \"articles found\")"
   ]
  },
  {
   "cell_type": "code",
   "execution_count": 4,
   "id": "dee4b357",
   "metadata": {},
   "outputs": [],
   "source": [
    "content = load_html(articles)"
   ]
  },
  {
   "cell_type": "markdown",
   "id": "c14a2b02",
   "metadata": {},
   "source": [
    "Load and parse lexicons"
   ]
  },
  {
   "cell_type": "code",
   "execution_count": 5,
   "id": "d91422d6",
   "metadata": {},
   "outputs": [
    {
     "data": {
      "text/html": [
       "<div>\n",
       "<style scoped>\n",
       "    .dataframe tbody tr th:only-of-type {\n",
       "        vertical-align: middle;\n",
       "    }\n",
       "\n",
       "    .dataframe tbody tr th {\n",
       "        vertical-align: top;\n",
       "    }\n",
       "\n",
       "    .dataframe thead th {\n",
       "        text-align: right;\n",
       "    }\n",
       "</style>\n",
       "<table border=\"1\" class=\"dataframe\">\n",
       "  <thead>\n",
       "    <tr style=\"text-align: right;\">\n",
       "      <th></th>\n",
       "      <th>PosScore</th>\n",
       "      <th>NegScore</th>\n",
       "      <th>SynsetTerms</th>\n",
       "    </tr>\n",
       "  </thead>\n",
       "  <tbody>\n",
       "    <tr>\n",
       "      <th>0</th>\n",
       "      <td>0.125</td>\n",
       "      <td>0.00</td>\n",
       "      <td>able</td>\n",
       "    </tr>\n",
       "    <tr>\n",
       "      <th>1</th>\n",
       "      <td>0.000</td>\n",
       "      <td>0.75</td>\n",
       "      <td>unable</td>\n",
       "    </tr>\n",
       "    <tr>\n",
       "      <th>2</th>\n",
       "      <td>0.000</td>\n",
       "      <td>0.00</td>\n",
       "      <td>dorsal</td>\n",
       "    </tr>\n",
       "    <tr>\n",
       "      <th>3</th>\n",
       "      <td>0.000</td>\n",
       "      <td>0.00</td>\n",
       "      <td>abaxial</td>\n",
       "    </tr>\n",
       "    <tr>\n",
       "      <th>4</th>\n",
       "      <td>0.000</td>\n",
       "      <td>0.00</td>\n",
       "      <td>ventral</td>\n",
       "    </tr>\n",
       "  </tbody>\n",
       "</table>\n",
       "</div>"
      ],
      "text/plain": [
       "   PosScore  NegScore SynsetTerms\n",
       "0     0.125      0.00        able\n",
       "1     0.000      0.75      unable\n",
       "2     0.000      0.00      dorsal\n",
       "3     0.000      0.00     abaxial\n",
       "4     0.000      0.00     ventral"
      ]
     },
     "execution_count": 5,
     "metadata": {},
     "output_type": "execute_result"
    }
   ],
   "source": [
    "sentiment_lexicon_path = \"../sentiwordnet/SentiWordNet_3.0.0.txt\"\n",
    "df = pd.read_csv(sentiment_lexicon_path, sep=\"\\t\", skiprows=25, skipfooter=1, engine=\"python\")\n",
    "\n",
    "def parse_synset_terms(row):\n",
    "    words = row.split()\n",
    "    words = [word.split('#')[0] for word in words]\n",
    "    return words\n",
    "\n",
    "df['SynsetTerms'] = df['SynsetTerms'].apply(parse_synset_terms)\n",
    "df = df.explode('SynsetTerms').reset_index(drop=True)\n",
    "df[[\"PosScore\", \"NegScore\", \"SynsetTerms\"]].head()"
   ]
  },
  {
   "cell_type": "markdown",
   "id": "2b30e0cb",
   "metadata": {},
   "source": [
    "Compute sentiment score for lexicon"
   ]
  },
  {
   "cell_type": "code",
   "execution_count": 6,
   "id": "365582cf",
   "metadata": {},
   "outputs": [],
   "source": [
    "sentiment = dict(zip(df.SynsetTerms, round(df.PosScore - df.NegScore,5)))"
   ]
  },
  {
   "cell_type": "markdown",
   "id": "c1e87e20",
   "metadata": {},
   "source": [
    "Infer sentiment score for validation data"
   ]
  },
  {
   "cell_type": "code",
   "execution_count": 7,
   "id": "ca309797",
   "metadata": {},
   "outputs": [],
   "source": [
    "def model(articles_content, lexicon):\n",
    "    \"\"\"\n",
    "    Infer the sentiment prediction for articles on their content, according to lexicon of sentiments\n",
    "    Args:\n",
    "        articles_content: dict(), dictionary of (article-title: article-content) pairs\n",
    "        lexicon: dict(), dictionary of (word: sentiment) pairs, with sentiment a sentiment score\n",
    "    Returns:\n",
    "        dict(), dictionary of (article-title: average-score) pairs\n",
    "    \"\"\"\n",
    "    article_scores = {}\n",
    "\n",
    "    for title, content in articles_content.items():\n",
    "        words = content.split()\n",
    "        word_scores = [lexicon[word] for word in words if word in lexicon]\n",
    "        average_score = sum(word_scores) / len(word_scores) if len(word_scores) > 0 else None\n",
    "        article_scores[title] = average_score\n",
    "\n",
    "    return article_scores"
   ]
  },
  {
   "cell_type": "code",
   "execution_count": 8,
   "id": "15491a0f",
   "metadata": {},
   "outputs": [],
   "source": [
    "validation_content = dict(zip(list(validation.index), [None]*len(validation)))\n",
    "for k in validation_content.keys():\n",
    "    validation_content[k] = content[k]"
   ]
  },
  {
   "cell_type": "code",
   "execution_count": 9,
   "id": "18587d40",
   "metadata": {},
   "outputs": [],
   "source": [
    "scores = model(validation_content, sentiment)"
   ]
  },
  {
   "cell_type": "code",
   "execution_count": 10,
   "id": "f31761be",
   "metadata": {},
   "outputs": [],
   "source": [
    "validation[\"prediction\"] = scores.values()"
   ]
  },
  {
   "cell_type": "code",
   "execution_count": 11,
   "id": "0d6c6a62",
   "metadata": {},
   "outputs": [
    {
     "data": {
      "text/html": [
       "<div>\n",
       "<style scoped>\n",
       "    .dataframe tbody tr th:only-of-type {\n",
       "        vertical-align: middle;\n",
       "    }\n",
       "\n",
       "    .dataframe tbody tr th {\n",
       "        vertical-align: top;\n",
       "    }\n",
       "\n",
       "    .dataframe thead th {\n",
       "        text-align: right;\n",
       "    }\n",
       "</style>\n",
       "<table border=\"1\" class=\"dataframe\">\n",
       "  <thead>\n",
       "    <tr style=\"text-align: right;\">\n",
       "      <th></th>\n",
       "      <th>sentiment</th>\n",
       "      <th>prediction</th>\n",
       "    </tr>\n",
       "    <tr>\n",
       "      <th>article</th>\n",
       "      <th></th>\n",
       "      <th></th>\n",
       "    </tr>\n",
       "  </thead>\n",
       "  <tbody>\n",
       "    <tr>\n",
       "      <th>1755_Lisbon_earthquake</th>\n",
       "      <td>-1</td>\n",
       "      <td>-0.050156</td>\n",
       "    </tr>\n",
       "    <tr>\n",
       "      <th>1896_Summer_Olympics</th>\n",
       "      <td>1</td>\n",
       "      <td>-0.006281</td>\n",
       "    </tr>\n",
       "    <tr>\n",
       "      <th>1997_Pacific_hurricane_season</th>\n",
       "      <td>-1</td>\n",
       "      <td>-0.037893</td>\n",
       "    </tr>\n",
       "    <tr>\n",
       "      <th>Actinium</th>\n",
       "      <td>0</td>\n",
       "      <td>-0.005826</td>\n",
       "    </tr>\n",
       "    <tr>\n",
       "      <th>Barracuda</th>\n",
       "      <td>-1</td>\n",
       "      <td>-0.002747</td>\n",
       "    </tr>\n",
       "  </tbody>\n",
       "</table>\n",
       "</div>"
      ],
      "text/plain": [
       "                               sentiment  prediction\n",
       "article                                             \n",
       "1755_Lisbon_earthquake                -1   -0.050156\n",
       "1896_Summer_Olympics                   1   -0.006281\n",
       "1997_Pacific_hurricane_season         -1   -0.037893\n",
       "Actinium                               0   -0.005826\n",
       "Barracuda                             -1   -0.002747"
      ]
     },
     "execution_count": 11,
     "metadata": {},
     "output_type": "execute_result"
    }
   ],
   "source": [
    "validation.head()"
   ]
  },
  {
   "cell_type": "code",
   "execution_count": 12,
   "id": "8c5e215d",
   "metadata": {},
   "outputs": [
    {
     "name": "stdout",
     "output_type": "stream",
     "text": [
      "Number of correct prediction signs:\n",
      "15 / 35\n"
     ]
    }
   ],
   "source": [
    "print(\"Number of correct prediction signs:\")\n",
    "print(sum((validation[\"sentiment\"] * validation[\"prediction\"]) > 0), \"/\", len(validation))"
   ]
  },
  {
   "cell_type": "markdown",
   "id": "885e902e",
   "metadata": {},
   "source": [
    "We also tried correcting the predictions by a bias (by adding a weighted average of the predictions), but we cannot do better than that. The model is therefore worse than a random classifier."
   ]
  },
  {
   "cell_type": "markdown",
   "id": "e1814552",
   "metadata": {},
   "source": [
    "### 2. Pattern"
   ]
  },
  {
   "cell_type": "code",
   "execution_count": 3,
   "id": "b8061547",
   "metadata": {
    "ExecuteTime": {
     "end_time": "2023-11-17T19:39:36.999489600Z",
     "start_time": "2023-11-17T19:39:36.978413800Z"
    }
   },
   "outputs": [
    {
     "data": {
      "text/plain": [
       "35"
      ]
     },
     "execution_count": 3,
     "metadata": {},
     "output_type": "execute_result"
    }
   ],
   "source": [
    "file_names = ['1755_Lisbon_earthquake','1896_Summer_Olympics','1997_Pacific_hurricane_season','Actinium','Barracuda','Basketball','Bath_School_disaster','Chicago','Chocolate','Diamond','Dice','Drinking_water','Duchenne_muscular_dystrophy','Geography_of_Ireland','Giraffe','Gunpowder','Osama_bin_Laden','Palm_oil','Peace','Pellagra','Phishing','Plant','Plato','Pneumonia','Poison_gas_in_World_War_I','Politics','Pollution','Red_Kite','Rice','Rio_de_Janeiro','Romeo_and_Juliet','Rugby_World_Cup','Rwandan_Genocide','Santa_Claus','Scooby-Doo']\n",
    "len(file_names)"
   ]
  },
  {
   "cell_type": "markdown",
   "id": "421b628e",
   "metadata": {},
   "source": [
    "#### Model Description\n",
    "Pattern is a multipurpose library that is capable of handling NLP operations, data mining, machine learning etc. It also contains sentiment analysis functionality which is suitable for our task.\n",
    "The `sentiment` function under `pattern.text.en` module is used to calculate the sentiment of a given text, it takes a sentence as input which can also be a string, Synset, word or document, and returns a (polarity, subjectivity)-tuple with polarity between -1.0 and +1.0 and subjectivity between 0.0 and 1.0. polarity describes the emotional leaning of the text, while subjectivity describes the strength of such emotion.\n",
    "\n",
    "In our usage the input is a string of the entire article loaded from the Wikispeedia dataset, In this case, it first tokenizes the text into words(punctuation, space and abbreviations are handled at this stage), then it Lowercases each word because sentiment analysis is case insensitive. Next it calculates the sentiment of each word by consulting the predefined sentiment [dictionary](https://github.com/clips/pattern/blob/master/pattern/text/en/en-sentiment.xml)(modifiers and negations are also considered at this time). Finally it returns the average of all the words as the sentiment of the text.\n",
    "\n",
    "Although similar to the above method, pattern is certainly a more complete method and it includes the subjectivity measure which is especially in the case of Wikipedia, as the articles are, after all, written by humans. More details can be found in the [official documentation](https://digiasset.org/html/pattern.html) and [repository](https://digiasset.org/html/pattern.html). "
   ]
  },
  {
   "cell_type": "markdown",
   "id": "24b69741",
   "metadata": {},
   "source": [
    "#### Method & Results"
   ]
  },
  {
   "cell_type": "code",
   "execution_count": 2,
   "id": "65b95a44",
   "metadata": {
    "ExecuteTime": {
     "end_time": "2023-11-17T19:39:11.522542100Z",
     "start_time": "2023-11-17T19:39:09.967253600Z"
    }
   },
   "outputs": [],
   "source": [
    "from pattern.text.en import sentiment"
   ]
  },
  {
   "cell_type": "code",
   "execution_count": 4,
   "id": "96686ad0",
   "metadata": {
    "ExecuteTime": {
     "end_time": "2023-11-17T19:43:26.148782800Z",
     "start_time": "2023-11-17T19:43:24.847825300Z"
    },
    "scrolled": true
   },
   "outputs": [
    {
     "name": "stdout",
     "output_type": "stream",
     "text": [
      "1755_Lisbon_earthquake: 0.0816923282902664\n",
      "1896_Summer_Olympics: 0.11173071331653418\n",
      "1997_Pacific_hurricane_season: 0.051366249491249474\n",
      "Actinium: 0.03542682926829269\n",
      "Barracuda: 0.1132213321465658\n",
      "Basketball: 0.08600218021995364\n",
      "Bath_School_disaster: 0.010679336219336222\n",
      "Chicago: 0.10564842500695483\n",
      "Chocolate: 0.07674311830989919\n",
      "Diamond: 0.12359236785162714\n",
      "Dice: -0.0001423413188119043\n",
      "Drinking_water: 0.12155415214866433\n",
      "Duchenne_muscular_dystrophy: 0.051342562953478464\n",
      "Geography_of_Ireland: 0.06101678376268537\n",
      "Giraffe: 0.04892030793508625\n",
      "Gunpowder: 0.01667841269841271\n",
      "Osama_bin_Laden: 0.04482218734525007\n",
      "Palm_oil: 0.10377811870669014\n",
      "Peace: 0.07109719189365207\n",
      "Pellagra: 0.013132859204287773\n",
      "Phishing: 0.03130031080031078\n",
      "Plant: 0.09383068133068131\n",
      "Plato: 0.16051446416831025\n",
      "Pneumonia: 0.05341062158293232\n",
      "Poison_gas_in_World_War_I: 0.08464027042373903\n",
      "Politics: 0.10395405509821987\n",
      "Pollution: 0.08715013543960917\n",
      "Red_Kite: 0.035212025919573085\n",
      "Rice: 0.08478642004761416\n",
      "Rio_de_Janeiro: 0.15940676171654442\n",
      "Romeo_and_Juliet: 0.08846829977782353\n",
      "Rugby_World_Cup: 0.09477842945584883\n",
      "Rwandan_Genocide: 0.05457812020169003\n",
      "Santa_Claus: 0.08992885441238731\n",
      "Scooby-Doo: 0.1352173090752449\n"
     ]
    }
   ],
   "source": [
    "for file_name in file_names:\n",
    "    with open('../data/plaintext_articles/'+file_name+'.txt', 'r', encoding='utf-8') as file:\n",
    "        data = file.read()\n",
    "        polarity, subjectivity = sentiment(data)\n",
    "        print(f\"{file_name}: {polarity}\")"
   ]
  },
  {
   "cell_type": "markdown",
   "id": "f5a5b31e",
   "metadata": {},
   "source": [
    "#### Discussion\n",
    "The performance of this model is generally not good compared to other models we tested, the possible reason could be that it uses a fixed sentiment dictionary which may contain bias between different domains. It's observed that the model tends to give a very small value between [0,0.1] despite the articles, a reason could be that Wikipedia articles are designed to be neutral and objective, It generally looks at problems dialectically and rarely produces strong emotions. However, in the range of this project, we care more about the sentiment level of the article (the word itself) rather than the way it is written, the model considers all the words on the page evenly and thus may produce results that are not what we expect.\n",
    "\n",
    "This is not the optimal model for our task, a ML-based approach is generally more flexible and powerful in this case."
   ]
  },
  {
   "cell_type": "markdown",
   "id": "f85f12ff",
   "metadata": {},
   "source": [
    "### 3. Vader"
   ]
  },
  {
   "cell_type": "markdown",
   "id": "3b00ebc4",
   "metadata": {},
   "source": [
    "#### Model description\n",
    "VADER (Valence Aware Dictionary and sEntiment Reasoner) is a sentiment analysis method attuned expressions from social media. This model classies the text into positive, neutral, and negative parts, then by leveraging lexicon and grammatical rules, from valence scores compute the 'compound score' which is normalized weighted composite score of the sentiment of the text.\n",
    "\n",
    "Utilizing NLTK, VADER takes into condsideration the text nuances, informal phrases, and even non-English text sentences."
   ]
  },
  {
   "cell_type": "code",
   "execution_count": 17,
   "id": "ffd84e1f",
   "metadata": {},
   "outputs": [],
   "source": [
    "from vaderSentiment.vaderSentiment import SentimentIntensityAnalyzer\n",
    "from tqdm.auto import tqdm\n",
    "from sentiment_analysis_3 import *"
   ]
  },
  {
   "cell_type": "markdown",
   "id": "c0ee042c",
   "metadata": {},
   "source": [
    "#### Load articles' titles and content"
   ]
  },
  {
   "cell_type": "code",
   "execution_count": 18,
   "id": "32a3c372",
   "metadata": {},
   "outputs": [],
   "source": [
    "articles = load_titles_3()\n",
    "content = load_html_3(articles)"
   ]
  },
  {
   "cell_type": "markdown",
   "id": "502bc737",
   "metadata": {},
   "source": [
    "#### Analysing the compound score"
   ]
  },
  {
   "cell_type": "code",
   "execution_count": 19,
   "id": "7f08b9db",
   "metadata": {},
   "outputs": [
    {
     "data": {
      "application/vnd.jupyter.widget-view+json": {
       "model_id": "d41bcf36b0d34e21a344bd964c1505fd",
       "version_major": 2,
       "version_minor": 0
      },
      "text/plain": [
       "0it [00:00, ?it/s]"
      ]
     },
     "metadata": {},
     "output_type": "display_data"
    }
   ],
   "source": [
    "scores = []\n",
    "analyzer = SentimentIntensityAnalyzer()\n",
    "for article_content in tqdm(content.iloc):\n",
    "    vs = analyzer.polarity_scores(article_content.content)\n",
    "    scores.append(vs['compound'])"
   ]
  },
  {
   "cell_type": "markdown",
   "id": "f827e208",
   "metadata": {},
   "source": [
    "#### Resulted scores"
   ]
  },
  {
   "cell_type": "code",
   "execution_count": 20,
   "id": "35bf2b9c",
   "metadata": {},
   "outputs": [
    {
     "data": {
      "text/html": [
       "<div>\n",
       "<style scoped>\n",
       "    .dataframe tbody tr th:only-of-type {\n",
       "        vertical-align: middle;\n",
       "    }\n",
       "\n",
       "    .dataframe tbody tr th {\n",
       "        vertical-align: top;\n",
       "    }\n",
       "\n",
       "    .dataframe thead th {\n",
       "        text-align: right;\n",
       "    }\n",
       "</style>\n",
       "<table border=\"1\" class=\"dataframe\">\n",
       "  <thead>\n",
       "    <tr style=\"text-align: right;\">\n",
       "      <th></th>\n",
       "      <th>title</th>\n",
       "      <th>score</th>\n",
       "    </tr>\n",
       "  </thead>\n",
       "  <tbody>\n",
       "    <tr>\n",
       "      <th>0</th>\n",
       "      <td>1755_Lisbon_earthquake</td>\n",
       "      <td>-0.9970</td>\n",
       "    </tr>\n",
       "    <tr>\n",
       "      <th>1</th>\n",
       "      <td>1896_Summer_Olympics</td>\n",
       "      <td>0.9999</td>\n",
       "    </tr>\n",
       "    <tr>\n",
       "      <th>2</th>\n",
       "      <td>1997_Pacific_hurricane_season</td>\n",
       "      <td>-0.9998</td>\n",
       "    </tr>\n",
       "    <tr>\n",
       "      <th>3</th>\n",
       "      <td>Actinium</td>\n",
       "      <td>-0.8792</td>\n",
       "    </tr>\n",
       "    <tr>\n",
       "      <th>4</th>\n",
       "      <td>Barracuda</td>\n",
       "      <td>0.9944</td>\n",
       "    </tr>\n",
       "    <tr>\n",
       "      <th>5</th>\n",
       "      <td>Basketball</td>\n",
       "      <td>0.9999</td>\n",
       "    </tr>\n",
       "    <tr>\n",
       "      <th>6</th>\n",
       "      <td>Bath_School_disaster</td>\n",
       "      <td>-0.9998</td>\n",
       "    </tr>\n",
       "    <tr>\n",
       "      <th>7</th>\n",
       "      <td>Chicago</td>\n",
       "      <td>0.9999</td>\n",
       "    </tr>\n",
       "    <tr>\n",
       "      <th>8</th>\n",
       "      <td>Chocolate</td>\n",
       "      <td>0.9996</td>\n",
       "    </tr>\n",
       "    <tr>\n",
       "      <th>9</th>\n",
       "      <td>Diamond</td>\n",
       "      <td>1.0000</td>\n",
       "    </tr>\n",
       "    <tr>\n",
       "      <th>10</th>\n",
       "      <td>Dice</td>\n",
       "      <td>-0.9998</td>\n",
       "    </tr>\n",
       "    <tr>\n",
       "      <th>11</th>\n",
       "      <td>Drinking_water</td>\n",
       "      <td>0.9890</td>\n",
       "    </tr>\n",
       "    <tr>\n",
       "      <th>12</th>\n",
       "      <td>Duchenne_muscular_dystrophy</td>\n",
       "      <td>-0.9924</td>\n",
       "    </tr>\n",
       "    <tr>\n",
       "      <th>13</th>\n",
       "      <td>Geography_of_Ireland</td>\n",
       "      <td>0.9853</td>\n",
       "    </tr>\n",
       "    <tr>\n",
       "      <th>14</th>\n",
       "      <td>Giraffe</td>\n",
       "      <td>0.9933</td>\n",
       "    </tr>\n",
       "    <tr>\n",
       "      <th>15</th>\n",
       "      <td>Gunpowder</td>\n",
       "      <td>-0.9935</td>\n",
       "    </tr>\n",
       "    <tr>\n",
       "      <th>16</th>\n",
       "      <td>Osama_bin_Laden</td>\n",
       "      <td>-0.9998</td>\n",
       "    </tr>\n",
       "    <tr>\n",
       "      <th>17</th>\n",
       "      <td>Palm_oil</td>\n",
       "      <td>0.9991</td>\n",
       "    </tr>\n",
       "    <tr>\n",
       "      <th>18</th>\n",
       "      <td>Peace</td>\n",
       "      <td>0.9999</td>\n",
       "    </tr>\n",
       "    <tr>\n",
       "      <th>19</th>\n",
       "      <td>Pellagra</td>\n",
       "      <td>-0.5844</td>\n",
       "    </tr>\n",
       "    <tr>\n",
       "      <th>20</th>\n",
       "      <td>Phishing</td>\n",
       "      <td>-0.9984</td>\n",
       "    </tr>\n",
       "    <tr>\n",
       "      <th>21</th>\n",
       "      <td>Plant</td>\n",
       "      <td>0.9950</td>\n",
       "    </tr>\n",
       "    <tr>\n",
       "      <th>22</th>\n",
       "      <td>Plato</td>\n",
       "      <td>0.9998</td>\n",
       "    </tr>\n",
       "    <tr>\n",
       "      <th>23</th>\n",
       "      <td>Pneumonia</td>\n",
       "      <td>-0.9995</td>\n",
       "    </tr>\n",
       "    <tr>\n",
       "      <th>24</th>\n",
       "      <td>Poison_gas_in_World_War_I</td>\n",
       "      <td>-1.0000</td>\n",
       "    </tr>\n",
       "    <tr>\n",
       "      <th>25</th>\n",
       "      <td>Politics</td>\n",
       "      <td>0.9996</td>\n",
       "    </tr>\n",
       "    <tr>\n",
       "      <th>26</th>\n",
       "      <td>Pollution</td>\n",
       "      <td>0.9968</td>\n",
       "    </tr>\n",
       "    <tr>\n",
       "      <th>27</th>\n",
       "      <td>Red_Kite</td>\n",
       "      <td>-0.9598</td>\n",
       "    </tr>\n",
       "    <tr>\n",
       "      <th>28</th>\n",
       "      <td>Rice</td>\n",
       "      <td>0.9997</td>\n",
       "    </tr>\n",
       "    <tr>\n",
       "      <th>29</th>\n",
       "      <td>Rio_de_Janeiro</td>\n",
       "      <td>0.9998</td>\n",
       "    </tr>\n",
       "    <tr>\n",
       "      <th>30</th>\n",
       "      <td>Romeo_and_Juliet</td>\n",
       "      <td>0.9980</td>\n",
       "    </tr>\n",
       "    <tr>\n",
       "      <th>31</th>\n",
       "      <td>Rugby_World_Cup</td>\n",
       "      <td>0.9977</td>\n",
       "    </tr>\n",
       "    <tr>\n",
       "      <th>32</th>\n",
       "      <td>Rwandan_Genocide</td>\n",
       "      <td>-0.9999</td>\n",
       "    </tr>\n",
       "    <tr>\n",
       "      <th>33</th>\n",
       "      <td>Santa_Claus</td>\n",
       "      <td>0.9525</td>\n",
       "    </tr>\n",
       "    <tr>\n",
       "      <th>34</th>\n",
       "      <td>Scooby-Doo</td>\n",
       "      <td>0.9998</td>\n",
       "    </tr>\n",
       "  </tbody>\n",
       "</table>\n",
       "</div>"
      ],
      "text/plain": [
       "                            title   score\n",
       "0          1755_Lisbon_earthquake -0.9970\n",
       "1            1896_Summer_Olympics  0.9999\n",
       "2   1997_Pacific_hurricane_season -0.9998\n",
       "3                        Actinium -0.8792\n",
       "4                       Barracuda  0.9944\n",
       "5                      Basketball  0.9999\n",
       "6            Bath_School_disaster -0.9998\n",
       "7                         Chicago  0.9999\n",
       "8                       Chocolate  0.9996\n",
       "9                         Diamond  1.0000\n",
       "10                           Dice -0.9998\n",
       "11                 Drinking_water  0.9890\n",
       "12    Duchenne_muscular_dystrophy -0.9924\n",
       "13           Geography_of_Ireland  0.9853\n",
       "14                        Giraffe  0.9933\n",
       "15                      Gunpowder -0.9935\n",
       "16                Osama_bin_Laden -0.9998\n",
       "17                       Palm_oil  0.9991\n",
       "18                          Peace  0.9999\n",
       "19                       Pellagra -0.5844\n",
       "20                       Phishing -0.9984\n",
       "21                          Plant  0.9950\n",
       "22                          Plato  0.9998\n",
       "23                      Pneumonia -0.9995\n",
       "24      Poison_gas_in_World_War_I -1.0000\n",
       "25                       Politics  0.9996\n",
       "26                      Pollution  0.9968\n",
       "27                       Red_Kite -0.9598\n",
       "28                           Rice  0.9997\n",
       "29                 Rio_de_Janeiro  0.9998\n",
       "30               Romeo_and_Juliet  0.9980\n",
       "31                Rugby_World_Cup  0.9977\n",
       "32               Rwandan_Genocide -0.9999\n",
       "33                    Santa_Claus  0.9525\n",
       "34                     Scooby-Doo  0.9998"
      ]
     },
     "execution_count": 20,
     "metadata": {},
     "output_type": "execute_result"
    }
   ],
   "source": [
    "content['score'] = scores\n",
    "content.drop(columns='content')"
   ]
  },
  {
   "cell_type": "markdown",
   "id": "dcc93520",
   "metadata": {},
   "source": [
    "#### Discussion \n",
    "As can be inferred from the prediction, the model is good at correctly splitting the articles into two separate clusters, with a quite impressive squared error of 0.2. However, the obtained scores are quite extreme, making it impractical to infer the intensity of the negative or positive sense of each article. This could be attributed to the prevalence of neutral words, causing smaller differences between negative and positive counterparts."
   ]
  },
  {
   "cell_type": "markdown",
   "id": "0478d252",
   "metadata": {},
   "source": [
    "### 4. LIWC\n",
    "#### Model Description\n",
    "\n",
    "Linguistic Inquiry and Word Count (LIWC) is a sentiment analysis model based on over 100 dictionaries. In each of these dictionaries, words are assiociated with psychological state, as positive, negative, but also moralization and cognitive process for example. LIWC analyzes each word and compare it with the dictionnaries, to output the percentage of word that belong to each category. In our case, only the 'positive tone' and 'negative tone' category are of interest.\n",
    "\n",
    "#### Method & Results\n",
    "\n",
    "The free LIWC demo version has a 5000 character limit, so the first step is to divide the text in several chunks that can be run through the demo.\n",
    "\n",
    "Note: for clarity we leave the main pipelines in the notebook ```sentiment_analysis_4.ipynb```. Here we load the predictions directly."
   ]
  },
  {
   "cell_type": "code",
   "execution_count": 36,
   "id": "8dd09e5a",
   "metadata": {},
   "outputs": [],
   "source": [
    "preds = pd.read_csv('./tmp/finalscore.csv',header=None)"
   ]
  },
  {
   "cell_type": "code",
   "execution_count": 41,
   "id": "7f48e1ce",
   "metadata": {},
   "outputs": [
    {
     "data": {
      "text/html": [
       "<div>\n",
       "<style scoped>\n",
       "    .dataframe tbody tr th:only-of-type {\n",
       "        vertical-align: middle;\n",
       "    }\n",
       "\n",
       "    .dataframe tbody tr th {\n",
       "        vertical-align: top;\n",
       "    }\n",
       "\n",
       "    .dataframe thead th {\n",
       "        text-align: right;\n",
       "    }\n",
       "</style>\n",
       "<table border=\"1\" class=\"dataframe\">\n",
       "  <thead>\n",
       "    <tr style=\"text-align: right;\">\n",
       "      <th></th>\n",
       "      <th>0</th>\n",
       "    </tr>\n",
       "  </thead>\n",
       "  <tbody>\n",
       "    <tr>\n",
       "      <th>0</th>\n",
       "      <td>-0.324</td>\n",
       "    </tr>\n",
       "    <tr>\n",
       "      <th>1</th>\n",
       "      <td>0.792</td>\n",
       "    </tr>\n",
       "    <tr>\n",
       "      <th>2</th>\n",
       "      <td>-0.703</td>\n",
       "    </tr>\n",
       "    <tr>\n",
       "      <th>3</th>\n",
       "      <td>-0.856</td>\n",
       "    </tr>\n",
       "    <tr>\n",
       "      <th>4</th>\n",
       "      <td>0.223</td>\n",
       "    </tr>\n",
       "    <tr>\n",
       "      <th>5</th>\n",
       "      <td>0.356</td>\n",
       "    </tr>\n",
       "    <tr>\n",
       "      <th>6</th>\n",
       "      <td>-0.538</td>\n",
       "    </tr>\n",
       "    <tr>\n",
       "      <th>7</th>\n",
       "      <td>0.682</td>\n",
       "    </tr>\n",
       "    <tr>\n",
       "      <th>8</th>\n",
       "      <td>0.263</td>\n",
       "    </tr>\n",
       "    <tr>\n",
       "      <th>9</th>\n",
       "      <td>0.638</td>\n",
       "    </tr>\n",
       "    <tr>\n",
       "      <th>10</th>\n",
       "      <td>0.405</td>\n",
       "    </tr>\n",
       "    <tr>\n",
       "      <th>11</th>\n",
       "      <td>0.683</td>\n",
       "    </tr>\n",
       "    <tr>\n",
       "      <th>12</th>\n",
       "      <td>0.315</td>\n",
       "    </tr>\n",
       "    <tr>\n",
       "      <th>13</th>\n",
       "      <td>0.149</td>\n",
       "    </tr>\n",
       "    <tr>\n",
       "      <th>14</th>\n",
       "      <td>-0.090</td>\n",
       "    </tr>\n",
       "    <tr>\n",
       "      <th>15</th>\n",
       "      <td>-0.470</td>\n",
       "    </tr>\n",
       "    <tr>\n",
       "      <th>16</th>\n",
       "      <td>-0.440</td>\n",
       "    </tr>\n",
       "    <tr>\n",
       "      <th>17</th>\n",
       "      <td>0.585</td>\n",
       "    </tr>\n",
       "    <tr>\n",
       "      <th>18</th>\n",
       "      <td>0.423</td>\n",
       "    </tr>\n",
       "    <tr>\n",
       "      <th>19</th>\n",
       "      <td>-0.509</td>\n",
       "    </tr>\n",
       "    <tr>\n",
       "      <th>20</th>\n",
       "      <td>-0.493</td>\n",
       "    </tr>\n",
       "    <tr>\n",
       "      <th>21</th>\n",
       "      <td>0.421</td>\n",
       "    </tr>\n",
       "    <tr>\n",
       "      <th>22</th>\n",
       "      <td>0.391</td>\n",
       "    </tr>\n",
       "    <tr>\n",
       "      <th>23</th>\n",
       "      <td>-0.279</td>\n",
       "    </tr>\n",
       "    <tr>\n",
       "      <th>24</th>\n",
       "      <td>-0.747</td>\n",
       "    </tr>\n",
       "    <tr>\n",
       "      <th>25</th>\n",
       "      <td>0.071</td>\n",
       "    </tr>\n",
       "    <tr>\n",
       "      <th>26</th>\n",
       "      <td>-0.305</td>\n",
       "    </tr>\n",
       "    <tr>\n",
       "      <th>27</th>\n",
       "      <td>-0.478</td>\n",
       "    </tr>\n",
       "    <tr>\n",
       "      <th>28</th>\n",
       "      <td>0.525</td>\n",
       "    </tr>\n",
       "    <tr>\n",
       "      <th>29</th>\n",
       "      <td>0.706</td>\n",
       "    </tr>\n",
       "    <tr>\n",
       "      <th>30</th>\n",
       "      <td>0.388</td>\n",
       "    </tr>\n",
       "    <tr>\n",
       "      <th>31</th>\n",
       "      <td>0.835</td>\n",
       "    </tr>\n",
       "    <tr>\n",
       "      <th>32</th>\n",
       "      <td>-0.668</td>\n",
       "    </tr>\n",
       "    <tr>\n",
       "      <th>33</th>\n",
       "      <td>0.573</td>\n",
       "    </tr>\n",
       "    <tr>\n",
       "      <th>34</th>\n",
       "      <td>0.645</td>\n",
       "    </tr>\n",
       "  </tbody>\n",
       "</table>\n",
       "</div>"
      ],
      "text/plain": [
       "        0\n",
       "0  -0.324\n",
       "1   0.792\n",
       "2  -0.703\n",
       "3  -0.856\n",
       "4   0.223\n",
       "5   0.356\n",
       "6  -0.538\n",
       "7   0.682\n",
       "8   0.263\n",
       "9   0.638\n",
       "10  0.405\n",
       "11  0.683\n",
       "12  0.315\n",
       "13  0.149\n",
       "14 -0.090\n",
       "15 -0.470\n",
       "16 -0.440\n",
       "17  0.585\n",
       "18  0.423\n",
       "19 -0.509\n",
       "20 -0.493\n",
       "21  0.421\n",
       "22  0.391\n",
       "23 -0.279\n",
       "24 -0.747\n",
       "25  0.071\n",
       "26 -0.305\n",
       "27 -0.478\n",
       "28  0.525\n",
       "29  0.706\n",
       "30  0.388\n",
       "31  0.835\n",
       "32 -0.668\n",
       "33  0.573\n",
       "34  0.645"
      ]
     },
     "execution_count": 41,
     "metadata": {},
     "output_type": "execute_result"
    }
   ],
   "source": [
    "preds"
   ]
  },
  {
   "cell_type": "markdown",
   "id": "df3bb7d1",
   "metadata": {},
   "source": [
    "#### Comparison\n",
    "\n",
    "The results are then compared to the expected results (manually evaluated). Both can be plotted on a graph to have a visualization of the accuracy of the model. The mean square error is then calculated."
   ]
  },
  {
   "cell_type": "code",
   "execution_count": 40,
   "id": "ce3cfe76",
   "metadata": {},
   "outputs": [
    {
     "name": "stdout",
     "output_type": "stream",
     "text": [
      "The mean square error of the model on the validation articles is 0.381691\n"
     ]
    },
    {
     "data": {
      "image/png": "[encoded data removed]",
      "text/plain": [
       "<Figure size 936x432 with 1 Axes>"
      ]
     },
     "metadata": {
      "needs_background": "light"
     },
     "output_type": "display_data"
    }
   ],
   "source": [
    "import matplotlib.pyplot as plt\n",
    "import numpy as np\n",
    "\n",
    "expected_score=np.array([-1,1,-1,0,-1,1,-1,0,1,1,0,1,-1,0,0,-1,-1,-1,1,-1,-1,0,0,-1,-1,0,-1,0,0,1,1,1,-1,1,1])\n",
    "model_score=np.array(preds).reshape(-1)\n",
    "\n",
    "errors=expected_score-model_score\n",
    "\n",
    "x=np.arange(len(expected_score))\n",
    "\n",
    "fig,ax=plt.subplots(1,figsize=(13,6))\n",
    "\n",
    "ax.scatter(x,expected_score,label='Expected score')\n",
    "ax.scatter(x,model_score,label='Model score')\n",
    "\n",
    "for i in range(len(x)):\n",
    "    ax.plot([x[i],x[i]],[expected_score[i],model_score[i]],color='gray',linestyle='--',linewidth=1)\n",
    "\n",
    "ax.set_xticklabels([])\n",
    "ax.legend()\n",
    "\n",
    "mse=np.mean(np.square(errors))\n",
    "\n",
    "print(f'The mean square error of the model on the validation articles is {mse}')"
   ]
  },
  {
   "cell_type": "markdown",
   "id": "35edba79",
   "metadata": {},
   "source": [
    "In conclusion: this model is already much better than the previous ones."
   ]
  },
  {
   "cell_type": "markdown",
   "id": "4ff874e7",
   "metadata": {},
   "source": [
    "### 5. Roberta for sentiment analysis\n",
    "\n",
    "For practical purposes, we do not run Roberta in this notebook. We have done it in a machine with sufficient memory to infer the predictions on the validation data, which we load and show below. The notebook used is ```sentiment_analysis_5.ipynb```."
   ]
  },
  {
   "cell_type": "code",
   "execution_count": 42,
   "id": "b692d6e5",
   "metadata": {},
   "outputs": [],
   "source": [
    "preds = np.array([-0.75, 0.62, -0.71, -0.85, 0.42, 0.56, -0.81, 0.65, 0.42, 0.58, 0.57, 0.21, -0.62, -0.44, 0.36, -0.64, -0.8, 0.58, 0.53, -0.86, -1, 0.43, 0.43, -0.93, -0.94, 0.39, -0.82, -0.55, 0.49, 0.86, -0.53, 0.65, -0.96, 0.61, 0.58])"
   ]
  },
  {
   "cell_type": "code",
   "execution_count": 43,
   "id": "d0cfbf9e",
   "metadata": {},
   "outputs": [
    {
     "name": "stdout",
     "output_type": "stream",
     "text": [
      "The mean square error of the model on the validation articles is 0.35532857142857144\n"
     ]
    },
    {
     "data": {
      "image/png": "[encoded data removed]",
      "text/plain": [
       "<Figure size 936x432 with 1 Axes>"
      ]
     },
     "metadata": {
      "needs_background": "light"
     },
     "output_type": "display_data"
    }
   ],
   "source": [
    "expected_score=np.array([-1,1,-1,0,-1,1,-1,0,1,1,0,1,-1,0,0,-1,-1,-1,1,-1,-1,0,0,-1,-1,0,-1,0,0,1,1,1,-1,1,1])\n",
    "model_score=preds\n",
    "\n",
    "errors=expected_score-model_score\n",
    "\n",
    "x=np.arange(len(expected_score))\n",
    "\n",
    "fig,ax=plt.subplots(1,figsize=(13,6))\n",
    "\n",
    "ax.scatter(x,expected_score,label='Expected score')\n",
    "ax.scatter(x,model_score,label='Model score')\n",
    "\n",
    "for i in range(len(x)):\n",
    "    ax.plot([x[i],x[i]],[expected_score[i],model_score[i]],color='gray',linestyle='--',linewidth=1)\n",
    "\n",
    "ax.set_xticklabels([])\n",
    "ax.legend()\n",
    "\n",
    "mse=np.mean(np.square(errors))\n",
    "\n",
    "print(f'The mean square error of the model on the validation articles is {mse}')"
   ]
  },
  {
   "cell_type": "markdown",
   "id": "d0e5f71b",
   "metadata": {},
   "source": [
    "Visually, Roberta seems to be similar to the previous LIWC model. Indeed, the bars larger than 1 (the ones that \"invert\" the sentiment of the article) are equally present in this plot compared to the previous one. However, the MSE is slightly lower, so we should perhaps use this model as the inference for the sentiment."
   ]
  },
  {
   "cell_type": "markdown",
   "id": "82a192e7",
   "metadata": {},
   "source": [
    "# II. Some initial analyses and initial loading pipelines for player paths\n",
    "In order to run this part, you need to download the `wikispeedia_paths-and-graph.tar.gz` and `wikispeedia_articles_plaintext.tar.gz` from [here](https://snap.stanford.edu/data/wikispeedia.html) , extract them and put them in the ```data``` folder which should be in the same folder as this project.\n",
    "### 1. Load and reformat the data"
   ]
  },
  {
   "cell_type": "code",
   "execution_count": 5,
   "id": "ed9c43ac",
   "metadata": {
    "ExecuteTime": {
     "end_time": "2023-11-17T19:45:18.220735Z",
     "start_time": "2023-11-17T19:45:18.154441700Z"
    }
   },
   "outputs": [],
   "source": [
    "import pandas as pd"
   ]
  },
  {
   "cell_type": "markdown",
   "id": "5b27e62803a6acb2",
   "metadata": {},
   "source": [
    "Loading the data of finished path"
   ]
  },
  {
   "cell_type": "code",
   "execution_count": 7,
   "id": "5aba0a7d0b813212",
   "metadata": {
    "ExecuteTime": {
     "end_time": "2023-11-17T19:46:47.169902300Z",
     "start_time": "2023-11-17T19:46:47.086425500Z"
    }
   },
   "outputs": [
    {
     "data": {
      "text/html": [
       "<div>\n",
       "<style scoped>\n",
       "    .dataframe tbody tr th:only-of-type {\n",
       "        vertical-align: middle;\n",
       "    }\n",
       "\n",
       "    .dataframe tbody tr th {\n",
       "        vertical-align: top;\n",
       "    }\n",
       "\n",
       "    .dataframe thead th {\n",
       "        text-align: right;\n",
       "    }\n",
       "</style>\n",
       "<table border=\"1\" class=\"dataframe\">\n",
       "  <thead>\n",
       "    <tr style=\"text-align: right;\">\n",
       "      <th></th>\n",
       "      <th>hashedIpAddress</th>\n",
       "      <th>timestamp</th>\n",
       "      <th>durationInSec</th>\n",
       "      <th>path</th>\n",
       "      <th>rating</th>\n",
       "      <th>target</th>\n",
       "      <th>type</th>\n",
       "    </tr>\n",
       "  </thead>\n",
       "  <tbody>\n",
       "    <tr>\n",
       "      <th>0</th>\n",
       "      <td>6a3701d319fc3754</td>\n",
       "      <td>1297740409</td>\n",
       "      <td>166</td>\n",
       "      <td>14th_century;15th_century;16th_century;Pacific...</td>\n",
       "      <td>NaN</td>\n",
       "      <td>African_slave_trade</td>\n",
       "      <td>finished</td>\n",
       "    </tr>\n",
       "    <tr>\n",
       "      <th>1</th>\n",
       "      <td>3824310e536af032</td>\n",
       "      <td>1344753412</td>\n",
       "      <td>88</td>\n",
       "      <td>14th_century;Europe;Africa;Atlantic_slave_trad...</td>\n",
       "      <td>3.0</td>\n",
       "      <td>African_slave_trade</td>\n",
       "      <td>finished</td>\n",
       "    </tr>\n",
       "    <tr>\n",
       "      <th>2</th>\n",
       "      <td>415612e93584d30e</td>\n",
       "      <td>1349298640</td>\n",
       "      <td>138</td>\n",
       "      <td>14th_century;Niger;Nigeria;British_Empire;Slav...</td>\n",
       "      <td>NaN</td>\n",
       "      <td>African_slave_trade</td>\n",
       "      <td>finished</td>\n",
       "    </tr>\n",
       "    <tr>\n",
       "      <th>3</th>\n",
       "      <td>64dd5cd342e3780c</td>\n",
       "      <td>1265613925</td>\n",
       "      <td>37</td>\n",
       "      <td>14th_century;Renaissance;Ancient_Greece;Greece</td>\n",
       "      <td>NaN</td>\n",
       "      <td>Greece</td>\n",
       "      <td>finished</td>\n",
       "    </tr>\n",
       "    <tr>\n",
       "      <th>4</th>\n",
       "      <td>015245d773376aab</td>\n",
       "      <td>1366730828</td>\n",
       "      <td>175</td>\n",
       "      <td>14th_century;Italy;Roman_Catholic_Church;HIV;R...</td>\n",
       "      <td>3.0</td>\n",
       "      <td>John_F._Kennedy</td>\n",
       "      <td>finished</td>\n",
       "    </tr>\n",
       "  </tbody>\n",
       "</table>\n",
       "</div>"
      ],
      "text/plain": [
       "    hashedIpAddress   timestamp  durationInSec  \\\n",
       "0  6a3701d319fc3754  1297740409            166   \n",
       "1  3824310e536af032  1344753412             88   \n",
       "2  415612e93584d30e  1349298640            138   \n",
       "3  64dd5cd342e3780c  1265613925             37   \n",
       "4  015245d773376aab  1366730828            175   \n",
       "\n",
       "                                                path  rating  \\\n",
       "0  14th_century;15th_century;16th_century;Pacific...     NaN   \n",
       "1  14th_century;Europe;Africa;Atlantic_slave_trad...     3.0   \n",
       "2  14th_century;Niger;Nigeria;British_Empire;Slav...     NaN   \n",
       "3     14th_century;Renaissance;Ancient_Greece;Greece     NaN   \n",
       "4  14th_century;Italy;Roman_Catholic_Church;HIV;R...     3.0   \n",
       "\n",
       "                target      type  \n",
       "0  African_slave_trade  finished  \n",
       "1  African_slave_trade  finished  \n",
       "2  African_slave_trade  finished  \n",
       "3               Greece  finished  \n",
       "4      John_F._Kennedy  finished  "
      ]
     },
     "execution_count": 7,
     "metadata": {},
     "output_type": "execute_result"
    }
   ],
   "source": [
    "file_path = '../data/paths_finished.tsv'\n",
    "df_finished = pd.read_csv(file_path, sep='\\t', header=None)\n",
    "cols = ['hashedIpAddress', 'timestamp', 'durationInSec', 'path', 'rating']\n",
    "df_finished.columns = cols\n",
    "df_finished['target'] = df_finished['path'].apply(lambda x: x.split(';')[-1])\n",
    "df_finished['type'] = 'finished'\n",
    "df_finished.head()"
   ]
  },
  {
   "cell_type": "markdown",
   "id": "d9fcb5aaf3948e81",
   "metadata": {},
   "source": [
    "Loading the data of unfinished path"
   ]
  },
  {
   "cell_type": "markdown",
   "id": "41877910850e322e",
   "metadata": {},
   "source": [
    "file_path = '../data/paths_unfinished.tsv'\n",
    "df_unfinished = pd.read_csv(file_path, sep='\\t', header=None)\n",
    "cols = ['hashedIpAddress', 'timestamp', 'durationInSec', 'path', 'target', 'type']\n",
    "df_unfinished.columns = cols\n",
    "df_unfinished.head()"
   ]
  },
  {
   "cell_type": "markdown",
   "id": "c2092da5ce96d61e",
   "metadata": {},
   "source": [
    "merge them together"
   ]
  },
  {
   "cell_type": "code",
   "execution_count": 10,
   "id": "c90c4edecd94a198",
   "metadata": {
    "ExecuteTime": {
     "end_time": "2023-11-17T19:48:02.614533700Z",
     "start_time": "2023-11-17T19:48:02.522621500Z"
    }
   },
   "outputs": [
    {
     "data": {
      "text/html": [
       "<div>\n",
       "<style scoped>\n",
       "    .dataframe tbody tr th:only-of-type {\n",
       "        vertical-align: middle;\n",
       "    }\n",
       "\n",
       "    .dataframe tbody tr th {\n",
       "        vertical-align: top;\n",
       "    }\n",
       "\n",
       "    .dataframe thead th {\n",
       "        text-align: right;\n",
       "    }\n",
       "</style>\n",
       "<table border=\"1\" class=\"dataframe\">\n",
       "  <thead>\n",
       "    <tr style=\"text-align: right;\">\n",
       "      <th></th>\n",
       "      <th>hashedIpAddress</th>\n",
       "      <th>timestamp</th>\n",
       "      <th>durationInSec</th>\n",
       "      <th>path</th>\n",
       "      <th>rating</th>\n",
       "      <th>target</th>\n",
       "      <th>type</th>\n",
       "      <th>start</th>\n",
       "    </tr>\n",
       "  </thead>\n",
       "  <tbody>\n",
       "    <tr>\n",
       "      <th>0</th>\n",
       "      <td>6a3701d319fc3754</td>\n",
       "      <td>1297740409</td>\n",
       "      <td>166</td>\n",
       "      <td>14th_century;15th_century;16th_century;Pacific...</td>\n",
       "      <td>NaN</td>\n",
       "      <td>African_slave_trade</td>\n",
       "      <td>finished</td>\n",
       "      <td>14th_century</td>\n",
       "    </tr>\n",
       "    <tr>\n",
       "      <th>1</th>\n",
       "      <td>3824310e536af032</td>\n",
       "      <td>1344753412</td>\n",
       "      <td>88</td>\n",
       "      <td>14th_century;Europe;Africa;Atlantic_slave_trad...</td>\n",
       "      <td>3.0</td>\n",
       "      <td>African_slave_trade</td>\n",
       "      <td>finished</td>\n",
       "      <td>14th_century</td>\n",
       "    </tr>\n",
       "    <tr>\n",
       "      <th>2</th>\n",
       "      <td>415612e93584d30e</td>\n",
       "      <td>1349298640</td>\n",
       "      <td>138</td>\n",
       "      <td>14th_century;Niger;Nigeria;British_Empire;Slav...</td>\n",
       "      <td>NaN</td>\n",
       "      <td>African_slave_trade</td>\n",
       "      <td>finished</td>\n",
       "      <td>14th_century</td>\n",
       "    </tr>\n",
       "    <tr>\n",
       "      <th>3</th>\n",
       "      <td>64dd5cd342e3780c</td>\n",
       "      <td>1265613925</td>\n",
       "      <td>37</td>\n",
       "      <td>14th_century;Renaissance;Ancient_Greece;Greece</td>\n",
       "      <td>NaN</td>\n",
       "      <td>Greece</td>\n",
       "      <td>finished</td>\n",
       "      <td>14th_century</td>\n",
       "    </tr>\n",
       "    <tr>\n",
       "      <th>4</th>\n",
       "      <td>015245d773376aab</td>\n",
       "      <td>1366730828</td>\n",
       "      <td>175</td>\n",
       "      <td>14th_century;Italy;Roman_Catholic_Church;HIV;R...</td>\n",
       "      <td>3.0</td>\n",
       "      <td>John_F._Kennedy</td>\n",
       "      <td>finished</td>\n",
       "      <td>14th_century</td>\n",
       "    </tr>\n",
       "  </tbody>\n",
       "</table>\n",
       "</div>"
      ],
      "text/plain": [
       "    hashedIpAddress   timestamp  durationInSec  \\\n",
       "0  6a3701d319fc3754  1297740409            166   \n",
       "1  3824310e536af032  1344753412             88   \n",
       "2  415612e93584d30e  1349298640            138   \n",
       "3  64dd5cd342e3780c  1265613925             37   \n",
       "4  015245d773376aab  1366730828            175   \n",
       "\n",
       "                                                path  rating  \\\n",
       "0  14th_century;15th_century;16th_century;Pacific...     NaN   \n",
       "1  14th_century;Europe;Africa;Atlantic_slave_trad...     3.0   \n",
       "2  14th_century;Niger;Nigeria;British_Empire;Slav...     NaN   \n",
       "3     14th_century;Renaissance;Ancient_Greece;Greece     NaN   \n",
       "4  14th_century;Italy;Roman_Catholic_Church;HIV;R...     3.0   \n",
       "\n",
       "                target      type         start  \n",
       "0  African_slave_trade  finished  14th_century  \n",
       "1  African_slave_trade  finished  14th_century  \n",
       "2  African_slave_trade  finished  14th_century  \n",
       "3               Greece  finished  14th_century  \n",
       "4      John_F._Kennedy  finished  14th_century  "
      ]
     },
     "execution_count": 10,
     "metadata": {},
     "output_type": "execute_result"
    }
   ],
   "source": [
    "df = pd.concat([df_finished, df_unfinished], axis=0)\n",
    "df['start'] = df['path'].apply(lambda x: x.split(';')[0])\n",
    "df.head()"
   ]
  },
  {
   "cell_type": "markdown",
   "id": "d690280f2cc33bab",
   "metadata": {},
   "source": [
    "load the articles(nodes) and links between them(edges)"
   ]
  },
  {
   "cell_type": "code",
   "execution_count": 12,
   "id": "cbbac8c4abe499ba",
   "metadata": {
    "ExecuteTime": {
     "end_time": "2023-11-17T19:49:27.504602900Z",
     "start_time": "2023-11-17T19:49:27.450085300Z"
    }
   },
   "outputs": [
    {
     "data": {
      "text/html": [
       "<div>\n",
       "<style scoped>\n",
       "    .dataframe tbody tr th:only-of-type {\n",
       "        vertical-align: middle;\n",
       "    }\n",
       "\n",
       "    .dataframe tbody tr th {\n",
       "        vertical-align: top;\n",
       "    }\n",
       "\n",
       "    .dataframe thead th {\n",
       "        text-align: right;\n",
       "    }\n",
       "</style>\n",
       "<table border=\"1\" class=\"dataframe\">\n",
       "  <thead>\n",
       "    <tr style=\"text-align: right;\">\n",
       "      <th></th>\n",
       "      <th>0</th>\n",
       "      <th>1</th>\n",
       "    </tr>\n",
       "  </thead>\n",
       "  <tbody>\n",
       "    <tr>\n",
       "      <th>0</th>\n",
       "      <td>%C3%81ed%C3%A1n_mac_Gabr%C3%A1in</td>\n",
       "      <td>Bede</td>\n",
       "    </tr>\n",
       "    <tr>\n",
       "      <th>1</th>\n",
       "      <td>%C3%81ed%C3%A1n_mac_Gabr%C3%A1in</td>\n",
       "      <td>Columba</td>\n",
       "    </tr>\n",
       "    <tr>\n",
       "      <th>2</th>\n",
       "      <td>%C3%81ed%C3%A1n_mac_Gabr%C3%A1in</td>\n",
       "      <td>D%C3%A1l_Riata</td>\n",
       "    </tr>\n",
       "    <tr>\n",
       "      <th>3</th>\n",
       "      <td>%C3%81ed%C3%A1n_mac_Gabr%C3%A1in</td>\n",
       "      <td>Great_Britain</td>\n",
       "    </tr>\n",
       "    <tr>\n",
       "      <th>4</th>\n",
       "      <td>%C3%81ed%C3%A1n_mac_Gabr%C3%A1in</td>\n",
       "      <td>Ireland</td>\n",
       "    </tr>\n",
       "  </tbody>\n",
       "</table>\n",
       "</div>"
      ],
      "text/plain": [
       "                                  0               1\n",
       "0  %C3%81ed%C3%A1n_mac_Gabr%C3%A1in            Bede\n",
       "1  %C3%81ed%C3%A1n_mac_Gabr%C3%A1in         Columba\n",
       "2  %C3%81ed%C3%A1n_mac_Gabr%C3%A1in  D%C3%A1l_Riata\n",
       "3  %C3%81ed%C3%A1n_mac_Gabr%C3%A1in   Great_Britain\n",
       "4  %C3%81ed%C3%A1n_mac_Gabr%C3%A1in         Ireland"
      ]
     },
     "execution_count": 12,
     "metadata": {},
     "output_type": "execute_result"
    }
   ],
   "source": [
    "file_path = '../data/links.tsv'\n",
    "df_links = pd.read_csv(file_path, sep='\\t', header=None)\n",
    "df_links.head()"
   ]
  },
  {
   "cell_type": "code",
   "execution_count": 14,
   "id": "4a9e987d59615261",
   "metadata": {
    "ExecuteTime": {
     "end_time": "2023-11-17T19:50:20.716796600Z",
     "start_time": "2023-11-17T19:50:20.642169Z"
    }
   },
   "outputs": [],
   "source": [
    "articles = pd.read_csv('../data/articles.tsv', sep='\\t', header=None)"
   ]
  },
  {
   "cell_type": "markdown",
   "id": "e9a8396591837b53",
   "metadata": {},
   "source": [
    "### 2. Some Statistics and visualizations"
   ]
  },
  {
   "cell_type": "markdown",
   "id": "4bf93df4e5bacfa3",
   "metadata": {},
   "source": [
    "- basics"
   ]
  },
  {
   "cell_type": "code",
   "execution_count": 16,
   "id": "1b2f4a8b26f988e2",
   "metadata": {
    "ExecuteTime": {
     "end_time": "2023-11-17T19:51:12.197176700Z",
     "start_time": "2023-11-17T19:51:12.102364100Z"
    }
   },
   "outputs": [
    {
     "name": "stdout",
     "output_type": "stream",
     "text": [
      "Number of games played: 76193, with 67.35% finished rate\n",
      "Number of participated individuals: 20868\n",
      "Number of articles: 4604, 90.86% are covered in the game\n",
      "Number of edges: 119882, with average degree 26\n"
     ]
    }
   ],
   "source": [
    "print('Number of games played: {}, with {:.2f}% finished rate'.format(len(df), len(df_finished)/len(df)*100))\n",
    "print('Number of participated individuals: {}'.format(len(df['hashedIpAddress'].unique())))\n",
    "used_articles = set([item for sublist in df['path'].apply(lambda x: x.split(';')) for item in sublist])\n",
    "print('Number of articles: {}, {:.2f}% are covered in the game'.format(len(articles), len(used_articles)/len(articles)*100))\n",
    "print('Number of edges: {}, with average degree {:.0f}'.format(len(df_links), len(df_links)/len(articles)))"
   ]
  },
  {
   "cell_type": "markdown",
   "id": "b192703374a34a36",
   "metadata": {},
   "source": [
    "- Degree distribution analysis\n",
    "Consider that every edge is bidirectional because the user can go back through the back button."
   ]
  },
  {
   "cell_type": "code",
   "execution_count": 17,
   "id": "c747ea4e23fd27ed",
   "metadata": {
    "ExecuteTime": {
     "end_time": "2023-11-17T19:52:40.140513400Z",
     "start_time": "2023-11-17T19:52:39.799196300Z"
    }
   },
   "outputs": [
    {
     "data": {
      "text/html": [
       "<div>\n",
       "<style scoped>\n",
       "    .dataframe tbody tr th:only-of-type {\n",
       "        vertical-align: middle;\n",
       "    }\n",
       "\n",
       "    .dataframe tbody tr th {\n",
       "        vertical-align: top;\n",
       "    }\n",
       "\n",
       "    .dataframe thead th {\n",
       "        text-align: right;\n",
       "    }\n",
       "</style>\n",
       "<table border=\"1\" class=\"dataframe\">\n",
       "  <thead>\n",
       "    <tr style=\"text-align: right;\">\n",
       "      <th></th>\n",
       "      <th>degree_out</th>\n",
       "      <th>degree_in</th>\n",
       "      <th>degree</th>\n",
       "    </tr>\n",
       "  </thead>\n",
       "  <tbody>\n",
       "    <tr>\n",
       "      <th>count</th>\n",
       "      <td>4604.000000</td>\n",
       "      <td>4604.000000</td>\n",
       "      <td>4604.000000</td>\n",
       "    </tr>\n",
       "    <tr>\n",
       "      <th>mean</th>\n",
       "      <td>26.038662</td>\n",
       "      <td>26.038662</td>\n",
       "      <td>52.077324</td>\n",
       "    </tr>\n",
       "    <tr>\n",
       "      <th>std</th>\n",
       "      <td>24.201491</td>\n",
       "      <td>62.746827</td>\n",
       "      <td>78.551771</td>\n",
       "    </tr>\n",
       "    <tr>\n",
       "      <th>min</th>\n",
       "      <td>0.000000</td>\n",
       "      <td>0.000000</td>\n",
       "      <td>0.000000</td>\n",
       "    </tr>\n",
       "    <tr>\n",
       "      <th>25%</th>\n",
       "      <td>11.000000</td>\n",
       "      <td>2.000000</td>\n",
       "      <td>16.000000</td>\n",
       "    </tr>\n",
       "    <tr>\n",
       "      <th>50%</th>\n",
       "      <td>19.000000</td>\n",
       "      <td>8.000000</td>\n",
       "      <td>30.000000</td>\n",
       "    </tr>\n",
       "    <tr>\n",
       "      <th>75%</th>\n",
       "      <td>33.000000</td>\n",
       "      <td>25.000000</td>\n",
       "      <td>59.000000</td>\n",
       "    </tr>\n",
       "    <tr>\n",
       "      <th>max</th>\n",
       "      <td>294.000000</td>\n",
       "      <td>1551.000000</td>\n",
       "      <td>1845.000000</td>\n",
       "    </tr>\n",
       "  </tbody>\n",
       "</table>\n",
       "</div>"
      ],
      "text/plain": [
       "        degree_out    degree_in       degree\n",
       "count  4604.000000  4604.000000  4604.000000\n",
       "mean     26.038662    26.038662    52.077324\n",
       "std      24.201491    62.746827    78.551771\n",
       "min       0.000000     0.000000     0.000000\n",
       "25%      11.000000     2.000000    16.000000\n",
       "50%      19.000000     8.000000    30.000000\n",
       "75%      33.000000    25.000000    59.000000\n",
       "max     294.000000  1551.000000  1845.000000"
      ]
     },
     "execution_count": 17,
     "metadata": {},
     "output_type": "execute_result"
    }
   ],
   "source": [
    "import matplotlib.pyplot as plt\n",
    "import seaborn as sns\n",
    "\n",
    "# calculate the degree of each article\n",
    "articles.columns = ['article']\n",
    "# left join to get the degree of each article\n",
    "degree_out = df_links.groupby(0).count().reset_index()\n",
    "degree_out.columns = ['article', 'degree_out']\n",
    "degree_in = df_links.groupby(1).count().reset_index()\n",
    "degree_in.columns = ['article', 'degree_in']\n",
    "articles = articles.merge(degree_out, on='article', how='left').fillna(0).merge(degree_in, on='article', how='left').fillna(0)\n",
    "articles['degree'] = articles['degree_out'] + articles['degree_in']\n",
    "articles.describe()"
   ]
  },
  {
   "cell_type": "code",
   "execution_count": 18,
   "id": "6cde31f077f59d4c",
   "metadata": {
    "ExecuteTime": {
     "end_time": "2023-11-17T19:52:49.905311600Z",
     "start_time": "2023-11-17T19:52:49.850302500Z"
    }
   },
   "outputs": [
    {
     "data": {
      "text/html": [
       "<div>\n",
       "<style scoped>\n",
       "    .dataframe tbody tr th:only-of-type {\n",
       "        vertical-align: middle;\n",
       "    }\n",
       "\n",
       "    .dataframe tbody tr th {\n",
       "        vertical-align: top;\n",
       "    }\n",
       "\n",
       "    .dataframe thead th {\n",
       "        text-align: right;\n",
       "    }\n",
       "</style>\n",
       "<table border=\"1\" class=\"dataframe\">\n",
       "  <thead>\n",
       "    <tr style=\"text-align: right;\">\n",
       "      <th></th>\n",
       "      <th>article</th>\n",
       "      <th>degree_out</th>\n",
       "      <th>degree_in</th>\n",
       "      <th>degree</th>\n",
       "    </tr>\n",
       "  </thead>\n",
       "  <tbody>\n",
       "    <tr>\n",
       "      <th>4297</th>\n",
       "      <td>United_States</td>\n",
       "      <td>294.0</td>\n",
       "      <td>1551.0</td>\n",
       "      <td>1845.0</td>\n",
       "    </tr>\n",
       "    <tr>\n",
       "      <th>4293</th>\n",
       "      <td>United_Kingdom</td>\n",
       "      <td>168.0</td>\n",
       "      <td>972.0</td>\n",
       "      <td>1140.0</td>\n",
       "    </tr>\n",
       "    <tr>\n",
       "      <th>1433</th>\n",
       "      <td>Europe</td>\n",
       "      <td>159.0</td>\n",
       "      <td>933.0</td>\n",
       "      <td>1092.0</td>\n",
       "    </tr>\n",
       "    <tr>\n",
       "      <th>1568</th>\n",
       "      <td>France</td>\n",
       "      <td>85.0</td>\n",
       "      <td>959.0</td>\n",
       "      <td>1044.0</td>\n",
       "    </tr>\n",
       "    <tr>\n",
       "      <th>1385</th>\n",
       "      <td>England</td>\n",
       "      <td>172.0</td>\n",
       "      <td>751.0</td>\n",
       "      <td>923.0</td>\n",
       "    </tr>\n",
       "  </tbody>\n",
       "</table>\n",
       "</div>"
      ],
      "text/plain": [
       "             article  degree_out  degree_in  degree\n",
       "4297   United_States       294.0     1551.0  1845.0\n",
       "4293  United_Kingdom       168.0      972.0  1140.0\n",
       "1433          Europe       159.0      933.0  1092.0\n",
       "1568          France        85.0      959.0  1044.0\n",
       "1385         England       172.0      751.0   923.0"
      ]
     },
     "execution_count": 18,
     "metadata": {},
     "output_type": "execute_result"
    }
   ],
   "source": [
    "# print top 5 articles with highest degree\n",
    "articles.sort_values('degree', ascending=False).head()"
   ]
  },
  {
   "cell_type": "code",
   "execution_count": 19,
   "id": "4986559ceb781364",
   "metadata": {
    "ExecuteTime": {
     "end_time": "2023-11-17T19:52:56.671943900Z",
     "start_time": "2023-11-17T19:52:56.124238100Z"
    }
   },
   "outputs": [
    {
     "data": {
      "image/png": "[encoded data removed]",
      "text/plain": [
       "<Figure size 1000x600 with 1 Axes>"
      ]
     },
     "metadata": {},
     "output_type": "display_data"
    },
    {
     "data": {
      "image/png": "[encoded data removed]",
      "text/plain": [
       "<Figure size 640x480 with 1 Axes>"
      ]
     },
     "metadata": {},
     "output_type": "display_data"
    }
   ],
   "source": [
    "# plot the hist degree distribution with logy scale\n",
    "plt.figure(figsize=(10, 6))\n",
    "sns.histplot(articles['degree'], kde=False, bins=100)\n",
    "plt.yscale('log')\n",
    "plt.xlabel('degree')\n",
    "plt.ylabel('count')\n",
    "plt.title('Degree histogram')\n",
    "plt.show()\n",
    "\n",
    "sns.boxplot(articles['degree'])\n",
    "plt.xlabel('Degree')  \n",
    "plt.title('Degree Boxplot') \n",
    "plt.yscale('log')\n",
    "plt.show()"
   ]
  },
  {
   "cell_type": "markdown",
   "id": "5317811e5011a04e",
   "metadata": {},
   "source": [
    "- path length distribution anlysis"
   ]
  },
  {
   "cell_type": "code",
   "execution_count": 20,
   "id": "ffd49b5dc3554c6c",
   "metadata": {
    "ExecuteTime": {
     "end_time": "2023-11-17T19:53:38.689663700Z",
     "start_time": "2023-11-17T19:53:38.588171500Z"
    }
   },
   "outputs": [
    {
     "data": {
      "text/plain": [
       "count    76193.000000\n",
       "mean         6.248251\n",
       "std          5.115519\n",
       "min          1.000000\n",
       "25%          4.000000\n",
       "50%          5.000000\n",
       "75%          7.000000\n",
       "max        435.000000\n",
       "Name: path_length, dtype: float64"
      ]
     },
     "execution_count": 20,
     "metadata": {},
     "output_type": "execute_result"
    }
   ],
   "source": [
    "df['path_length'] = df['path'].apply(lambda x: len(x.split(';')))\n",
    "df['path_length'].describe()"
   ]
  },
  {
   "cell_type": "code",
   "execution_count": 21,
   "id": "c4f43db348e9244e",
   "metadata": {
    "ExecuteTime": {
     "end_time": "2023-11-17T19:53:45.731976900Z",
     "start_time": "2023-11-17T19:53:45.001451Z"
    }
   },
   "outputs": [
    {
     "data": {
      "image/png": "[encoded data removed]",
      "text/plain": [
       "<Figure size 1000x600 with 1 Axes>"
      ]
     },
     "metadata": {},
     "output_type": "display_data"
    },
    {
     "data": {
      "image/png": "[encoded data removed]",
      "text/plain": [
       "<Figure size 640x480 with 1 Axes>"
      ]
     },
     "metadata": {},
     "output_type": "display_data"
    },
    {
     "data": {
      "image/png": "[encoded data removed]",
      "text/plain": [
       "<Figure size 1000x600 with 1 Axes>"
      ]
     },
     "metadata": {},
     "output_type": "display_data"
    }
   ],
   "source": [
    "# plot the hist path length distribution and boxplot\n",
    "plt.figure(figsize=(10, 6))\n",
    "sns.histplot(df['path_length'], kde=False, bins=100)\n",
    "plt.yscale('log')\n",
    "plt.xlabel('path length')\n",
    "plt.ylabel('count')\n",
    "plt.title('Path length histogram')\n",
    "plt.show()\n",
    "\n",
    "sns.boxplot(df['path_length'])\n",
    "plt.xlabel('Path length')\n",
    "plt.title('Path length Boxplot')\n",
    "plt.yscale('log')\n",
    "plt.show()\n",
    "\n",
    "# 2 boxplot with finished and unfinished paths\n",
    "plt.figure(figsize=(10, 6))\n",
    "sns.boxplot(x='type', y='path_length', data=df)\n",
    "plt.yscale('log')\n",
    "plt.xlabel('Path type')\n",
    "plt.ylabel('Path length')\n",
    "plt.title('Path length Boxplot')\n",
    "plt.show()"
   ]
  },
  {
   "cell_type": "markdown",
   "id": "772a414ffca03c77",
   "metadata": {},
   "source": [
    "- relation between a frequently visited article it's degree\n",
    "For this we first calculate the frequency of each article in the paths, then we comparing with the degree of each article and calculate the correlation. the < value is substituted with the previous previous article in the path."
   ]
  },
  {
   "cell_type": "code",
   "execution_count": 22,
   "id": "97dc9dbe9aa93e9e",
   "metadata": {
    "ExecuteTime": {
     "end_time": "2023-11-17T19:56:11.070391500Z",
     "start_time": "2023-11-17T19:56:10.907510600Z"
    }
   },
   "outputs": [
    {
     "data": {
      "text/plain": [
       "count     4604.000000\n",
       "mean       103.404214\n",
       "std        339.894277\n",
       "min          0.000000\n",
       "25%         15.000000\n",
       "50%         34.000000\n",
       "75%         81.000000\n",
       "max      13617.000000\n",
       "Name: count, dtype: float64"
      ]
     },
     "execution_count": 22,
     "metadata": {},
     "output_type": "execute_result"
    }
   ],
   "source": [
    "def replace_lt_with_previous(article_path):\n",
    "    path_elements = article_path.split(';')\n",
    "    for i, element in enumerate(path_elements):\n",
    "        if element == '<' and i > 1:\n",
    "            path_elements[i] = path_elements[i-2]\n",
    "    return ';'.join(path_elements)\n",
    "\n",
    "df['path'] = df['path'].apply(replace_lt_with_previous)\n",
    "\n",
    "# count the frequency of each article\n",
    "article_freq = pd.DataFrame(df['path'].apply(lambda x: x.split(';')).explode().value_counts()).reset_index()\n",
    "articles_cnt = pd.merge( articles, article_freq, left_on='article', right_on='path', how='left').fillna(0)\n",
    "# drop path column\n",
    "articles_cnt.drop('path', axis=1, inplace=True)\n",
    "articles_cnt['count'].describe()"
   ]
  },
  {
   "cell_type": "code",
   "execution_count": 23,
   "id": "1dcbab5fe73b06d2",
   "metadata": {
    "ExecuteTime": {
     "end_time": "2023-11-17T19:56:20.270774Z",
     "start_time": "2023-11-17T19:56:18.034458700Z"
    }
   },
   "outputs": [
    {
     "data": {
      "image/png": "[encoded data removed]",
      "text/plain": [
       "<Figure size 600x600 with 3 Axes>"
      ]
     },
     "metadata": {},
     "output_type": "display_data"
    }
   ],
   "source": [
    "sns.jointplot(x='degree', y='count', data=articles_cnt, kind='reg')\n",
    "plt.xscale('log')\n",
    "plt.yscale('log')\n",
    "plt.show()"
   ]
  },
  {
   "cell_type": "code",
   "execution_count": 24,
   "id": "61d41183364ae167",
   "metadata": {
    "ExecuteTime": {
     "end_time": "2023-11-17T19:56:30.915323900Z",
     "start_time": "2023-11-17T19:56:30.881354600Z"
    }
   },
   "outputs": [
    {
     "data": {
      "text/plain": [
       "PearsonRResult(statistic=0.765211321722257, pvalue=0.0)"
      ]
     },
     "execution_count": 24,
     "metadata": {},
     "output_type": "execute_result"
    }
   ],
   "source": [
    "# test if the degree and count are correlated\n",
    "from scipy.stats import pearsonr\n",
    "pearsonr(articles_cnt['degree'], articles_cnt['count'])"
   ]
  },
  {
   "cell_type": "markdown",
   "id": "131b5f3a028e3a9e",
   "metadata": {},
   "source": [
    "It's obvious that the degree and count are highly correlated, which means that the higher degree it has, the more he frequent an article is visited in the game"
   ]
  },
  {
   "cell_type": "markdown",
   "id": "312243a6c5230e88",
   "metadata": {},
   "source": [
    "- analysis of the the path length in the game and the theoretical shortest path length\n",
    "we only consider the finished paths here because we don't know how long will it expected to be when the unfinished path is completed.\n",
    "*it's noticed that there is one row in the game that the user can finish it by one click but the shortest path length is none according to the data, the reason of that has to be investigated later*"
   ]
  },
  {
   "cell_type": "code",
   "execution_count": 25,
   "id": "654cb2fb25b18091",
   "metadata": {
    "ExecuteTime": {
     "end_time": "2023-11-17T20:04:10.580506700Z",
     "start_time": "2023-11-17T20:03:29.256491700Z"
    }
   },
   "outputs": [],
   "source": [
    "file_path = '../data/shortest-path-distance-matrix.txt'\n",
    "df_shortest_path = pd.read_csv(file_path, sep='\\t', header=None)\n",
    "\n",
    "\n",
    "def find_p(row):\n",
    "    start_idx = articles[articles['article'] == row['start']].index\n",
    "    target_idx = articles[articles['article'] == row['target']].index\n",
    "    if(row['type'] != 'finished'):\n",
    "        return -1\n",
    "    if not start_idx.empty and not target_idx.empty:\n",
    "\n",
    "        start_idx = start_idx[0]\n",
    "        target_idx = target_idx[0]\n",
    "\n",
    "        s = df_shortest_path.iloc[start_idx][0]\n",
    "\n",
    "        return 0 if s[target_idx] == '_' else int(s[target_idx])\n",
    "    else:\n",
    "        print(row['start'], row['target'],row['type'],row['path'])\n",
    "        return 0\n",
    "\n",
    "df['shortest_path'] = df.apply(find_p, axis=1)"
   ]
  },
  {
   "cell_type": "code",
   "execution_count": 26,
   "id": "549157af6de2d3",
   "metadata": {
    "ExecuteTime": {
     "end_time": "2023-11-17T20:04:19.687733600Z",
     "start_time": "2023-11-17T20:04:15.579865500Z"
    }
   },
   "outputs": [
    {
     "data": {
      "text/plain": [
       "PearsonRResult(statistic=0.20097957001845854, pvalue=0.0)"
      ]
     },
     "execution_count": 26,
     "metadata": {},
     "output_type": "execute_result"
    },
    {
     "data": {
      "image/png": "[encoded data removed]",
      "text/plain": [
       "<Figure size 600x600 with 3 Axes>"
      ]
     },
     "metadata": {},
     "output_type": "display_data"
    }
   ],
   "source": [
    "sns.jointplot(x='shortest_path', y='path_length', data=df[df['type'] == 'finished'], kind='reg')\n",
    "\n",
    "pearsonr(df['shortest_path'], df['path_length'])"
   ]
  },
  {
   "cell_type": "markdown",
   "id": "6f46b312f08ade6e",
   "metadata": {},
   "source": []
  },
  {
   "cell_type": "markdown",
   "id": "5e1c55f3702b4b47",
   "metadata": {},
   "source": []
  }
 ],
 "metadata": {
  "kernelspec": {
   "display_name": "Python 3 (ipykernel)",
   "language": "python",
   "name": "python3"
  },
  "language_info": {
   "codemirror_mode": {
    "name": "ipython",
    "version": 3
   },
   "file_extension": ".py",
   "mimetype": "text/x-python",
   "name": "python",
   "nbconvert_exporter": "python",
   "pygments_lexer": "ipython3",
   "version": "3.9.7"
  }
 },
 "nbformat": 4,
 "nbformat_minor": 5
}
