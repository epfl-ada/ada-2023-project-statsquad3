{
 "cells": [
  {
   "cell_type": "code",
   "execution_count": 44,
   "id": "7c09161e",
   "metadata": {},
   "outputs": [],
   "source": [
    "from sentiment_analysis_1 import *\n",
    "import pandas as pd"
   ]
  },
  {
   "cell_type": "code",
   "execution_count": 47,
   "id": "5a8ced3f",
   "metadata": {},
   "outputs": [],
   "source": [
    "articles = load_titles()"
   ]
  },
  {
   "cell_type": "code",
   "execution_count": 48,
   "id": "8e5a3d00",
   "metadata": {},
   "outputs": [
    {
     "name": "stdout",
     "output_type": "stream",
     "text": [
      "4604 articles found\n"
     ]
    }
   ],
   "source": [
    "print(len(articles), \"articles found\")"
   ]
  },
  {
   "cell_type": "code",
   "execution_count": 49,
   "id": "aa453670",
   "metadata": {},
   "outputs": [],
   "source": [
    "content = load_html(articles)"
   ]
  },
  {
   "cell_type": "code",
   "execution_count": 50,
   "id": "abc8929a",
   "metadata": {},
   "outputs": [
    {
     "data": {
      "text/plain": [
       "{'\\n'}"
      ]
     },
     "execution_count": 50,
     "metadata": {},
     "output_type": "execute_result"
    }
   ],
   "source": [
    "set(content[k][0] for k in content.keys())"
   ]
  },
  {
   "cell_type": "markdown",
   "id": "2c176b43",
   "metadata": {},
   "source": [
    "load sentiment data"
   ]
  },
  {
   "cell_type": "code",
   "execution_count": 51,
   "id": "32ab493f",
   "metadata": {},
   "outputs": [],
   "source": [
    "sentiment_lexicon_path = \"../sentiwordnet/SentiWordNet_3.0.0.txt\"\n",
    "df = pd.read_csv(sentiment_lexicon_path, sep=\"\\t\", skiprows=25, skipfooter=1, engine=\"python\")"
   ]
  },
  {
   "cell_type": "code",
   "execution_count": 52,
   "id": "034c7579",
   "metadata": {},
   "outputs": [
    {
     "data": {
      "text/html": [
       "<div>\n",
       "<style scoped>\n",
       "    .dataframe tbody tr th:only-of-type {\n",
       "        vertical-align: middle;\n",
       "    }\n",
       "\n",
       "    .dataframe tbody tr th {\n",
       "        vertical-align: top;\n",
       "    }\n",
       "\n",
       "    .dataframe thead th {\n",
       "        text-align: right;\n",
       "    }\n",
       "</style>\n",
       "<table border=\"1\" class=\"dataframe\">\n",
       "  <thead>\n",
       "    <tr style=\"text-align: right;\">\n",
       "      <th></th>\n",
       "      <th># POS</th>\n",
       "      <th>ID</th>\n",
       "      <th>PosScore</th>\n",
       "      <th>NegScore</th>\n",
       "      <th>SynsetTerms</th>\n",
       "      <th>Gloss</th>\n",
       "    </tr>\n",
       "  </thead>\n",
       "  <tbody>\n",
       "    <tr>\n",
       "      <th>0</th>\n",
       "      <td>a</td>\n",
       "      <td>1740</td>\n",
       "      <td>0.125</td>\n",
       "      <td>0.000</td>\n",
       "      <td>able#1</td>\n",
       "      <td>(usually followed by `to') having the necessar...</td>\n",
       "    </tr>\n",
       "    <tr>\n",
       "      <th>1</th>\n",
       "      <td>a</td>\n",
       "      <td>2098</td>\n",
       "      <td>0.000</td>\n",
       "      <td>0.750</td>\n",
       "      <td>unable#1</td>\n",
       "      <td>(usually followed by `to') not having the nece...</td>\n",
       "    </tr>\n",
       "    <tr>\n",
       "      <th>2</th>\n",
       "      <td>a</td>\n",
       "      <td>2312</td>\n",
       "      <td>0.000</td>\n",
       "      <td>0.000</td>\n",
       "      <td>dorsal#2 abaxial#1</td>\n",
       "      <td>facing away from the axis of an organ or organ...</td>\n",
       "    </tr>\n",
       "    <tr>\n",
       "      <th>3</th>\n",
       "      <td>a</td>\n",
       "      <td>2527</td>\n",
       "      <td>0.000</td>\n",
       "      <td>0.000</td>\n",
       "      <td>ventral#2 adaxial#1</td>\n",
       "      <td>nearest to or facing toward the axis of an org...</td>\n",
       "    </tr>\n",
       "    <tr>\n",
       "      <th>4</th>\n",
       "      <td>a</td>\n",
       "      <td>2730</td>\n",
       "      <td>0.000</td>\n",
       "      <td>0.000</td>\n",
       "      <td>acroscopic#1</td>\n",
       "      <td>facing or on the side toward the apex</td>\n",
       "    </tr>\n",
       "    <tr>\n",
       "      <th>...</th>\n",
       "      <td>...</td>\n",
       "      <td>...</td>\n",
       "      <td>...</td>\n",
       "      <td>...</td>\n",
       "      <td>...</td>\n",
       "      <td>...</td>\n",
       "    </tr>\n",
       "    <tr>\n",
       "      <th>117654</th>\n",
       "      <td>v</td>\n",
       "      <td>2771756</td>\n",
       "      <td>0.000</td>\n",
       "      <td>0.000</td>\n",
       "      <td>run_dry#1 dry_out#2</td>\n",
       "      <td>become empty of water; \"The river runs dry in ...</td>\n",
       "    </tr>\n",
       "    <tr>\n",
       "      <th>117655</th>\n",
       "      <td>v</td>\n",
       "      <td>2771888</td>\n",
       "      <td>0.000</td>\n",
       "      <td>0.125</td>\n",
       "      <td>fog_up#1</td>\n",
       "      <td>get foggy; \"The windshield fogged up\"</td>\n",
       "    </tr>\n",
       "    <tr>\n",
       "      <th>117656</th>\n",
       "      <td>v</td>\n",
       "      <td>2771997</td>\n",
       "      <td>0.000</td>\n",
       "      <td>0.000</td>\n",
       "      <td>coal#1 char#1</td>\n",
       "      <td>burn to charcoal; \"Without a drenching rain, t...</td>\n",
       "    </tr>\n",
       "    <tr>\n",
       "      <th>117657</th>\n",
       "      <td>v</td>\n",
       "      <td>2772202</td>\n",
       "      <td>0.125</td>\n",
       "      <td>0.250</td>\n",
       "      <td>haze#1</td>\n",
       "      <td>become hazy, dull, or cloudy</td>\n",
       "    </tr>\n",
       "    <tr>\n",
       "      <th>117658</th>\n",
       "      <td>v</td>\n",
       "      <td>2772310</td>\n",
       "      <td>0.125</td>\n",
       "      <td>0.000</td>\n",
       "      <td>deflagrate#1</td>\n",
       "      <td>cause to burn rapidly and with great intensity...</td>\n",
       "    </tr>\n",
       "  </tbody>\n",
       "</table>\n",
       "<p>117659 rows × 6 columns</p>\n",
       "</div>"
      ],
      "text/plain": [
       "       # POS       ID  PosScore  NegScore          SynsetTerms  \\\n",
       "0          a     1740     0.125     0.000               able#1   \n",
       "1          a     2098     0.000     0.750             unable#1   \n",
       "2          a     2312     0.000     0.000   dorsal#2 abaxial#1   \n",
       "3          a     2527     0.000     0.000  ventral#2 adaxial#1   \n",
       "4          a     2730     0.000     0.000         acroscopic#1   \n",
       "...      ...      ...       ...       ...                  ...   \n",
       "117654     v  2771756     0.000     0.000  run_dry#1 dry_out#2   \n",
       "117655     v  2771888     0.000     0.125             fog_up#1   \n",
       "117656     v  2771997     0.000     0.000        coal#1 char#1   \n",
       "117657     v  2772202     0.125     0.250               haze#1   \n",
       "117658     v  2772310     0.125     0.000         deflagrate#1   \n",
       "\n",
       "                                                    Gloss  \n",
       "0       (usually followed by `to') having the necessar...  \n",
       "1       (usually followed by `to') not having the nece...  \n",
       "2       facing away from the axis of an organ or organ...  \n",
       "3       nearest to or facing toward the axis of an org...  \n",
       "4                   facing or on the side toward the apex  \n",
       "...                                                   ...  \n",
       "117654  become empty of water; \"The river runs dry in ...  \n",
       "117655              get foggy; \"The windshield fogged up\"  \n",
       "117656  burn to charcoal; \"Without a drenching rain, t...  \n",
       "117657                       become hazy, dull, or cloudy  \n",
       "117658  cause to burn rapidly and with great intensity...  \n",
       "\n",
       "[117659 rows x 6 columns]"
      ]
     },
     "execution_count": 52,
     "metadata": {},
     "output_type": "execute_result"
    }
   ],
   "source": [
    "df"
   ]
  },
  {
   "cell_type": "code",
   "execution_count": 53,
   "id": "601c0dd9",
   "metadata": {},
   "outputs": [
    {
     "data": {
      "text/html": [
       "<div>\n",
       "<style scoped>\n",
       "    .dataframe tbody tr th:only-of-type {\n",
       "        vertical-align: middle;\n",
       "    }\n",
       "\n",
       "    .dataframe tbody tr th {\n",
       "        vertical-align: top;\n",
       "    }\n",
       "\n",
       "    .dataframe thead th {\n",
       "        text-align: right;\n",
       "    }\n",
       "</style>\n",
       "<table border=\"1\" class=\"dataframe\">\n",
       "  <thead>\n",
       "    <tr style=\"text-align: right;\">\n",
       "      <th></th>\n",
       "      <th># POS</th>\n",
       "      <th>ID</th>\n",
       "      <th>PosScore</th>\n",
       "      <th>NegScore</th>\n",
       "      <th>SynsetTerms</th>\n",
       "      <th>Gloss</th>\n",
       "    </tr>\n",
       "  </thead>\n",
       "  <tbody>\n",
       "    <tr>\n",
       "      <th>0</th>\n",
       "      <td>a</td>\n",
       "      <td>1740</td>\n",
       "      <td>0.125</td>\n",
       "      <td>0.000</td>\n",
       "      <td>able</td>\n",
       "      <td>(usually followed by `to') having the necessar...</td>\n",
       "    </tr>\n",
       "    <tr>\n",
       "      <th>1</th>\n",
       "      <td>a</td>\n",
       "      <td>2098</td>\n",
       "      <td>0.000</td>\n",
       "      <td>0.750</td>\n",
       "      <td>unable</td>\n",
       "      <td>(usually followed by `to') not having the nece...</td>\n",
       "    </tr>\n",
       "    <tr>\n",
       "      <th>2</th>\n",
       "      <td>a</td>\n",
       "      <td>2312</td>\n",
       "      <td>0.000</td>\n",
       "      <td>0.000</td>\n",
       "      <td>dorsal</td>\n",
       "      <td>facing away from the axis of an organ or organ...</td>\n",
       "    </tr>\n",
       "    <tr>\n",
       "      <th>3</th>\n",
       "      <td>a</td>\n",
       "      <td>2312</td>\n",
       "      <td>0.000</td>\n",
       "      <td>0.000</td>\n",
       "      <td>abaxial</td>\n",
       "      <td>facing away from the axis of an organ or organ...</td>\n",
       "    </tr>\n",
       "    <tr>\n",
       "      <th>4</th>\n",
       "      <td>a</td>\n",
       "      <td>2527</td>\n",
       "      <td>0.000</td>\n",
       "      <td>0.000</td>\n",
       "      <td>ventral</td>\n",
       "      <td>nearest to or facing toward the axis of an org...</td>\n",
       "    </tr>\n",
       "    <tr>\n",
       "      <th>...</th>\n",
       "      <td>...</td>\n",
       "      <td>...</td>\n",
       "      <td>...</td>\n",
       "      <td>...</td>\n",
       "      <td>...</td>\n",
       "      <td>...</td>\n",
       "    </tr>\n",
       "    <tr>\n",
       "      <th>206936</th>\n",
       "      <td>v</td>\n",
       "      <td>2771888</td>\n",
       "      <td>0.000</td>\n",
       "      <td>0.125</td>\n",
       "      <td>fog_up</td>\n",
       "      <td>get foggy; \"The windshield fogged up\"</td>\n",
       "    </tr>\n",
       "    <tr>\n",
       "      <th>206937</th>\n",
       "      <td>v</td>\n",
       "      <td>2771997</td>\n",
       "      <td>0.000</td>\n",
       "      <td>0.000</td>\n",
       "      <td>coal</td>\n",
       "      <td>burn to charcoal; \"Without a drenching rain, t...</td>\n",
       "    </tr>\n",
       "    <tr>\n",
       "      <th>206938</th>\n",
       "      <td>v</td>\n",
       "      <td>2771997</td>\n",
       "      <td>0.000</td>\n",
       "      <td>0.000</td>\n",
       "      <td>char</td>\n",
       "      <td>burn to charcoal; \"Without a drenching rain, t...</td>\n",
       "    </tr>\n",
       "    <tr>\n",
       "      <th>206939</th>\n",
       "      <td>v</td>\n",
       "      <td>2772202</td>\n",
       "      <td>0.125</td>\n",
       "      <td>0.250</td>\n",
       "      <td>haze</td>\n",
       "      <td>become hazy, dull, or cloudy</td>\n",
       "    </tr>\n",
       "    <tr>\n",
       "      <th>206940</th>\n",
       "      <td>v</td>\n",
       "      <td>2772310</td>\n",
       "      <td>0.125</td>\n",
       "      <td>0.000</td>\n",
       "      <td>deflagrate</td>\n",
       "      <td>cause to burn rapidly and with great intensity...</td>\n",
       "    </tr>\n",
       "  </tbody>\n",
       "</table>\n",
       "<p>206941 rows × 6 columns</p>\n",
       "</div>"
      ],
      "text/plain": [
       "       # POS       ID  PosScore  NegScore SynsetTerms  \\\n",
       "0          a     1740     0.125     0.000        able   \n",
       "1          a     2098     0.000     0.750      unable   \n",
       "2          a     2312     0.000     0.000      dorsal   \n",
       "3          a     2312     0.000     0.000     abaxial   \n",
       "4          a     2527     0.000     0.000     ventral   \n",
       "...      ...      ...       ...       ...         ...   \n",
       "206936     v  2771888     0.000     0.125      fog_up   \n",
       "206937     v  2771997     0.000     0.000        coal   \n",
       "206938     v  2771997     0.000     0.000        char   \n",
       "206939     v  2772202     0.125     0.250        haze   \n",
       "206940     v  2772310     0.125     0.000  deflagrate   \n",
       "\n",
       "                                                    Gloss  \n",
       "0       (usually followed by `to') having the necessar...  \n",
       "1       (usually followed by `to') not having the nece...  \n",
       "2       facing away from the axis of an organ or organ...  \n",
       "3       facing away from the axis of an organ or organ...  \n",
       "4       nearest to or facing toward the axis of an org...  \n",
       "...                                                   ...  \n",
       "206936              get foggy; \"The windshield fogged up\"  \n",
       "206937  burn to charcoal; \"Without a drenching rain, t...  \n",
       "206938  burn to charcoal; \"Without a drenching rain, t...  \n",
       "206939                       become hazy, dull, or cloudy  \n",
       "206940  cause to burn rapidly and with great intensity...  \n",
       "\n",
       "[206941 rows x 6 columns]"
      ]
     },
     "execution_count": 53,
     "metadata": {},
     "output_type": "execute_result"
    }
   ],
   "source": [
    "def parse_synset_terms(row):\n",
    "    words = row.split()\n",
    "    words = [word.split('#')[0] for word in words]\n",
    "    return words\n",
    "\n",
    "df['SynsetTerms'] = df['SynsetTerms'].apply(parse_synset_terms)\n",
    "df = df.explode('SynsetTerms').reset_index(drop=True)\n",
    "df"
   ]
  },
  {
   "cell_type": "code",
   "execution_count": 54,
   "id": "28a5945e",
   "metadata": {},
   "outputs": [],
   "source": [
    "positiveness = dict(zip(df.SynsetTerms, round(df.PosScore - df.NegScore,5)))     # positiveness/negativeness score on [-1,1]\n",
    "extremeness = dict(zip(df.SynsetTerms, (df.PosScore + df.NegScore)/2))  # extremeness score on [0,1]"
   ]
  },
  {
   "cell_type": "code",
   "execution_count": 32,
   "id": "699d409c",
   "metadata": {},
   "outputs": [
    {
     "data": {
      "text/plain": [
       "({-1.0,\n",
       "  -0.875,\n",
       "  -0.75,\n",
       "  -0.625,\n",
       "  -0.556,\n",
       "  -0.5,\n",
       "  -0.4,\n",
       "  -0.375,\n",
       "  -0.334,\n",
       "  -0.272,\n",
       "  -0.25,\n",
       "  -0.125,\n",
       "  -0.112,\n",
       "  0.0,\n",
       "  0.112,\n",
       "  0.125,\n",
       "  0.25,\n",
       "  0.334,\n",
       "  0.375,\n",
       "  0.4,\n",
       "  0.5,\n",
       "  0.556,\n",
       "  0.625,\n",
       "  0.75,\n",
       "  0.875,\n",
       "  1.0},\n",
       " {0.0, 0.0625, 0.125, 0.1875, 0.25, 0.3125, 0.375, 0.4375, 0.5})"
      ]
     },
     "execution_count": 32,
     "metadata": {},
     "output_type": "execute_result"
    }
   ],
   "source": [
    "set(positiveness.values()), set(extremeness.values())"
   ]
  },
  {
   "cell_type": "markdown",
   "id": "9343fb3e",
   "metadata": {},
   "source": [
    "load validation data"
   ]
  },
  {
   "cell_type": "code",
   "execution_count": 91,
   "id": "10e23964",
   "metadata": {},
   "outputs": [
    {
     "data": {
      "text/html": [
       "<div>\n",
       "<style scoped>\n",
       "    .dataframe tbody tr th:only-of-type {\n",
       "        vertical-align: middle;\n",
       "    }\n",
       "\n",
       "    .dataframe tbody tr th {\n",
       "        vertical-align: top;\n",
       "    }\n",
       "\n",
       "    .dataframe thead th {\n",
       "        text-align: right;\n",
       "    }\n",
       "</style>\n",
       "<table border=\"1\" class=\"dataframe\">\n",
       "  <thead>\n",
       "    <tr style=\"text-align: right;\">\n",
       "      <th></th>\n",
       "      <th>sentiment</th>\n",
       "    </tr>\n",
       "    <tr>\n",
       "      <th>article</th>\n",
       "      <th></th>\n",
       "    </tr>\n",
       "  </thead>\n",
       "  <tbody>\n",
       "    <tr>\n",
       "      <th>1755_Lisbon_earthquake</th>\n",
       "      <td>-1</td>\n",
       "    </tr>\n",
       "    <tr>\n",
       "      <th>1896_Summer_Olympics</th>\n",
       "      <td>1</td>\n",
       "    </tr>\n",
       "    <tr>\n",
       "      <th>1997_Pacific_hurricane_season</th>\n",
       "      <td>-1</td>\n",
       "    </tr>\n",
       "    <tr>\n",
       "      <th>Actinium</th>\n",
       "      <td>0</td>\n",
       "    </tr>\n",
       "    <tr>\n",
       "      <th>Barracuda</th>\n",
       "      <td>-1</td>\n",
       "    </tr>\n",
       "  </tbody>\n",
       "</table>\n",
       "</div>"
      ],
      "text/plain": [
       "                               sentiment\n",
       "article                                 \n",
       "1755_Lisbon_earthquake                -1\n",
       "1896_Summer_Olympics                   1\n",
       "1997_Pacific_hurricane_season         -1\n",
       "Actinium                               0\n",
       "Barracuda                             -1"
      ]
     },
     "execution_count": 91,
     "metadata": {},
     "output_type": "execute_result"
    }
   ],
   "source": [
    "validation = pd.read_csv(\"../validation.txt\", sep=\"\\t\", header=None, names=[\"article\", \"sentiment\"])\n",
    "validation = validation.set_index(\"article\")\n",
    "validation.head()"
   ]
  },
  {
   "cell_type": "code",
   "execution_count": 92,
   "id": "ffe85bf3",
   "metadata": {},
   "outputs": [
    {
     "data": {
      "text/html": [
       "<div>\n",
       "<style scoped>\n",
       "    .dataframe tbody tr th:only-of-type {\n",
       "        vertical-align: middle;\n",
       "    }\n",
       "\n",
       "    .dataframe tbody tr th {\n",
       "        vertical-align: top;\n",
       "    }\n",
       "\n",
       "    .dataframe thead th {\n",
       "        text-align: right;\n",
       "    }\n",
       "</style>\n",
       "<table border=\"1\" class=\"dataframe\">\n",
       "  <thead>\n",
       "    <tr style=\"text-align: right;\">\n",
       "      <th></th>\n",
       "      <th>sentiment</th>\n",
       "    </tr>\n",
       "  </thead>\n",
       "  <tbody>\n",
       "    <tr>\n",
       "      <th>count</th>\n",
       "      <td>42.000000</td>\n",
       "    </tr>\n",
       "    <tr>\n",
       "      <th>mean</th>\n",
       "      <td>-0.023810</td>\n",
       "    </tr>\n",
       "    <tr>\n",
       "      <th>std</th>\n",
       "      <td>0.840676</td>\n",
       "    </tr>\n",
       "    <tr>\n",
       "      <th>min</th>\n",
       "      <td>-1.000000</td>\n",
       "    </tr>\n",
       "    <tr>\n",
       "      <th>25%</th>\n",
       "      <td>-1.000000</td>\n",
       "    </tr>\n",
       "    <tr>\n",
       "      <th>50%</th>\n",
       "      <td>0.000000</td>\n",
       "    </tr>\n",
       "    <tr>\n",
       "      <th>75%</th>\n",
       "      <td>1.000000</td>\n",
       "    </tr>\n",
       "    <tr>\n",
       "      <th>max</th>\n",
       "      <td>1.000000</td>\n",
       "    </tr>\n",
       "  </tbody>\n",
       "</table>\n",
       "</div>"
      ],
      "text/plain": [
       "       sentiment\n",
       "count  42.000000\n",
       "mean   -0.023810\n",
       "std     0.840676\n",
       "min    -1.000000\n",
       "25%    -1.000000\n",
       "50%     0.000000\n",
       "75%     1.000000\n",
       "max     1.000000"
      ]
     },
     "execution_count": 92,
     "metadata": {},
     "output_type": "execute_result"
    }
   ],
   "source": [
    "validation.describe()"
   ]
  },
  {
   "cell_type": "markdown",
   "id": "2fb2f7c7",
   "metadata": {},
   "source": [
    "model - since there is no training we can go straight to validation data"
   ]
  },
  {
   "cell_type": "code",
   "execution_count": 93,
   "id": "10250cc0",
   "metadata": {},
   "outputs": [],
   "source": [
    "def model(articles_content, lexicon):\n",
    "    \"\"\"\n",
    "    Infer the sentiment prediction for articles on their content, according to lexicon of sentiments\n",
    "    Args:\n",
    "        articles_content: dict(), dictionary of (article-title: article-content) pairs\n",
    "        lexicon: dict(), dictionary of (word: sentiment) pairs, with sentiment a sentiment score\n",
    "    Returns:\n",
    "        dict(), dictionary of (article-title: average-score) pairs\n",
    "    \"\"\"\n",
    "    article_scores = {}\n",
    "\n",
    "    for title, content in articles_content.items():\n",
    "        words = content.split()\n",
    "        word_scores = [lexicon[word] for word in words if word in lexicon]\n",
    "        average_score = sum(word_scores) / len(word_scores) if len(word_scores) > 0 else None\n",
    "        article_scores[title] = average_score\n",
    "\n",
    "    return article_scores"
   ]
  },
  {
   "cell_type": "code",
   "execution_count": 95,
   "id": "3d33f0bf",
   "metadata": {},
   "outputs": [],
   "source": [
    "validation_content = dict(zip(list(validation.index), [None]*len(validation)))\n",
    "for k in validation_content.keys():\n",
    "    validation_content[k] = content[k]"
   ]
  },
  {
   "cell_type": "code",
   "execution_count": 96,
   "id": "571c5b0d",
   "metadata": {},
   "outputs": [],
   "source": [
    "scores = model(validation_content, positiveness)"
   ]
  },
  {
   "cell_type": "code",
   "execution_count": 99,
   "id": "64412577",
   "metadata": {},
   "outputs": [],
   "source": [
    "validation[\"prediction\"] = scores"
   ]
  },
  {
   "cell_type": "code",
   "execution_count": 102,
   "id": "08292e38",
   "metadata": {},
   "outputs": [
    {
     "data": {
      "text/plain": [
       "(                               sentiment  prediction\n",
       " article                                             \n",
       " 1755_Lisbon_earthquake                -1   -0.050156\n",
       " 1896_Summer_Olympics                   1   -0.006281\n",
       " 1997_Pacific_hurricane_season         -1   -0.037893\n",
       " Actinium                               0   -0.005826\n",
       " Barracuda                             -1   -0.002747,\n",
       "        sentiment  prediction\n",
       " count  42.000000   42.000000\n",
       " mean   -0.023810   -0.006757\n",
       " std     0.840676    0.015840\n",
       " min    -1.000000   -0.051758\n",
       " 25%    -1.000000   -0.011054\n",
       " 50%     0.000000   -0.005780\n",
       " 75%     1.000000    0.004052\n",
       " max     1.000000    0.017951)"
      ]
     },
     "execution_count": 102,
     "metadata": {},
     "output_type": "execute_result"
    }
   ],
   "source": [
    "validation.head(), validation.describe()"
   ]
  },
  {
   "cell_type": "markdown",
   "id": "56392bce",
   "metadata": {},
   "source": [
    "score predictions by the sign"
   ]
  },
  {
   "cell_type": "code",
   "execution_count": 113,
   "id": "a46ebbbd",
   "metadata": {},
   "outputs": [
    {
     "name": "stdout",
     "output_type": "stream",
     "text": [
      "17 / 42\n"
     ]
    }
   ],
   "source": [
    "print(sum((validation[\"sentiment\"] * validation[\"prediction\"]) > 0), \"/\", len(validation))"
   ]
  },
  {
   "cell_type": "markdown",
   "id": "d30e88f1",
   "metadata": {},
   "source": [
    "prediction corrected by validation average (but better if we correct with training average)"
   ]
  },
  {
   "cell_type": "code",
   "execution_count": 118,
   "id": "d04eda02",
   "metadata": {},
   "outputs": [
    {
     "name": "stdout",
     "output_type": "stream",
     "text": [
      "17 / 42\n"
     ]
    }
   ],
   "source": [
    "print(sum((validation[\"sentiment\"] * (validation[\"prediction\"] + validation[\"prediction\"].mean())) > 0), \"/\", len(validation))"
   ]
  },
  {
   "cell_type": "code",
   "execution_count": null,
   "id": "4ef919d6",
   "metadata": {},
   "outputs": [],
   "source": []
  }
 ],
 "metadata": {
  "kernelspec": {
   "display_name": "Python 3 (ipykernel)",
   "language": "python",
   "name": "python3"
  },
  "language_info": {
   "codemirror_mode": {
    "name": "ipython",
    "version": 3
   },
   "file_extension": ".py",
   "mimetype": "text/x-python",
   "name": "python",
   "nbconvert_exporter": "python",
   "pygments_lexer": "ipython3",
   "version": "3.9.18"
  }
 },
 "nbformat": 4,
 "nbformat_minor": 5
}
