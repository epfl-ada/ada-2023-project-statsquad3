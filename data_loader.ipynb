{
 "cells": [
  {
   "cell_type": "code",
   "execution_count": 12,
   "id": "initial_id",
   "metadata": {
    "collapsed": true,
    "ExecuteTime": {
     "end_time": "2023-11-26T22:30:25.457991600Z",
     "start_time": "2023-11-26T22:30:25.452995200Z"
    }
   },
   "outputs": [],
   "source": [
    "import pandas as pd\n",
    "import pickle"
   ]
  },
  {
   "cell_type": "code",
   "execution_count": 5,
   "outputs": [],
   "source": [
    "def replace_lt_with_previous(article_path):\n",
    "    path_elements = article_path.split(';')\n",
    "    for i, element in enumerate(path_elements):\n",
    "        if element == '<' and i > 1:\n",
    "            path_elements[i] = path_elements[i-2]\n",
    "    return ';'.join(path_elements)"
   ],
   "metadata": {
    "collapsed": false,
    "ExecuteTime": {
     "end_time": "2023-11-26T22:23:01.061630500Z",
     "start_time": "2023-11-26T22:23:01.048632900Z"
    }
   },
   "id": "1da11274dba82bd9"
  },
  {
   "cell_type": "code",
   "execution_count": 10,
   "outputs": [],
   "source": [
    "file_path = '../data/paths_finished.tsv'\n",
    "df_finished = pd.read_csv(file_path, sep='\\t', header=None)\n",
    "cols = ['hashedIpAddress', 'timestamp', 'durationInSec', 'path', 'rating']\n",
    "df_finished.columns = cols\n",
    "df_finished['target'] = df_finished['path'].apply(lambda x: x.split(';')[-1])\n",
    "df_finished['type'] = 'finished'\n",
    "file_path = '../data/paths_unfinished.tsv'\n",
    "df_unfinished = pd.read_csv(file_path, sep='\\t', header=None)\n",
    "cols = ['hashedIpAddress', 'timestamp', 'durationInSec', 'path', 'target', 'type']\n",
    "df_unfinished.columns = cols\n",
    "df = pd.concat([df_finished, df_unfinished], axis=0)\n",
    "df['start'] = df['path'].apply(lambda x: x.split(';')[0])\n",
    "df['path_length'] = df['path'].apply(lambda x: len(x.split(';')))\n",
    "df['path'] = df['path'].apply(replace_lt_with_previous)\n",
    "# dump to csv\n",
    "df[['durationInSec', 'path', 'target', 'type', 'start', 'path_length']].to_csv('../data/paths.tsv', sep='\\t', index=False)"
   ],
   "metadata": {
    "collapsed": false,
    "ExecuteTime": {
     "end_time": "2023-11-26T22:26:58.774194200Z",
     "start_time": "2023-11-26T22:26:58.438122900Z"
    }
   },
   "id": "8b919722eba9716c"
  },
  {
   "cell_type": "code",
   "execution_count": 8,
   "outputs": [
    {
     "data": {
      "text/plain": "                            article  degree_out  degree_in  degree  \\\n0  %C3%81ed%C3%A1n_mac_Gabr%C3%A1in        11.0        0.0    11.0   \n1                        %C3%85land        19.0        0.0    19.0   \n2                %C3%89douard_Manet        20.0        0.0    20.0   \n3                         %C3%89ire         8.0        0.0     8.0   \n4        %C3%93engus_I_of_the_Picts        10.0        0.0    10.0   \n\n                 path  count  \n0                   0    0.0  \n1          %C3%85land    4.0  \n2  %C3%89douard_Manet    7.0  \n3           %C3%89ire   13.0  \n4                   0    0.0  ",
      "text/html": "<div>\n<style scoped>\n    .dataframe tbody tr th:only-of-type {\n        vertical-align: middle;\n    }\n\n    .dataframe tbody tr th {\n        vertical-align: top;\n    }\n\n    .dataframe thead th {\n        text-align: right;\n    }\n</style>\n<table border=\"1\" class=\"dataframe\">\n  <thead>\n    <tr style=\"text-align: right;\">\n      <th></th>\n      <th>article</th>\n      <th>degree_out</th>\n      <th>degree_in</th>\n      <th>degree</th>\n      <th>path</th>\n      <th>count</th>\n    </tr>\n  </thead>\n  <tbody>\n    <tr>\n      <th>0</th>\n      <td>%C3%81ed%C3%A1n_mac_Gabr%C3%A1in</td>\n      <td>11.0</td>\n      <td>0.0</td>\n      <td>11.0</td>\n      <td>0</td>\n      <td>0.0</td>\n    </tr>\n    <tr>\n      <th>1</th>\n      <td>%C3%85land</td>\n      <td>19.0</td>\n      <td>0.0</td>\n      <td>19.0</td>\n      <td>%C3%85land</td>\n      <td>4.0</td>\n    </tr>\n    <tr>\n      <th>2</th>\n      <td>%C3%89douard_Manet</td>\n      <td>20.0</td>\n      <td>0.0</td>\n      <td>20.0</td>\n      <td>%C3%89douard_Manet</td>\n      <td>7.0</td>\n    </tr>\n    <tr>\n      <th>3</th>\n      <td>%C3%89ire</td>\n      <td>8.0</td>\n      <td>0.0</td>\n      <td>8.0</td>\n      <td>%C3%89ire</td>\n      <td>13.0</td>\n    </tr>\n    <tr>\n      <th>4</th>\n      <td>%C3%93engus_I_of_the_Picts</td>\n      <td>10.0</td>\n      <td>0.0</td>\n      <td>10.0</td>\n      <td>0</td>\n      <td>0.0</td>\n    </tr>\n  </tbody>\n</table>\n</div>"
     },
     "execution_count": 8,
     "metadata": {},
     "output_type": "execute_result"
    }
   ],
   "source": [
    "articles = pd.read_csv('../data/articles.tsv', sep='\\t', header=None)\n",
    "file_path = '../data/links.tsv'\n",
    "df_links = pd.read_csv(file_path, sep='\\t', header=None)\n",
    "articles.columns = ['article']\n",
    "degree_out = df_links.groupby(0).count().reset_index()\n",
    "degree_out.columns = ['article', 'degree_out']\n",
    "degree_in = df_links.groupby(1).count().reset_index()\n",
    "degree_in.columns = ['article', 'degree_in']\n",
    "articles = articles.merge(degree_out, on='article', how='left').fillna(0).merge(degree_in, on='article', how='left').fillna(0)\n",
    "articles['degree'] = articles['degree_out'] + articles['degree_in']\n",
    "article_freq = pd.DataFrame(df['path'].apply(lambda x: x.split(';')).explode().value_counts()).reset_index()\n",
    "articles_cnt = pd.merge( articles, article_freq, left_on='article', right_on='path', how='left').fillna(0)\n",
    "articles_cnt.head()"
   ],
   "metadata": {
    "collapsed": false,
    "ExecuteTime": {
     "end_time": "2023-11-26T22:23:42.163382Z",
     "start_time": "2023-11-26T22:23:42.018438200Z"
    }
   },
   "id": "3e49865cd0c3670b"
  },
  {
   "cell_type": "code",
   "execution_count": 33,
   "outputs": [],
   "source": [
    "with open('tmp/sentiments.pickle', 'rb') as handle:\n",
    "    sentiments = pickle.load(handle)\n",
    "    \n",
    "articles_cnt['sentiment_pos'] = articles_cnt['article'].apply(lambda x: sentiments[x+\".txt\"][0] if x+\".txt\" in sentiments else 0)\n",
    "articles_cnt['sentiment_neu'] = articles_cnt['article'].apply(lambda x: sentiments[x+\".txt\"][1] if x+\".txt\" in sentiments else 0)\n",
    "articles_cnt['sentiment_neg'] = articles_cnt['article'].apply(lambda x: sentiments[x+\".txt\"][2] if x+\".txt\" in sentiments else 0)\n",
    "articles_cnt[['article','degree','sentiment_pos', 'sentiment_neu', 'sentiment_neg']].to_csv('../data/articles_sentiments.tsv', sep='\\t', index=False)"
   ],
   "metadata": {
    "collapsed": false,
    "ExecuteTime": {
     "end_time": "2023-11-26T22:40:24.608141200Z",
     "start_time": "2023-11-26T22:40:24.573998700Z"
    }
   },
   "id": "6c47d0924f826e7c"
  }
 ],
 "metadata": {
  "kernelspec": {
   "display_name": "Python 3",
   "language": "python",
   "name": "python3"
  },
  "language_info": {
   "codemirror_mode": {
    "name": "ipython",
    "version": 2
   },
   "file_extension": ".py",
   "mimetype": "text/x-python",
   "name": "python",
   "nbconvert_exporter": "python",
   "pygments_lexer": "ipython2",
   "version": "2.7.6"
  }
 },
 "nbformat": 4,
 "nbformat_minor": 5
}
