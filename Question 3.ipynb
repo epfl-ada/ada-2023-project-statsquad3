{
 "cells": [
  {
   "cell_type": "markdown",
   "id": "d29e20ba-22f7-4630-8abe-fb52de8a0d3f",
   "metadata": {},
   "source": [
    "### Analyzing Emotional Arcs in Paths\r\n",
    "\r\n",
    "This notebook aims to analyze emotional arcs in a dataset of paths. Each path consists of a series of sentiment scores representing emotional states over time or across a sequence of events. We categorize each path into one of three categories: positive to negative, negative to positive, and mixed emotions.\r\n"
   ]
  },
  {
   "cell_type": "code",
   "execution_count": 14,
   "id": "57e76dd3-ddad-4f7e-985d-721f551a2e75",
   "metadata": {},
   "outputs": [],
   "source": [
    "def analyze_emotional_arcs(data):\n",
    "    \"\"\"\n",
    "    Analyze emotional arcs in the given dataset.\n",
    "    \n",
    "    Parameters:\n",
    "    data (list of lists): Each sublist represents a path with sentiment scores.\n",
    "    \n",
    "    Returns:\n",
    "    dict: A dictionary with analysis results, including common patterns in emotional arcs.\n",
    "    \"\"\"\n",
    "    analysis_results = {\n",
    "        'positive_to_negative': 0,\n",
    "        'negative_to_positive': 0,\n",
    "        'positive_to_positive': 0,\n",
    "        'negative_to_negative': 0,\n",
    "        'mixed_emotions': 0\n",
    "    }\n",
    "    \n",
    "    for path in data:\n",
    "        third = len(path) // 3\n",
    "        start_third_avg = sum(path[:third]) / third\n",
    "        middle_third_avg = sum(path[third:-third]) / (len(path) - 2 * third) if len(path) - 2 * third > 0 else 0\n",
    "        end_third_avg = sum(path[-third:]) / third\n",
    "        \n",
    "        if start_third_avg > 0 and end_third_avg < 0:\n",
    "            analysis_results['positive_to_negative'] += 1\n",
    "        elif start_third_avg < 0 and end_third_avg > 0:\n",
    "            analysis_results['negative_to_positive'] += 1     \n",
    "        elif (start_third_avg > 0 and middle_third_avg < 0 and end_third_avg > 0):\n",
    "            analysis_results['positive_to_positive'] += 1\n",
    "        elif (start_third_avg < 0 and middle_third_avg > 0 and end_third_avg < 0):\n",
    "            analysis_results['negative_to_negative'] += 1\n",
    "        else:\n",
    "            analysis_results['mixed_emotions'] += 1\n",
    "\n",
    "    return analysis_results\n"
   ]
  },
  {
   "cell_type": "markdown",
   "id": "624e4adc-659c-4236-a66d-09550c48c8eb",
   "metadata": {},
   "source": [
    "### Example Usage\r\n",
    "\r\n",
    "Below is an example to demonstrate how the `analyze_emotional_arcs` function can be used. We have created a sample dataset with three paths, each representing different emotional arcs. The sentiment scores are simplified to -1 for negative, 0 for neutral, and 1 for positive emotions.\r\n"
   ]
  },
  {
   "cell_type": "code",
   "execution_count": 15,
   "id": "48594325-302f-4de8-8053-8b854d728c71",
   "metadata": {},
   "outputs": [
    {
     "data": {
      "text/plain": [
       "{'positive_to_negative': 1,\n",
       " 'negative_to_positive': 0,\n",
       " 'positive_to_positive': 1,\n",
       " 'negative_to_negative': 0,\n",
       " 'mixed_emotions': 2}"
      ]
     },
     "execution_count": 15,
     "metadata": {},
     "output_type": "execute_result"
    }
   ],
   "source": [
    "example_data = [\n",
    "    [1,1,-1,-1,1,0,1,-1], \n",
    "    [-1,-1,1,1,0,0,1,-1],  \n",
    "    [1,-1, 1,-1,1,1,1,-1,-1,-1,0],\n",
    "    [1,1,1,1,1,-1,-1,-1,-1,-1,1,1,1,1,1]\n",
    "]\n",
    "\n",
    "emotional_arcs_analysis = analyze_emotional_arcs(example_data)\n",
    "emotional_arcs_analysis\n"
   ]
  },
  {
   "cell_type": "markdown",
   "id": "cb2893d7-3432-4071-98de-439de81151bb",
   "metadata": {},
   "source": [
    "### Analysis Results\n",
    "\n",
    "The output from the `analyze_emotional_arcs` function provides a count of paths in each category. This analysis helps in understanding the predominant emotional transitions in the dataset and can be a useful tool in sentiment analysis and behavioral studies.\n"
   ]
  },
  {
   "cell_type": "code",
   "execution_count": null,
   "id": "d8e73bc9-bc6e-4b2f-9666-aefd18ef31b7",
   "metadata": {},
   "outputs": [],
   "source": []
  }
 ],
 "metadata": {
  "kernelspec": {
   "display_name": "Python 3 (ipykernel)",
   "language": "python",
   "name": "python3"
  },
  "language_info": {
   "codemirror_mode": {
    "name": "ipython",
    "version": 3
   },
   "file_extension": ".py",
   "mimetype": "text/x-python",
   "name": "python",
   "nbconvert_exporter": "python",
   "pygments_lexer": "ipython3",
   "version": "3.8.6rc1"
  }
 },
 "nbformat": 4,
 "nbformat_minor": 5
}
