{
 "cells": [
  {
   "cell_type": "markdown",
   "metadata": {},
   "source": [
    "### Imports"
   ]
  },
  {
   "cell_type": "code",
   "execution_count": 31,
   "metadata": {},
   "outputs": [],
   "source": [
    "import pickle\n",
    "import pandas as pd\n",
    "import numpy as np\n",
    "import matplotlib.pyplot as plt\n",
    "from utils import read_pickle,preprocess\n",
    "from methods import method1_1,method1_2,method2_1,method2_2"
   ]
  },
  {
   "cell_type": "markdown",
   "metadata": {},
   "source": [
    "# Paths conversion\n",
    "\n",
    "This first notebook convert the paths to scores path using the scores from the Roberta model. As there are several different subquestions, the final dataframe can be different depending on the analysis that are performed. There is therefore different methods to convert the dataframe, which can be chosen in this notebook."
   ]
  },
  {
   "cell_type": "markdown",
   "metadata": {},
   "source": [
    "## Scores analysis\n",
    "\n",
    "The first step is to load the initial scores from the pickle file"
   ]
  },
  {
   "cell_type": "code",
   "execution_count": 32,
   "metadata": {},
   "outputs": [
    {
     "data": {
      "text/html": [
       "<div>\n",
       "<style scoped>\n",
       "    .dataframe tbody tr th:only-of-type {\n",
       "        vertical-align: middle;\n",
       "    }\n",
       "\n",
       "    .dataframe tbody tr th {\n",
       "        vertical-align: top;\n",
       "    }\n",
       "\n",
       "    .dataframe thead th {\n",
       "        text-align: right;\n",
       "    }\n",
       "</style>\n",
       "<table border=\"1\" class=\"dataframe\">\n",
       "  <thead>\n",
       "    <tr style=\"text-align: right;\">\n",
       "      <th></th>\n",
       "      <th>Article</th>\n",
       "      <th>Negative</th>\n",
       "      <th>Neutral</th>\n",
       "      <th>Positive</th>\n",
       "    </tr>\n",
       "  </thead>\n",
       "  <tbody>\n",
       "    <tr>\n",
       "      <th>0</th>\n",
       "      <td>Matter</td>\n",
       "      <td>0.235663</td>\n",
       "      <td>0.668916</td>\n",
       "      <td>0.095422</td>\n",
       "    </tr>\n",
       "    <tr>\n",
       "      <th>1</th>\n",
       "      <td>Common_Tern</td>\n",
       "      <td>0.152064</td>\n",
       "      <td>0.750734</td>\n",
       "      <td>0.097202</td>\n",
       "    </tr>\n",
       "    <tr>\n",
       "      <th>2</th>\n",
       "      <td>Restoration_literature</td>\n",
       "      <td>0.169710</td>\n",
       "      <td>0.697821</td>\n",
       "      <td>0.132469</td>\n",
       "    </tr>\n",
       "    <tr>\n",
       "      <th>3</th>\n",
       "      <td>European_Kingfisher</td>\n",
       "      <td>0.076588</td>\n",
       "      <td>0.791261</td>\n",
       "      <td>0.132150</td>\n",
       "    </tr>\n",
       "    <tr>\n",
       "      <th>4</th>\n",
       "      <td>Abuja</td>\n",
       "      <td>0.119582</td>\n",
       "      <td>0.672143</td>\n",
       "      <td>0.208275</td>\n",
       "    </tr>\n",
       "  </tbody>\n",
       "</table>\n",
       "</div>"
      ],
      "text/plain": [
       "                  Article  Negative   Neutral  Positive\n",
       "0                  Matter  0.235663  0.668916  0.095422\n",
       "1             Common_Tern  0.152064  0.750734  0.097202\n",
       "2  Restoration_literature  0.169710  0.697821  0.132469\n",
       "3     European_Kingfisher  0.076588  0.791261  0.132150\n",
       "4                   Abuja  0.119582  0.672143  0.208275"
      ]
     },
     "execution_count": 32,
     "metadata": {},
     "output_type": "execute_result"
    }
   ],
   "source": [
    "headers=['Article','Negative','Neutral','Positive']\n",
    "df1=read_pickle(headers)\n",
    "\n",
    "positive_words=set(open('../data_posneg/Positive words 4.txt').read().splitlines())\n",
    "negative_words=set(open('../data_posneg/Negative words 4.txt').read().splitlines())\n",
    "\n",
    "df1.head()"
   ]
  },
  {
   "cell_type": "markdown",
   "metadata": {},
   "source": [
    "As Roberta output are positive, neutral and negative score, they need to be converted into a single score between [-1,1]. The adjusted score can be calculated with different methods, as shown in the function below. A new dataframe with the article and the calculated score is created for each methods. All the methods and imported from and described in the methods.py script."
   ]
  },
  {
   "cell_type": "code",
   "execution_count": 33,
   "metadata": {},
   "outputs": [],
   "source": [
    "def adjust_scores(df,method=1):\n",
    "    '''\n",
    "    Calculate the final score from the roberta output\n",
    "    :param df: dataframe with the positive, neutral and negative scores\n",
    "    :param method: number of the method used\n",
    "    '''\n",
    "    for i in range(len(df)):\n",
    "\n",
    "        path=f'../data/plaintext_articles/{df.loc[i,\"Article\"]}.txt'\n",
    "        \n",
    "        with open(path,'r') as file:\n",
    "            text=file.read()\n",
    "        \n",
    "        text=preprocess(text)\n",
    "        \n",
    "        pos=df.loc[i,'Positive']\n",
    "        neg=df.loc[i,'Negative']\n",
    "        \n",
    "\n",
    "        if method==1:\n",
    "            final_score=method1_1(text,pos-neg,positive_words,negative_words,0.5)\n",
    "        \n",
    "        if method==2:\n",
    "            final_score=method1_2(pos,neg)\n",
    "\n",
    "        df.loc[i,'Score']=final_score\n",
    "\n",
    "    return df"
   ]
  },
  {
   "cell_type": "code",
   "execution_count": 34,
   "metadata": {},
   "outputs": [
    {
     "data": {
      "text/html": [
       "<div>\n",
       "<style scoped>\n",
       "    .dataframe tbody tr th:only-of-type {\n",
       "        vertical-align: middle;\n",
       "    }\n",
       "\n",
       "    .dataframe tbody tr th {\n",
       "        vertical-align: top;\n",
       "    }\n",
       "\n",
       "    .dataframe thead th {\n",
       "        text-align: right;\n",
       "    }\n",
       "</style>\n",
       "<table border=\"1\" class=\"dataframe\">\n",
       "  <thead>\n",
       "    <tr style=\"text-align: right;\">\n",
       "      <th></th>\n",
       "      <th>Article</th>\n",
       "      <th>Score</th>\n",
       "      <th>Article</th>\n",
       "      <th>Score</th>\n",
       "    </tr>\n",
       "  </thead>\n",
       "  <tbody>\n",
       "    <tr>\n",
       "      <th>0</th>\n",
       "      <td>Matter</td>\n",
       "      <td>-0.140241</td>\n",
       "      <td>Matter</td>\n",
       "      <td>-0.595093</td>\n",
       "    </tr>\n",
       "    <tr>\n",
       "      <th>1</th>\n",
       "      <td>Common_Tern</td>\n",
       "      <td>-0.054862</td>\n",
       "      <td>Common_Tern</td>\n",
       "      <td>-0.360784</td>\n",
       "    </tr>\n",
       "    <tr>\n",
       "      <th>2</th>\n",
       "      <td>Restoration_literature</td>\n",
       "      <td>-0.037241</td>\n",
       "      <td>Restoration_literature</td>\n",
       "      <td>-0.219439</td>\n",
       "    </tr>\n",
       "    <tr>\n",
       "      <th>3</th>\n",
       "      <td>European_Kingfisher</td>\n",
       "      <td>0.055562</td>\n",
       "      <td>European_Kingfisher</td>\n",
       "      <td>0.420446</td>\n",
       "    </tr>\n",
       "    <tr>\n",
       "      <th>4</th>\n",
       "      <td>Abuja</td>\n",
       "      <td>0.088693</td>\n",
       "      <td>Abuja</td>\n",
       "      <td>0.425846</td>\n",
       "    </tr>\n",
       "  </tbody>\n",
       "</table>\n",
       "</div>"
      ],
      "text/plain": [
       "                  Article     Score                 Article     Score\n",
       "0                  Matter -0.140241                  Matter -0.595093\n",
       "1             Common_Tern -0.054862             Common_Tern -0.360784\n",
       "2  Restoration_literature -0.037241  Restoration_literature -0.219439\n",
       "3     European_Kingfisher  0.055562     European_Kingfisher  0.420446\n",
       "4                   Abuja  0.088693                   Abuja  0.425846"
      ]
     },
     "execution_count": 34,
     "metadata": {},
     "output_type": "execute_result"
    }
   ],
   "source": [
    "df_scores1=adjust_scores(df1)[['Article','Score']].copy(deep=True)\n",
    "df_scores2=adjust_scores(df1,2)[['Article','Score']].copy(deep=True)\n",
    "\n",
    "pd.concat([df_scores1.head(),df_scores2.head()],axis=1)"
   ]
  },
  {
   "cell_type": "markdown",
   "metadata": {},
   "source": [
    "To get a visual of the scores mapping, a histogram is plotted."
   ]
  },
  {
   "cell_type": "code",
   "execution_count": 35,
   "metadata": {},
   "outputs": [
    {
     "data": {
      "image/png": "[encoded data removed]",
      "text/plain": [
       "<Figure size 1296x216 with 2 Axes>"
      ]
     },
     "metadata": {
      "needs_background": "light"
     },
     "output_type": "display_data"
    }
   ],
   "source": [
    "arr_score=[df_scores1['Score'].values,df_scores2['Score'].values]\n",
    "\n",
    "fig,ax=plt.subplots(1,2,figsize=(18,3))\n",
    "\n",
    "for i in range(len(arr_score)):\n",
    "    ax[i].hist(arr_score[i],40)\n",
    "    ax[i].set_xlabel('Score')\n",
    "    ax[i].set_ylabel('Number of articles')\n",
    "    ax[i].set_title(f'Score distribution for method {i+1}')"
   ]
  },
  {
   "cell_type": "code",
   "execution_count": 36,
   "metadata": {},
   "outputs": [
    {
     "name": "stdout",
     "output_type": "stream",
     "text": [
      "196 positive articles (4 %) \n",
      "461 negative articles (10 %) \n",
      "3947 neutral articles (86 %)\n"
     ]
    }
   ],
   "source": [
    "pos_count=len(df_scores1[df_scores1['Score']>=0.5])\n",
    "neg_count=len(df_scores1[df_scores1['Score']<=-0.5])\n",
    "neutral_count=len(df_scores1[(df_scores1['Score']>-0.5) & (df_scores1['Score']<0.5)])\n",
    "\n",
    "print(f'{pos_count} positive articles ({round(100*pos_count/len(df_scores1))} %) \\n{neg_count} negative articles ({round(100*neg_count/len(df_scores1))} %) \\n{neutral_count} neutral articles ({round(100*neutral_count/len(df_scores1))} %)')"
   ]
  },
  {
   "cell_type": "markdown",
   "metadata": {},
   "source": [
    "The first method not really selective (86% of the articles are considered neutral), but is highly separative (all articles can clearly be labelled as either positive, neutral or negative).\n",
    "The second method is less separative and more equally distributive.\n",
    "For now, the first method will be used, but maybe the second and some other methods could be analyzed with validation data in order check the accuracy of the method."
   ]
  },
  {
   "cell_type": "markdown",
   "metadata": {},
   "source": [
    "As the first method is highly separative, the labels (Positive, Neutral or Negative) and their corresponding scores (1,0,-1) are added in the dataframe."
   ]
  },
  {
   "cell_type": "code",
   "execution_count": 37,
   "metadata": {},
   "outputs": [
    {
     "data": {
      "text/html": [
       "<div>\n",
       "<style scoped>\n",
       "    .dataframe tbody tr th:only-of-type {\n",
       "        vertical-align: middle;\n",
       "    }\n",
       "\n",
       "    .dataframe tbody tr th {\n",
       "        vertical-align: top;\n",
       "    }\n",
       "\n",
       "    .dataframe thead th {\n",
       "        text-align: right;\n",
       "    }\n",
       "</style>\n",
       "<table border=\"1\" class=\"dataframe\">\n",
       "  <thead>\n",
       "    <tr style=\"text-align: right;\">\n",
       "      <th></th>\n",
       "      <th>Article</th>\n",
       "      <th>Score</th>\n",
       "      <th>Label</th>\n",
       "      <th>Rounded</th>\n",
       "    </tr>\n",
       "  </thead>\n",
       "  <tbody>\n",
       "    <tr>\n",
       "      <th>0</th>\n",
       "      <td>Matter</td>\n",
       "      <td>-0.140241</td>\n",
       "      <td>Neutral</td>\n",
       "      <td>0</td>\n",
       "    </tr>\n",
       "    <tr>\n",
       "      <th>1</th>\n",
       "      <td>Common_Tern</td>\n",
       "      <td>-0.054862</td>\n",
       "      <td>Neutral</td>\n",
       "      <td>0</td>\n",
       "    </tr>\n",
       "    <tr>\n",
       "      <th>2</th>\n",
       "      <td>Restoration_literature</td>\n",
       "      <td>-0.037241</td>\n",
       "      <td>Neutral</td>\n",
       "      <td>0</td>\n",
       "    </tr>\n",
       "    <tr>\n",
       "      <th>3</th>\n",
       "      <td>European_Kingfisher</td>\n",
       "      <td>0.055562</td>\n",
       "      <td>Neutral</td>\n",
       "      <td>0</td>\n",
       "    </tr>\n",
       "    <tr>\n",
       "      <th>4</th>\n",
       "      <td>Abuja</td>\n",
       "      <td>0.088693</td>\n",
       "      <td>Neutral</td>\n",
       "      <td>0</td>\n",
       "    </tr>\n",
       "    <tr>\n",
       "      <th>5</th>\n",
       "      <td>Dublin</td>\n",
       "      <td>0.141195</td>\n",
       "      <td>Neutral</td>\n",
       "      <td>0</td>\n",
       "    </tr>\n",
       "    <tr>\n",
       "      <th>6</th>\n",
       "      <td>Bassoon</td>\n",
       "      <td>0.108070</td>\n",
       "      <td>Neutral</td>\n",
       "      <td>0</td>\n",
       "    </tr>\n",
       "    <tr>\n",
       "      <th>7</th>\n",
       "      <td>Indian_Institutes_of_Technology</td>\n",
       "      <td>0.079594</td>\n",
       "      <td>Neutral</td>\n",
       "      <td>0</td>\n",
       "    </tr>\n",
       "    <tr>\n",
       "      <th>8</th>\n",
       "      <td>Baroque</td>\n",
       "      <td>0.106084</td>\n",
       "      <td>Neutral</td>\n",
       "      <td>0</td>\n",
       "    </tr>\n",
       "    <tr>\n",
       "      <th>9</th>\n",
       "      <td>Myanmar</td>\n",
       "      <td>0.299302</td>\n",
       "      <td>Neutral</td>\n",
       "      <td>0</td>\n",
       "    </tr>\n",
       "  </tbody>\n",
       "</table>\n",
       "</div>"
      ],
      "text/plain": [
       "                           Article     Score    Label  Rounded\n",
       "0                           Matter -0.140241  Neutral        0\n",
       "1                      Common_Tern -0.054862  Neutral        0\n",
       "2           Restoration_literature -0.037241  Neutral        0\n",
       "3              European_Kingfisher  0.055562  Neutral        0\n",
       "4                            Abuja  0.088693  Neutral        0\n",
       "5                           Dublin  0.141195  Neutral        0\n",
       "6                          Bassoon  0.108070  Neutral        0\n",
       "7  Indian_Institutes_of_Technology  0.079594  Neutral        0\n",
       "8                          Baroque  0.106084  Neutral        0\n",
       "9                          Myanmar  0.299302  Neutral        0"
      ]
     },
     "execution_count": 37,
     "metadata": {},
     "output_type": "execute_result"
    }
   ],
   "source": [
    "conditions = [(df_scores1['Score'] > 0.5),(df_scores1['Score'] >= -0.5) & (df_scores1['Score'] <= 0.5),(df_scores1['Score'] < -0.5)]\n",
    "choices1 = ['Positive', 'Neutral', 'Negative']\n",
    "choices2 = [1,0,-1]\n",
    "df_scores1['Label'] = np.select(conditions, choices1, default='Undefined')\n",
    "df_scores1['Rounded'] = np.select(conditions, choices2, default='Undefined')\n",
    "\n",
    "df_scores1['Rounded']=df_scores1['Rounded'].astype(int)\n",
    "\n",
    "df_scores1[:10]"
   ]
  },
  {
   "cell_type": "markdown",
   "metadata": {},
   "source": [
    "## Path analysis\n",
    "\n",
    "The finished and unfinished paths are loaded, assembled and rearranged for the task of interest."
   ]
  },
  {
   "cell_type": "code",
   "execution_count": 38,
   "metadata": {},
   "outputs": [
    {
     "name": "stdout",
     "output_type": "stream",
     "text": [
      "There is 76193 paths\n"
     ]
    },
    {
     "data": {
      "text/html": [
       "<div>\n",
       "<style scoped>\n",
       "    .dataframe tbody tr th:only-of-type {\n",
       "        vertical-align: middle;\n",
       "    }\n",
       "\n",
       "    .dataframe tbody tr th {\n",
       "        vertical-align: top;\n",
       "    }\n",
       "\n",
       "    .dataframe thead th {\n",
       "        text-align: right;\n",
       "    }\n",
       "</style>\n",
       "<table border=\"1\" class=\"dataframe\">\n",
       "  <thead>\n",
       "    <tr style=\"text-align: right;\">\n",
       "      <th></th>\n",
       "      <th>Path</th>\n",
       "      <th>Target</th>\n",
       "    </tr>\n",
       "  </thead>\n",
       "  <tbody>\n",
       "    <tr>\n",
       "      <th>0</th>\n",
       "      <td>14th_century;15th_century;16th_century;Pacific...</td>\n",
       "      <td>NaN</td>\n",
       "    </tr>\n",
       "    <tr>\n",
       "      <th>1</th>\n",
       "      <td>14th_century;Europe;Africa;Atlantic_slave_trad...</td>\n",
       "      <td>NaN</td>\n",
       "    </tr>\n",
       "    <tr>\n",
       "      <th>2</th>\n",
       "      <td>14th_century;Niger;Nigeria;British_Empire;Slav...</td>\n",
       "      <td>NaN</td>\n",
       "    </tr>\n",
       "    <tr>\n",
       "      <th>3</th>\n",
       "      <td>14th_century;Renaissance;Ancient_Greece;Greece</td>\n",
       "      <td>NaN</td>\n",
       "    </tr>\n",
       "    <tr>\n",
       "      <th>4</th>\n",
       "      <td>14th_century;Italy;Roman_Catholic_Church;HIV;R...</td>\n",
       "      <td>NaN</td>\n",
       "    </tr>\n",
       "  </tbody>\n",
       "</table>\n",
       "</div>"
      ],
      "text/plain": [
       "                                                Path Target\n",
       "0  14th_century;15th_century;16th_century;Pacific...    NaN\n",
       "1  14th_century;Europe;Africa;Atlantic_slave_trad...    NaN\n",
       "2  14th_century;Niger;Nigeria;British_Empire;Slav...    NaN\n",
       "3     14th_century;Renaissance;Ancient_Greece;Greece    NaN\n",
       "4  14th_century;Italy;Roman_Catholic_Church;HIV;R...    NaN"
      ]
     },
     "execution_count": 38,
     "metadata": {},
     "output_type": "execute_result"
    }
   ],
   "source": [
    "df_f_paths=pd.read_csv('../data/wikispeedia_paths-and-graph/paths_finished.tsv',sep='\\t',skiprows=16,names=['hashedIpAddress','timestamp','durationInSec','Path','rating'])\n",
    "df_uf_paths=pd.read_csv('../data/wikispeedia_paths-and-graph/paths_unfinished.tsv',sep='\\t',skiprows=16,names=['hashedIpAddress','timestamp','durationInSec','Path','Target','type'])\n",
    "\n",
    "df_f_paths=df_f_paths[['Path']].copy(deep=True)\n",
    "df_uf_paths=df_uf_paths[['Path','Target']].copy(deep=True)\n",
    "\n",
    "df_paths=pd.concat([df_f_paths,df_uf_paths],axis=0,ignore_index=True,sort=False)\n",
    "\n",
    "df_paths=pd.DataFrame(df_paths)\n",
    "print(f'There is {len(df_paths)} paths')\n",
    "df_paths.head()"
   ]
  },
  {
   "cell_type": "markdown",
   "metadata": {},
   "source": [
    "The paths are in string and article form. We create a function that transforms these in score and label paths.\n",
    "\n",
    "- First method: Remove the articles that the players come back from, as to get only the direct path from the starting article to the target.\n",
    "\n",
    "- Second method: Keep all the articles, have the whole path with the comebacks"
   ]
  },
  {
   "cell_type": "markdown",
   "metadata": {},
   "source": [
    "In both methods, the articles next to each other are (hopefully) semantically linked, as the comebacks are just the reverse of the choices a player did. Therefore, both methods are valid, but can be used for different analysis.\n",
    "\n",
    "In the oscillating path analysis for example, we would like to get rid of the comebacks, as they could incurr false results. (we want to observe oscillation between different articles, not between two articles going back and forth)."
   ]
  },
  {
   "cell_type": "code",
   "execution_count": 39,
   "metadata": {},
   "outputs": [],
   "source": [
    "def transform_path(path,df=df_scores1,method=1):\n",
    "    '''\n",
    "    Add the corresponding scores and rounded scores paths\n",
    "    :param path: the initial string of articles (separated by ;)\n",
    "    :param df: the score dataframe used to convert\n",
    "    :param method: number of the method used\n",
    "    '''\n",
    "    \n",
    "    if method==1:\n",
    "        list1=method2_1(path)\n",
    "\n",
    "    elif method==2:\n",
    "        list1=method2_2(path)\n",
    "\n",
    "    scores=[]\n",
    "    labels=[]\n",
    "    pass\n",
    "    for article in list1:\n",
    "        scores.append(df.loc[df['Article']==article,'Score'].values[0])\n",
    "        labels.append(df.loc[df['Article']==article,'Rounded'].values[0])\n",
    "\n",
    "    return scores,labels\n",
    "\n",
    "\n",
    "def transform_df(initial_df,df_score=df_scores1,method=1):\n",
    "    '''\n",
    "    Perform the paths transformation on the dataframe\n",
    "    :param initial_df: dataframe to convert\n",
    "    :param df_score: the score dataframe used to convert\n",
    "    :param method: number of the method used\n",
    "    '''\n",
    "    df=initial_df.copy(deep=True)\n",
    "    a=len(df)\n",
    "\n",
    "    for i in range(a):\n",
    "        if i%(a//5)==0:\n",
    "            print(f'{20*(i/(a//5))} %')\n",
    "        scores,labels=transform_path(df.loc[i,'Path'],df_score,method)\n",
    "        df.at[i,'Scores']=scores\n",
    "        df.at[i,'Rounded']=labels\n",
    "\n",
    "    return df"
   ]
  },
  {
   "cell_type": "markdown",
   "metadata": {},
   "source": [
    "And the function is now applied on all the paths."
   ]
  },
  {
   "cell_type": "code",
   "execution_count": 40,
   "metadata": {},
   "outputs": [
    {
     "name": "stdout",
     "output_type": "stream",
     "text": [
      "0.0 %\n",
      "20.0 %\n",
      "40.0 %\n",
      "60.0 %\n",
      "80.0 %\n",
      "100.0 %\n",
      "0.0 %\n",
      "20.0 %\n",
      "40.0 %\n",
      "60.0 %\n",
      "80.0 %\n",
      "100.0 %\n"
     ]
    }
   ],
   "source": [
    "df_paths['Scores']=None\n",
    "df_paths['Scores'].astype('object')\n",
    "df_paths['Rounded']=None\n",
    "df_paths['Rounded'].astype('object')\n",
    "\n",
    "df_paths1=transform_df(df_paths,method=1)\n",
    "df_paths2=transform_df(df_paths,method=2)"
   ]
  },
  {
   "cell_type": "code",
   "execution_count": 41,
   "metadata": {},
   "outputs": [
    {
     "name": "stdout",
     "output_type": "stream",
     "text": [
      "There is 76193 paths for method 1 and 76193 paths for method 2\n"
     ]
    },
    {
     "data": {
      "text/html": [
       "<div>\n",
       "<style scoped>\n",
       "    .dataframe tbody tr th:only-of-type {\n",
       "        vertical-align: middle;\n",
       "    }\n",
       "\n",
       "    .dataframe tbody tr th {\n",
       "        vertical-align: top;\n",
       "    }\n",
       "\n",
       "    .dataframe thead th {\n",
       "        text-align: right;\n",
       "    }\n",
       "</style>\n",
       "<table border=\"1\" class=\"dataframe\">\n",
       "  <thead>\n",
       "    <tr style=\"text-align: right;\">\n",
       "      <th></th>\n",
       "      <th>Path</th>\n",
       "      <th>Target</th>\n",
       "      <th>Scores</th>\n",
       "      <th>Rounded</th>\n",
       "    </tr>\n",
       "  </thead>\n",
       "  <tbody>\n",
       "    <tr>\n",
       "      <th>0</th>\n",
       "      <td>14th_century;15th_century;16th_century;Pacific...</td>\n",
       "      <td>NaN</td>\n",
       "      <td>[-0.14721301536458237, -0.028293290087380706, ...</td>\n",
       "      <td>[0, 0, 0, 0, 0, 0, 0, -1, -1]</td>\n",
       "    </tr>\n",
       "    <tr>\n",
       "      <th>1</th>\n",
       "      <td>14th_century;Europe;Africa;Atlantic_slave_trad...</td>\n",
       "      <td>NaN</td>\n",
       "      <td>[-0.14721301536458237, -0.048477304979667915, ...</td>\n",
       "      <td>[0, 0, 0, -1, -1]</td>\n",
       "    </tr>\n",
       "    <tr>\n",
       "      <th>2</th>\n",
       "      <td>14th_century;Niger;Nigeria;British_Empire;Slav...</td>\n",
       "      <td>NaN</td>\n",
       "      <td>[-0.14721301536458237, -0.052448976123087784, ...</td>\n",
       "      <td>[0, 0, -1, 0, -1, 0, -1, -1]</td>\n",
       "    </tr>\n",
       "    <tr>\n",
       "      <th>3</th>\n",
       "      <td>14th_century;Renaissance;Ancient_Greece;Greece</td>\n",
       "      <td>NaN</td>\n",
       "      <td>[-0.14721301536458237, 0.037461097698424525, -...</td>\n",
       "      <td>[0, 0, 0, 0]</td>\n",
       "    </tr>\n",
       "    <tr>\n",
       "      <th>4</th>\n",
       "      <td>14th_century;Italy;Roman_Catholic_Church;HIV;R...</td>\n",
       "      <td>NaN</td>\n",
       "      <td>[-0.14721301536458237, -0.06396592637112342, 0...</td>\n",
       "      <td>[0, 0, 0, -1, 0, 0, 0]</td>\n",
       "    </tr>\n",
       "  </tbody>\n",
       "</table>\n",
       "</div>"
      ],
      "text/plain": [
       "                                                Path Target  \\\n",
       "0  14th_century;15th_century;16th_century;Pacific...    NaN   \n",
       "1  14th_century;Europe;Africa;Atlantic_slave_trad...    NaN   \n",
       "2  14th_century;Niger;Nigeria;British_Empire;Slav...    NaN   \n",
       "3     14th_century;Renaissance;Ancient_Greece;Greece    NaN   \n",
       "4  14th_century;Italy;Roman_Catholic_Church;HIV;R...    NaN   \n",
       "\n",
       "                                              Scores  \\\n",
       "0  [-0.14721301536458237, -0.028293290087380706, ...   \n",
       "1  [-0.14721301536458237, -0.048477304979667915, ...   \n",
       "2  [-0.14721301536458237, -0.052448976123087784, ...   \n",
       "3  [-0.14721301536458237, 0.037461097698424525, -...   \n",
       "4  [-0.14721301536458237, -0.06396592637112342, 0...   \n",
       "\n",
       "                         Rounded  \n",
       "0  [0, 0, 0, 0, 0, 0, 0, -1, -1]  \n",
       "1              [0, 0, 0, -1, -1]  \n",
       "2   [0, 0, -1, 0, -1, 0, -1, -1]  \n",
       "3                   [0, 0, 0, 0]  \n",
       "4         [0, 0, 0, -1, 0, 0, 0]  "
      ]
     },
     "execution_count": 41,
     "metadata": {},
     "output_type": "execute_result"
    }
   ],
   "source": [
    "print(f'There is {len(df_paths1)} paths for method 1 and {len(df_paths2)} paths for method 2')\n",
    "df_paths1.head()"
   ]
  },
  {
   "cell_type": "markdown",
   "metadata": {},
   "source": [
    "The target is also converted to a score, and now that all the useful information are contained as scores in the dataframe, the initial strings are removed.\n",
    "During this process, we noticed that some target articles were not in the wikispeedia plaintext folder (or spelled wrong) that was analyzed to get the scores corresponding to the articles. The corresponding paths are dropped out of the analysis.\n"
   ]
  },
  {
   "cell_type": "code",
   "execution_count": 42,
   "metadata": {},
   "outputs": [
    {
     "name": "stdout",
     "output_type": "stream",
     "text": [
      "The following articles are missing: \n",
      " {'Long_peper', 'Sportacus', 'The_Rock', 'Fats', 'Charlottes_web', 'Great', 'Macedonia', 'English', 'The', 'Rat', 'Western_Australia', 'Rss', 'Adolph_Hitler', 'Mustard', 'Christmas', 'Netbook', 'Test', 'Usa', 'Georgia', 'Bogota', 'Kashmir', 'Podcast', 'Black_ops_2', '_Zebra', 'C++'}\n"
     ]
    },
    {
     "data": {
      "text/html": [
       "<div>\n",
       "<style scoped>\n",
       "    .dataframe tbody tr th:only-of-type {\n",
       "        vertical-align: middle;\n",
       "    }\n",
       "\n",
       "    .dataframe tbody tr th {\n",
       "        vertical-align: top;\n",
       "    }\n",
       "\n",
       "    .dataframe thead th {\n",
       "        text-align: right;\n",
       "    }\n",
       "</style>\n",
       "<table border=\"1\" class=\"dataframe\">\n",
       "  <thead>\n",
       "    <tr style=\"text-align: right;\">\n",
       "      <th></th>\n",
       "      <th>Scores</th>\n",
       "      <th>Rounded</th>\n",
       "      <th>Target score</th>\n",
       "    </tr>\n",
       "  </thead>\n",
       "  <tbody>\n",
       "    <tr>\n",
       "      <th>0</th>\n",
       "      <td>[-0.14721301536458237, -0.028293290087380706, ...</td>\n",
       "      <td>[0, 0, 0, 0, 0, 0, 0, -1, -1]</td>\n",
       "      <td>NaN</td>\n",
       "    </tr>\n",
       "    <tr>\n",
       "      <th>1</th>\n",
       "      <td>[-0.14721301536458237, -0.048477304979667915, ...</td>\n",
       "      <td>[0, 0, 0, -1, -1]</td>\n",
       "      <td>NaN</td>\n",
       "    </tr>\n",
       "    <tr>\n",
       "      <th>2</th>\n",
       "      <td>[-0.14721301536458237, -0.052448976123087784, ...</td>\n",
       "      <td>[0, 0, -1, 0, -1, 0, -1, -1]</td>\n",
       "      <td>NaN</td>\n",
       "    </tr>\n",
       "    <tr>\n",
       "      <th>3</th>\n",
       "      <td>[-0.14721301536458237, 0.037461097698424525, -...</td>\n",
       "      <td>[0, 0, 0, 0]</td>\n",
       "      <td>NaN</td>\n",
       "    </tr>\n",
       "    <tr>\n",
       "      <th>4</th>\n",
       "      <td>[-0.14721301536458237, -0.06396592637112342, 0...</td>\n",
       "      <td>[0, 0, 0, -1, 0, 0, 0]</td>\n",
       "      <td>NaN</td>\n",
       "    </tr>\n",
       "  </tbody>\n",
       "</table>\n",
       "</div>"
      ],
      "text/plain": [
       "                                              Scores  \\\n",
       "0  [-0.14721301536458237, -0.028293290087380706, ...   \n",
       "1  [-0.14721301536458237, -0.048477304979667915, ...   \n",
       "2  [-0.14721301536458237, -0.052448976123087784, ...   \n",
       "3  [-0.14721301536458237, 0.037461097698424525, -...   \n",
       "4  [-0.14721301536458237, -0.06396592637112342, 0...   \n",
       "\n",
       "                         Rounded  Target score  \n",
       "0  [0, 0, 0, 0, 0, 0, 0, -1, -1]           NaN  \n",
       "1              [0, 0, 0, -1, -1]           NaN  \n",
       "2   [0, 0, -1, 0, -1, 0, -1, -1]           NaN  \n",
       "3                   [0, 0, 0, 0]           NaN  \n",
       "4         [0, 0, 0, -1, 0, 0, 0]           NaN  "
      ]
     },
     "execution_count": 42,
     "metadata": {},
     "output_type": "execute_result"
    }
   ],
   "source": [
    "df_paths_list=[df_paths1,df_paths2]\n",
    "missing_articles=set()\n",
    "\n",
    "for df in df_paths_list:\n",
    "\n",
    "    for i in range(len(df)):\n",
    "        \n",
    "        target=df.loc[i,'Target']\n",
    "\n",
    "        if target==target:\n",
    "            try:\n",
    "                df.loc[i,'Target score']=df_scores1.loc[df_scores1['Article']==target,'Score'].values[0]\n",
    "            except:\n",
    "                missing_articles.add(target)\n",
    "                df.drop(index=i,inplace=True)\n",
    "\n",
    "    df.drop(['Path','Target'],axis=1,inplace=True)\n",
    "    df.reset_index(inplace=True,drop=True)\n",
    "\n",
    "\n",
    "print(f'The following articles are missing: \\n {missing_articles}')\n",
    "df_paths1.head()"
   ]
  },
  {
   "cell_type": "markdown",
   "metadata": {},
   "source": [
    "Finally, the dataframe is stored in a pickle file."
   ]
  },
  {
   "cell_type": "code",
   "execution_count": 43,
   "metadata": {},
   "outputs": [],
   "source": [
    "with open('df_paths1.pickle', 'wb') as file:\n",
    "    pickle.dump(df_paths1, file)\n",
    "\n",
    "with open('df_paths2.pickle', 'wb') as file:\n",
    "    pickle.dump(df_paths2, file)"
   ]
  },
  {
   "cell_type": "code",
   "execution_count": null,
   "metadata": {},
   "outputs": [],
   "source": []
  }
 ],
 "metadata": {
  "kernelspec": {
   "display_name": "Python 3 (ipykernel)",
   "language": "python",
   "name": "python3"
  },
  "language_info": {
   "codemirror_mode": {
    "name": "ipython",
    "version": 3
   },
   "file_extension": ".py",
   "mimetype": "text/x-python",
   "name": "python",
   "nbconvert_exporter": "python",
   "pygments_lexer": "ipython3",
   "version": "3.9.7"
  }
 },
 "nbformat": 4,
 "nbformat_minor": 2
}
