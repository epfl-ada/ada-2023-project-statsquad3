{
 "cells": [
  {
   "cell_type": "markdown",
   "id": "287990f2",
   "metadata": {},
   "source": [
    "In this section, we investigate the relationship between the target article sentiment and how it influences the path structure.\n",
    "1. How does the sentiment score of a target topic affect the general <b><u>structure</u></b> of the path chosen by players? \n",
    "2. Is there a relationship between the extremity of a target article's sentiment (highly positive/negative) and the <b><u>length</u></b> of the path taken to reach it? We can decompose this in two causal questions. When players choose <b><u>shorter paths</u></b>, are these paths characterized by articles with, for example, more extreme sentiment scores? Conversely, do extreme-sentiment paths mean shorter paths?"
   ]
  },
  {
   "cell_type": "markdown",
   "id": "502d2d18",
   "metadata": {},
   "source": [
    "### 1. Sentiment and Path Structure"
   ]
  },
  {
   "cell_type": "code",
   "execution_count": 1,
   "id": "726dcbb3",
   "metadata": {},
   "outputs": [],
   "source": [
    "import pickle\n",
    "\n",
    "import pandas as pd\n",
    "import numpy as np\n",
    "import matplotlib.pyplot as plt\n",
    "\n",
    "from scipy.interpolate import interp1d\n",
    "\n",
    "import statsmodels.formula.api as smf"
   ]
  },
  {
   "cell_type": "code",
   "execution_count": 2,
   "id": "4a245058",
   "metadata": {},
   "outputs": [],
   "source": [
    "with open(\"df_paths1.pickle\", \"rb\") as f:\n",
    "    df = pickle.load(f)"
   ]
  },
  {
   "cell_type": "markdown",
   "id": "77c6fcc9",
   "metadata": {},
   "source": [
    "Let's add some utility columns in the dataframe."
   ]
  },
  {
   "cell_type": "code",
   "execution_count": 3,
   "id": "27e0f52a",
   "metadata": {},
   "outputs": [],
   "source": [
    "df[\"Scores_mean\"] = df[\"Scores\"].apply(lambda x: sum(x)/len(x))\n",
    "df[\"Path_length\"] = df[\"Scores\"].apply(lambda x: len(x))"
   ]
  },
  {
   "cell_type": "code",
   "execution_count": 4,
   "id": "95eed742",
   "metadata": {},
   "outputs": [
    {
     "data": {
      "text/html": [
       "<div>\n",
       "<style scoped>\n",
       "    .dataframe tbody tr th:only-of-type {\n",
       "        vertical-align: middle;\n",
       "    }\n",
       "\n",
       "    .dataframe tbody tr th {\n",
       "        vertical-align: top;\n",
       "    }\n",
       "\n",
       "    .dataframe thead th {\n",
       "        text-align: right;\n",
       "    }\n",
       "</style>\n",
       "<table border=\"1\" class=\"dataframe\">\n",
       "  <thead>\n",
       "    <tr style=\"text-align: right;\">\n",
       "      <th></th>\n",
       "      <th>Scores</th>\n",
       "      <th>Rounded</th>\n",
       "      <th>Target score</th>\n",
       "      <th>Scores_mean</th>\n",
       "      <th>Path_length</th>\n",
       "    </tr>\n",
       "  </thead>\n",
       "  <tbody>\n",
       "    <tr>\n",
       "      <th>0</th>\n",
       "      <td>[-0.14721301536458237, -0.028293290087380706, ...</td>\n",
       "      <td>[0, 0, 0, 0, 0, 0, 0, -1, -1]</td>\n",
       "      <td>NaN</td>\n",
       "      <td>-0.204399</td>\n",
       "      <td>9</td>\n",
       "    </tr>\n",
       "    <tr>\n",
       "      <th>1</th>\n",
       "      <td>[-0.14721301536458237, -0.048477304979667915, ...</td>\n",
       "      <td>[0, 0, 0, -1, -1]</td>\n",
       "      <td>NaN</td>\n",
       "      <td>-0.386558</td>\n",
       "      <td>5</td>\n",
       "    </tr>\n",
       "    <tr>\n",
       "      <th>2</th>\n",
       "      <td>[-0.14721301536458237, -0.052448976123087784, ...</td>\n",
       "      <td>[0, 0, -1, 0, -1, 0, -1, -1]</td>\n",
       "      <td>NaN</td>\n",
       "      <td>-0.457848</td>\n",
       "      <td>8</td>\n",
       "    </tr>\n",
       "    <tr>\n",
       "      <th>3</th>\n",
       "      <td>[-0.14721301536458237, 0.037461097698424525, -...</td>\n",
       "      <td>[0, 0, 0, 0]</td>\n",
       "      <td>NaN</td>\n",
       "      <td>-0.020967</td>\n",
       "      <td>4</td>\n",
       "    </tr>\n",
       "    <tr>\n",
       "      <th>4</th>\n",
       "      <td>[-0.14721301536458237, -0.06396592637112342, 0...</td>\n",
       "      <td>[0, 0, 0, -1, 0, 0, 0]</td>\n",
       "      <td>NaN</td>\n",
       "      <td>-0.177478</td>\n",
       "      <td>7</td>\n",
       "    </tr>\n",
       "    <tr>\n",
       "      <th>...</th>\n",
       "      <td>...</td>\n",
       "      <td>...</td>\n",
       "      <td>...</td>\n",
       "      <td>...</td>\n",
       "      <td>...</td>\n",
       "    </tr>\n",
       "    <tr>\n",
       "      <th>76159</th>\n",
       "      <td>[0.011778271523728776, -0.8782995301658347, -0...</td>\n",
       "      <td>[0, -1, 0, -1, -1, 0]</td>\n",
       "      <td>-0.826112</td>\n",
       "      <td>-0.409196</td>\n",
       "      <td>6</td>\n",
       "    </tr>\n",
       "    <tr>\n",
       "      <th>76160</th>\n",
       "      <td>[-0.18600953180292576]</td>\n",
       "      <td>[0]</td>\n",
       "      <td>0.282791</td>\n",
       "      <td>-0.186010</td>\n",
       "      <td>1</td>\n",
       "    </tr>\n",
       "    <tr>\n",
       "      <th>76161</th>\n",
       "      <td>[0.7375556848610064, 0.0948245586412504, -0.05...</td>\n",
       "      <td>[1, 0, 0]</td>\n",
       "      <td>0.072405</td>\n",
       "      <td>0.258806</td>\n",
       "      <td>3</td>\n",
       "    </tr>\n",
       "    <tr>\n",
       "      <th>76162</th>\n",
       "      <td>[-0.011092642140131198, 0.11030565085346924, -...</td>\n",
       "      <td>[0, 0, -1, -1]</td>\n",
       "      <td>-0.131333</td>\n",
       "      <td>-0.382254</td>\n",
       "      <td>4</td>\n",
       "    </tr>\n",
       "    <tr>\n",
       "      <th>76163</th>\n",
       "      <td>[-0.7399040199816227, 0.16846814213891015, 0.1...</td>\n",
       "      <td>[-1, 0, 0, 0, 0]</td>\n",
       "      <td>-0.124943</td>\n",
       "      <td>-0.077458</td>\n",
       "      <td>5</td>\n",
       "    </tr>\n",
       "  </tbody>\n",
       "</table>\n",
       "<p>76164 rows × 5 columns</p>\n",
       "</div>"
      ],
      "text/plain": [
       "                                                  Scores  \\\n",
       "0      [-0.14721301536458237, -0.028293290087380706, ...   \n",
       "1      [-0.14721301536458237, -0.048477304979667915, ...   \n",
       "2      [-0.14721301536458237, -0.052448976123087784, ...   \n",
       "3      [-0.14721301536458237, 0.037461097698424525, -...   \n",
       "4      [-0.14721301536458237, -0.06396592637112342, 0...   \n",
       "...                                                  ...   \n",
       "76159  [0.011778271523728776, -0.8782995301658347, -0...   \n",
       "76160                             [-0.18600953180292576]   \n",
       "76161  [0.7375556848610064, 0.0948245586412504, -0.05...   \n",
       "76162  [-0.011092642140131198, 0.11030565085346924, -...   \n",
       "76163  [-0.7399040199816227, 0.16846814213891015, 0.1...   \n",
       "\n",
       "                             Rounded  Target score  Scores_mean  Path_length  \n",
       "0      [0, 0, 0, 0, 0, 0, 0, -1, -1]           NaN    -0.204399            9  \n",
       "1                  [0, 0, 0, -1, -1]           NaN    -0.386558            5  \n",
       "2       [0, 0, -1, 0, -1, 0, -1, -1]           NaN    -0.457848            8  \n",
       "3                       [0, 0, 0, 0]           NaN    -0.020967            4  \n",
       "4             [0, 0, 0, -1, 0, 0, 0]           NaN    -0.177478            7  \n",
       "...                              ...           ...          ...          ...  \n",
       "76159          [0, -1, 0, -1, -1, 0]     -0.826112    -0.409196            6  \n",
       "76160                            [0]      0.282791    -0.186010            1  \n",
       "76161                      [1, 0, 0]      0.072405     0.258806            3  \n",
       "76162                 [0, 0, -1, -1]     -0.131333    -0.382254            4  \n",
       "76163               [-1, 0, 0, 0, 0]     -0.124943    -0.077458            5  \n",
       "\n",
       "[76164 rows x 5 columns]"
      ]
     },
     "metadata": {},
     "output_type": "display_data"
    }
   ],
   "source": [
    "display(df)"
   ]
  },
  {
   "cell_type": "markdown",
   "id": "d7822c25",
   "metadata": {},
   "source": [
    "Note: when ```Target score``` is NaN, it means that the target score is reached therefore the score can be found in the last element of the corresponding ```Scores``` list. When it is not reached, the score is specified in this ```Target score``` column."
   ]
  },
  {
   "cell_type": "markdown",
   "id": "e9f6cb46",
   "metadata": {},
   "source": [
    "For this first question, we want to visualize the paths. For this, we use a heatmap and interpolate the sentiments from adjacent paths to get a better sense of the structure of paths."
   ]
  },
  {
   "cell_type": "code",
   "execution_count": 5,
   "id": "df8abea0",
   "metadata": {},
   "outputs": [],
   "source": [
    "max_path_length = 20\n",
    "path_resolution = 20  # resolution between 2 articles; e.g. with 20: there are 20 points between source and 1st article clicked\n",
    "score_resolution = 80 # 20 -> [-1, -0.9, ..., 0.9, 1]\n",
    "score_step = (1-(-1))/score_resolution\n",
    "\n",
    "def path_heatmap(df, title=\"Scores Heatmap\", remove_target=False):\n",
    "    \"\"\"\n",
    "    Heatmap method for visualizing paths of a pandas DataFrame. \n",
    "    Parameters for the function are defined above in the cell.\n",
    "    Note that max_path_length can also be set to the maximum length of paths \n",
    "        in the DataFrame using df[\"Scores\"].apply(len).max(), but in this case\n",
    "        the max length is very big (~400) so by default the articles after max_path_length\n",
    "        are aggregated in the farthest point of the heatmap (on the right of the plot).\n",
    "    \n",
    "    Input params:\n",
    "        - df: (pandas.core.frame.DataFrame) dataframe with a \n",
    "            column Scores that contains lists of sentiment scores\n",
    "        - title: (str) title for the heatmap\n",
    "        - remove_target: (bool) remove the last element of each list of sentiments \n",
    "            for better visibility in the heatmap\n",
    "        \n",
    "    Output:\n",
    "        - axis (matplotlib.image.AxesImage) of the plot of a heatmap of the sentiments, \n",
    "            interpolated between articles so that the fluctuations of sentiments are visualized\n",
    "    \"\"\"\n",
    "    \n",
    "    path_scores_heatmap = np.zeros((score_resolution, path_resolution*max_path_length))\n",
    "\n",
    "    for i in df.index:\n",
    "        path = df.loc[i][\"Scores\"][:-1] if remove_target else df.loc[i][\"Scores\"]\n",
    "        \n",
    "        # fix bug: some paths are Series, not list\n",
    "        if type(path) != list:\n",
    "            path = list(path)[0]\n",
    "        x = np.arange(len(path))\n",
    "        # print(x, type(x), len(path), path, type(path))\n",
    "        f = interp1d(x,path)\n",
    "        path_space = np.linspace(0,len(path)-1, path_resolution*len(path))\n",
    "        f_path_space = f(path_space)\n",
    "        for path_ind,score in enumerate(f_path_space):\n",
    "            y_ind = round(score/score_step) + score_resolution//2\n",
    "            path_scores_heatmap[y_ind, min(path_ind,path_resolution*max_path_length-1)] += 1\n",
    "\n",
    "    # Plot the heatmap\n",
    "    ax = plt.imshow(np.log(np.flipud(path_scores_heatmap)+1), aspect='auto', cmap='viridis', interpolation='nearest', extent=[0,12,-1,1])\n",
    "    plt.colorbar()\n",
    "    plt.xlabel('Path Index')\n",
    "    plt.ylabel('Sentiment score $\\in[-1,1]$')\n",
    "    plt.title(title)\n",
    "    plt.show()\n",
    "    return ax"
   ]
  },
  {
   "cell_type": "markdown",
   "id": "99e781dc",
   "metadata": {},
   "source": [
    "Let's visualize a random subset of the paths."
   ]
  },
  {
   "cell_type": "code",
   "execution_count": 6,
   "id": "55f6b261",
   "metadata": {
    "scrolled": true
   },
   "outputs": [
    {
     "data": {
      "image/png": "[encoded data removed]",
      "text/plain": [
       "<Figure size 432x288 with 2 Axes>"
      ]
     },
     "metadata": {
      "needs_background": "light"
     },
     "output_type": "display_data"
    }
   ],
   "source": [
    "size=100\n",
    "rand_ind = np.random.choice(df.index, size=size)\n",
    "path_heatmap(df[df[\"Path_length\"] > 2].filter(items = rand_ind, axis=0), \n",
    "             title=f\"Scores Heatmap for {size} random scores\")\n",
    "plt.show()"
   ]
  },
  {
   "cell_type": "markdown",
   "id": "3ae8ac6c",
   "metadata": {},
   "source": [
    "It is clear that most of the paths are centered in the neutral sentiment zone. This is due to the sentiment evaluation method that we chose (see above) which scores a large majority of the articles as neutral. Another thing we note is that most of the \"high-sentiment\" articles are negative. Indeed, again in the distribution of the article scores above, we saw that there were more negative articles than positive ones.\n",
    "\n",
    "Now, let's dive into a causal analysis on whether or not the target sentiment affects the path structure. For now, we keep the \"structure\" feature purely a descriptive, non-formal one. \n",
    "\n",
    "But first, we notice that many of the paths have very short length, and we wonder whether these are of interest for our analysis. There are about 10,000 paths with length 1 or 2:"
   ]
  },
  {
   "cell_type": "code",
   "execution_count": 7,
   "id": "ccee3ee9",
   "metadata": {},
   "outputs": [
    {
     "data": {
      "text/plain": [
       "10495"
      ]
     },
     "execution_count": 7,
     "metadata": {},
     "output_type": "execute_result"
    }
   ],
   "source": [
    "len(df[(df[\"Path_length\"] <= 2)])"
   ]
  },
  {
   "cell_type": "markdown",
   "id": "dae965d8",
   "metadata": {},
   "source": [
    "Out of these, only about 800 do actually reach their target (see cell below). Note that the paths that reach their target are the ones for which the column Target score is a NaN value as the target score is already present in the Scores column (since it is reached)."
   ]
  },
  {
   "cell_type": "code",
   "execution_count": 8,
   "id": "50ad97ec",
   "metadata": {},
   "outputs": [
    {
     "data": {
      "text/plain": [
       "831"
      ]
     },
     "execution_count": 8,
     "metadata": {},
     "output_type": "execute_result"
    }
   ],
   "source": [
    "len(df[(df[\"Path_length\"] <= 2) & (df[\"Target score\"].apply(lambda x: np.isnan(x)))])"
   ]
  },
  {
   "cell_type": "markdown",
   "id": "51660a7d",
   "metadata": {},
   "source": [
    "We decide that short paths that do not reach their target are \"rage-quits\": they do not provide useful information for our analysis (they are noise). Similarly, short paths that reach their target are also noise: they are too easy! In both cases, neither does provide useful information, so we discard these in our following analyses. Now, let's focus on splitting the data according to the target's sentiment."
   ]
  },
  {
   "cell_type": "code",
   "execution_count": 9,
   "id": "c6d3cd6e",
   "metadata": {},
   "outputs": [],
   "source": [
    "df = df[df[\"Path_length\"] > 2]"
   ]
  },
  {
   "cell_type": "markdown",
   "id": "796a9c2a",
   "metadata": {},
   "source": [
    "Let's gather the target articles' scores in a new column. Note that we differentiate the case where the target article was found or not. We then split the dataframe in 3 frames depending on the target score. "
   ]
  },
  {
   "cell_type": "code",
   "execution_count": 10,
   "id": "19fb08ec",
   "metadata": {},
   "outputs": [],
   "source": [
    "df[\"target_score_raw\"] = df.apply(lambda x: x['Scores'][-1] if np.isnan(x['Target score']) else x['Target score'], axis=1)\n",
    "df_positive = df[df[\"target_score_raw\"] >= 0.5]\n",
    "df_neutral = df[(df[\"target_score_raw\"] > -0.5) & (df[\"target_score_raw\"] < 0.5)]\n",
    "df_negative = df[df[\"target_score_raw\"] <= -0.5]"
   ]
  },
  {
   "cell_type": "markdown",
   "id": "9b74674d",
   "metadata": {},
   "source": [
    "Note that the scores where we split the data seem arbitrary, but in fact the scores are very well split (we refer here again to the histogram of the articles' sentiment scores)."
   ]
  },
  {
   "cell_type": "code",
   "execution_count": 11,
   "id": "de971139",
   "metadata": {},
   "outputs": [
    {
     "data": {
      "text/html": [
       "<div>\n",
       "<style scoped>\n",
       "    .dataframe tbody tr th:only-of-type {\n",
       "        vertical-align: middle;\n",
       "    }\n",
       "\n",
       "    .dataframe tbody tr th {\n",
       "        vertical-align: top;\n",
       "    }\n",
       "\n",
       "    .dataframe thead th {\n",
       "        text-align: right;\n",
       "    }\n",
       "</style>\n",
       "<table border=\"1\" class=\"dataframe\">\n",
       "  <thead>\n",
       "    <tr style=\"text-align: right;\">\n",
       "      <th></th>\n",
       "      <th>Target score</th>\n",
       "      <th>Scores_mean</th>\n",
       "      <th>Path_length</th>\n",
       "      <th>target_score_raw</th>\n",
       "    </tr>\n",
       "  </thead>\n",
       "  <tbody>\n",
       "    <tr>\n",
       "      <th>count</th>\n",
       "      <td>438.000000</td>\n",
       "      <td>2030.000000</td>\n",
       "      <td>2030.000000</td>\n",
       "      <td>2030.000000</td>\n",
       "    </tr>\n",
       "    <tr>\n",
       "      <th>mean</th>\n",
       "      <td>0.761764</td>\n",
       "      <td>0.098503</td>\n",
       "      <td>6.032020</td>\n",
       "      <td>0.758437</td>\n",
       "    </tr>\n",
       "    <tr>\n",
       "      <th>std</th>\n",
       "      <td>0.055430</td>\n",
       "      <td>0.141188</td>\n",
       "      <td>3.248302</td>\n",
       "      <td>0.050272</td>\n",
       "    </tr>\n",
       "    <tr>\n",
       "      <th>min</th>\n",
       "      <td>0.700043</td>\n",
       "      <td>-0.865857</td>\n",
       "      <td>3.000000</td>\n",
       "      <td>0.700043</td>\n",
       "    </tr>\n",
       "    <tr>\n",
       "      <th>25%</th>\n",
       "      <td>0.717978</td>\n",
       "      <td>0.010624</td>\n",
       "      <td>4.000000</td>\n",
       "      <td>0.716237</td>\n",
       "    </tr>\n",
       "    <tr>\n",
       "      <th>50%</th>\n",
       "      <td>0.747766</td>\n",
       "      <td>0.112524</td>\n",
       "      <td>5.000000</td>\n",
       "      <td>0.750177</td>\n",
       "    </tr>\n",
       "    <tr>\n",
       "      <th>75%</th>\n",
       "      <td>0.777580</td>\n",
       "      <td>0.182197</td>\n",
       "      <td>7.000000</td>\n",
       "      <td>0.782183</td>\n",
       "    </tr>\n",
       "    <tr>\n",
       "      <th>max</th>\n",
       "      <td>0.939431</td>\n",
       "      <td>0.626832</td>\n",
       "      <td>67.000000</td>\n",
       "      <td>0.943384</td>\n",
       "    </tr>\n",
       "  </tbody>\n",
       "</table>\n",
       "</div>"
      ],
      "text/plain": [
       "       Target score  Scores_mean  Path_length  target_score_raw\n",
       "count    438.000000  2030.000000  2030.000000       2030.000000\n",
       "mean       0.761764     0.098503     6.032020          0.758437\n",
       "std        0.055430     0.141188     3.248302          0.050272\n",
       "min        0.700043    -0.865857     3.000000          0.700043\n",
       "25%        0.717978     0.010624     4.000000          0.716237\n",
       "50%        0.747766     0.112524     5.000000          0.750177\n",
       "75%        0.777580     0.182197     7.000000          0.782183\n",
       "max        0.939431     0.626832    67.000000          0.943384"
      ]
     },
     "execution_count": 11,
     "metadata": {},
     "output_type": "execute_result"
    }
   ],
   "source": [
    "df_positive.describe()"
   ]
  },
  {
   "cell_type": "code",
   "execution_count": 12,
   "id": "f2ae2ee2",
   "metadata": {},
   "outputs": [
    {
     "data": {
      "text/html": [
       "<div>\n",
       "<style scoped>\n",
       "    .dataframe tbody tr th:only-of-type {\n",
       "        vertical-align: middle;\n",
       "    }\n",
       "\n",
       "    .dataframe tbody tr th {\n",
       "        vertical-align: top;\n",
       "    }\n",
       "\n",
       "    .dataframe thead th {\n",
       "        text-align: right;\n",
       "    }\n",
       "</style>\n",
       "<table border=\"1\" class=\"dataframe\">\n",
       "  <thead>\n",
       "    <tr style=\"text-align: right;\">\n",
       "      <th></th>\n",
       "      <th>Target score</th>\n",
       "      <th>Scores_mean</th>\n",
       "      <th>Path_length</th>\n",
       "      <th>target_score_raw</th>\n",
       "    </tr>\n",
       "  </thead>\n",
       "  <tbody>\n",
       "    <tr>\n",
       "      <th>count</th>\n",
       "      <td>1316.000000</td>\n",
       "      <td>5960.000000</td>\n",
       "      <td>5960.000000</td>\n",
       "      <td>5960.000000</td>\n",
       "    </tr>\n",
       "    <tr>\n",
       "      <th>mean</th>\n",
       "      <td>-0.821085</td>\n",
       "      <td>-0.242910</td>\n",
       "      <td>5.866443</td>\n",
       "      <td>-0.816736</td>\n",
       "    </tr>\n",
       "    <tr>\n",
       "      <th>std</th>\n",
       "      <td>0.092857</td>\n",
       "      <td>0.170273</td>\n",
       "      <td>3.084960</td>\n",
       "      <td>0.087023</td>\n",
       "    </tr>\n",
       "    <tr>\n",
       "      <th>min</th>\n",
       "      <td>-1.000000</td>\n",
       "      <td>-0.942485</td>\n",
       "      <td>3.000000</td>\n",
       "      <td>-1.000000</td>\n",
       "    </tr>\n",
       "    <tr>\n",
       "      <th>25%</th>\n",
       "      <td>-0.879634</td>\n",
       "      <td>-0.353202</td>\n",
       "      <td>4.000000</td>\n",
       "      <td>-0.865036</td>\n",
       "    </tr>\n",
       "    <tr>\n",
       "      <th>50%</th>\n",
       "      <td>-0.790648</td>\n",
       "      <td>-0.225142</td>\n",
       "      <td>5.000000</td>\n",
       "      <td>-0.804227</td>\n",
       "    </tr>\n",
       "    <tr>\n",
       "      <th>75%</th>\n",
       "      <td>-0.740544</td>\n",
       "      <td>-0.136337</td>\n",
       "      <td>7.000000</td>\n",
       "      <td>-0.742560</td>\n",
       "    </tr>\n",
       "    <tr>\n",
       "      <th>max</th>\n",
       "      <td>-0.700808</td>\n",
       "      <td>0.440404</td>\n",
       "      <td>102.000000</td>\n",
       "      <td>-0.700045</td>\n",
       "    </tr>\n",
       "  </tbody>\n",
       "</table>\n",
       "</div>"
      ],
      "text/plain": [
       "       Target score  Scores_mean  Path_length  target_score_raw\n",
       "count   1316.000000  5960.000000  5960.000000       5960.000000\n",
       "mean      -0.821085    -0.242910     5.866443         -0.816736\n",
       "std        0.092857     0.170273     3.084960          0.087023\n",
       "min       -1.000000    -0.942485     3.000000         -1.000000\n",
       "25%       -0.879634    -0.353202     4.000000         -0.865036\n",
       "50%       -0.790648    -0.225142     5.000000         -0.804227\n",
       "75%       -0.740544    -0.136337     7.000000         -0.742560\n",
       "max       -0.700808     0.440404   102.000000         -0.700045"
      ]
     },
     "execution_count": 12,
     "metadata": {},
     "output_type": "execute_result"
    }
   ],
   "source": [
    "df_negative.describe()"
   ]
  },
  {
   "cell_type": "code",
   "execution_count": 13,
   "id": "b996d09c",
   "metadata": {},
   "outputs": [
    {
     "data": {
      "text/html": [
       "<div>\n",
       "<style scoped>\n",
       "    .dataframe tbody tr th:only-of-type {\n",
       "        vertical-align: middle;\n",
       "    }\n",
       "\n",
       "    .dataframe tbody tr th {\n",
       "        vertical-align: top;\n",
       "    }\n",
       "\n",
       "    .dataframe thead th {\n",
       "        text-align: right;\n",
       "    }\n",
       "</style>\n",
       "<table border=\"1\" class=\"dataframe\">\n",
       "  <thead>\n",
       "    <tr style=\"text-align: right;\">\n",
       "      <th></th>\n",
       "      <th>Target score</th>\n",
       "      <th>Scores_mean</th>\n",
       "      <th>Path_length</th>\n",
       "      <th>target_score_raw</th>\n",
       "    </tr>\n",
       "  </thead>\n",
       "  <tbody>\n",
       "    <tr>\n",
       "      <th>count</th>\n",
       "      <td>13428.000000</td>\n",
       "      <td>57679.000000</td>\n",
       "      <td>57679.000000</td>\n",
       "      <td>57679.000000</td>\n",
       "    </tr>\n",
       "    <tr>\n",
       "      <th>mean</th>\n",
       "      <td>-0.026903</td>\n",
       "      <td>-0.045076</td>\n",
       "      <td>6.010506</td>\n",
       "      <td>-0.029277</td>\n",
       "    </tr>\n",
       "    <tr>\n",
       "      <th>std</th>\n",
       "      <td>0.109761</td>\n",
       "      <td>0.111394</td>\n",
       "      <td>3.536139</td>\n",
       "      <td>0.103377</td>\n",
       "    </tr>\n",
       "    <tr>\n",
       "      <th>min</th>\n",
       "      <td>-0.385264</td>\n",
       "      <td>-0.878111</td>\n",
       "      <td>3.000000</td>\n",
       "      <td>-0.385264</td>\n",
       "    </tr>\n",
       "    <tr>\n",
       "      <th>25%</th>\n",
       "      <td>-0.122357</td>\n",
       "      <td>-0.083277</td>\n",
       "      <td>4.000000</td>\n",
       "      <td>-0.109475</td>\n",
       "    </tr>\n",
       "    <tr>\n",
       "      <th>50%</th>\n",
       "      <td>-0.038557</td>\n",
       "      <td>-0.033339</td>\n",
       "      <td>5.000000</td>\n",
       "      <td>-0.040235</td>\n",
       "    </tr>\n",
       "    <tr>\n",
       "      <th>75%</th>\n",
       "      <td>0.057017</td>\n",
       "      <td>0.010639</td>\n",
       "      <td>7.000000</td>\n",
       "      <td>0.042937</td>\n",
       "    </tr>\n",
       "    <tr>\n",
       "      <th>max</th>\n",
       "      <td>0.299472</td>\n",
       "      <td>0.627172</td>\n",
       "      <td>405.000000</td>\n",
       "      <td>0.299472</td>\n",
       "    </tr>\n",
       "  </tbody>\n",
       "</table>\n",
       "</div>"
      ],
      "text/plain": [
       "       Target score   Scores_mean   Path_length  target_score_raw\n",
       "count  13428.000000  57679.000000  57679.000000      57679.000000\n",
       "mean      -0.026903     -0.045076      6.010506         -0.029277\n",
       "std        0.109761      0.111394      3.536139          0.103377\n",
       "min       -0.385264     -0.878111      3.000000         -0.385264\n",
       "25%       -0.122357     -0.083277      4.000000         -0.109475\n",
       "50%       -0.038557     -0.033339      5.000000         -0.040235\n",
       "75%        0.057017      0.010639      7.000000          0.042937\n",
       "max        0.299472      0.627172    405.000000          0.299472"
      ]
     },
     "execution_count": 13,
     "metadata": {},
     "output_type": "execute_result"
    }
   ],
   "source": [
    "df_neutral.describe()"
   ]
  },
  {
   "cell_type": "markdown",
   "id": "445c28fe",
   "metadata": {},
   "source": [
    "[Comment on ...]\n",
    "\n",
    "Let us now visualize the paths using the heatmap tool. Note that the heatmap does not show the target sentiment, as this would add noise on the image (it would show more negativity when in reality it just represents the last click to the target)."
   ]
  },
  {
   "cell_type": "code",
   "execution_count": 14,
   "id": "117170da",
   "metadata": {},
   "outputs": [
    {
     "data": {
      "image/png": "[encoded data removed]",
      "text/plain": [
       "<Figure size 432x288 with 2 Axes>"
      ]
     },
     "metadata": {
      "needs_background": "light"
     },
     "output_type": "display_data"
    }
   ],
   "source": [
    "path_heatmap(df_positive, \n",
    "             title=\"Path heatmap for articles with highly positive target sentiment score\", \n",
    "             remove_target=True)\n",
    "plt.show()"
   ]
  },
  {
   "cell_type": "code",
   "execution_count": 15,
   "id": "8a503a4f",
   "metadata": {},
   "outputs": [
    {
     "data": {
      "image/png": "[encoded data removed]",
      "text/plain": [
       "<Figure size 432x288 with 2 Axes>"
      ]
     },
     "metadata": {
      "needs_background": "light"
     },
     "output_type": "display_data"
    }
   ],
   "source": [
    "path_heatmap(df_negative, \n",
    "             title=\"Path heatmap for articles with highly negative target sentiment score\", \n",
    "             remove_target=True)\n",
    "plt.show()"
   ]
  },
  {
   "cell_type": "code",
   "execution_count": 16,
   "id": "8075ad2d",
   "metadata": {},
   "outputs": [
    {
     "data": {
      "image/png": "[encoded data removed]",
      "text/plain": [
       "<Figure size 432x288 with 2 Axes>"
      ]
     },
     "metadata": {
      "needs_background": "light"
     },
     "output_type": "display_data"
    }
   ],
   "source": [
    "path_heatmap(df_neutral.filter(items=np.random.choice(df_neutral.index, size=1000), axis=0), \n",
    "             title=\"Path heatmap for articles with neutral target sentiment score\", \n",
    "             remove_target=True)\n",
    "plt.show()"
   ]
  },
  {
   "cell_type": "markdown",
   "id": "5b4b294a",
   "metadata": {},
   "source": [
    "In the negative targets heatmap, it seems that there are much more negative articles along the path. However, surprisingly, in the positive targets heatmap, the paths are pretty balanced. One interesting thing to note is that the first few articles in the paths seems more negative, while in the later stages they seem more positive. Both these observations confirm the somewhat trivial statement: paths with positive targets tend to be more positive in the end of the paths, while paths with negative targets tend to get more negative in the end of the paths. Indeed, it seems logical that similar articles have similar sentiments (cf. subquestion 6), and that adjacent articles in the paths are of similar topics, therefore that sentiment scores before targets are similar to that of targets."
   ]
  },
  {
   "cell_type": "markdown",
   "id": "6058f97d",
   "metadata": {},
   "source": [
    "### 2. Target sentiment ~ path length ?"
   ]
  },
  {
   "cell_type": "markdown",
   "id": "028c5279",
   "metadata": {},
   "source": [
    "Let's try making a predictive model to determine the strength of the relationship between target sentiment and path length. Can a model predict the path length given the target sentiment?"
   ]
  },
  {
   "cell_type": "code",
   "execution_count": 17,
   "id": "0d0754eb",
   "metadata": {},
   "outputs": [],
   "source": [
    "df[\"is_target_positive\"] = df[\"target_score_raw\"] > 0.5\n",
    "df[\"is_target_negative\"] = df[\"target_score_raw\"] < -0.5"
   ]
  },
  {
   "cell_type": "code",
   "execution_count": 18,
   "id": "408cc836",
   "metadata": {},
   "outputs": [
    {
     "data": {
      "text/plain": [
       "(2030, 5960)"
      ]
     },
     "execution_count": 18,
     "metadata": {},
     "output_type": "execute_result"
    }
   ],
   "source": [
    "df[\"is_target_positive\"].sum(), df[\"is_target_negative\"].sum()"
   ]
  },
  {
   "cell_type": "markdown",
   "id": "0061f260",
   "metadata": {},
   "source": [
    "There are 2030 games with positive target, and 5960 games with negative targets."
   ]
  },
  {
   "cell_type": "code",
   "execution_count": 19,
   "id": "ec8dd825",
   "metadata": {},
   "outputs": [
    {
     "data": {
      "text/html": [
       "<table class=\"simpletable\">\n",
       "<caption>OLS Regression Results</caption>\n",
       "<tr>\n",
       "  <th>Dep. Variable:</th>       <td>Path_length</td>   <th>  R-squared:         </th>  <td>   0.000</td>  \n",
       "</tr>\n",
       "<tr>\n",
       "  <th>Model:</th>                   <td>OLS</td>       <th>  Adj. R-squared:    </th>  <td>   0.000</td>  \n",
       "</tr>\n",
       "<tr>\n",
       "  <th>Method:</th>             <td>Least Squares</td>  <th>  F-statistic:       </th>  <td>   4.704</td>  \n",
       "</tr>\n",
       "<tr>\n",
       "  <th>Date:</th>             <td>Fri, 22 Dec 2023</td> <th>  Prob (F-statistic):</th>   <td>0.00906</td>  \n",
       "</tr>\n",
       "<tr>\n",
       "  <th>Time:</th>                 <td>19:18:40</td>     <th>  Log-Likelihood:    </th> <td>-1.7524e+05</td>\n",
       "</tr>\n",
       "<tr>\n",
       "  <th>No. Observations:</th>      <td> 65669</td>      <th>  AIC:               </th>  <td>3.505e+05</td> \n",
       "</tr>\n",
       "<tr>\n",
       "  <th>Df Residuals:</th>          <td> 65666</td>      <th>  BIC:               </th>  <td>3.505e+05</td> \n",
       "</tr>\n",
       "<tr>\n",
       "  <th>Df Model:</th>              <td>     2</td>      <th>                     </th>      <td> </td>     \n",
       "</tr>\n",
       "<tr>\n",
       "  <th>Covariance Type:</th>      <td>nonrobust</td>    <th>                     </th>      <td> </td>     \n",
       "</tr>\n",
       "</table>\n",
       "<table class=\"simpletable\">\n",
       "<tr>\n",
       "                <td></td>                   <th>coef</th>     <th>std err</th>      <th>t</th>      <th>P>|t|</th>  <th>[0.025</th>    <th>0.975]</th>  \n",
       "</tr>\n",
       "<tr>\n",
       "  <th>Intercept</th>                     <td>    6.0105</td> <td>    0.015</td> <td>  413.736</td> <td> 0.000</td> <td>    5.982</td> <td>    6.039</td>\n",
       "</tr>\n",
       "<tr>\n",
       "  <th>C(is_target_positive)[T.True]</th> <td>    0.0215</td> <td>    0.079</td> <td>    0.273</td> <td> 0.785</td> <td>   -0.133</td> <td>    0.176</td>\n",
       "</tr>\n",
       "<tr>\n",
       "  <th>C(is_target_negative)[T.True]</th> <td>   -0.1441</td> <td>    0.047</td> <td>   -3.035</td> <td> 0.002</td> <td>   -0.237</td> <td>   -0.051</td>\n",
       "</tr>\n",
       "</table>\n",
       "<table class=\"simpletable\">\n",
       "<tr>\n",
       "  <th>Omnibus:</th>       <td>166985.510</td> <th>  Durbin-Watson:     </th>    <td>   1.845</td>    \n",
       "</tr>\n",
       "<tr>\n",
       "  <th>Prob(Omnibus):</th>   <td> 0.000</td>   <th>  Jarque-Bera (JB):  </th> <td>19940403342.826</td>\n",
       "</tr>\n",
       "<tr>\n",
       "  <th>Skew:</th>            <td>27.681</td>   <th>  Prob(JB):          </th>    <td>    0.00</td>    \n",
       "</tr>\n",
       "<tr>\n",
       "  <th>Kurtosis:</th>       <td>2701.989</td>  <th>  Cond. No.          </th>    <td>    5.82</td>    \n",
       "</tr>\n",
       "</table><br/><br/>Notes:<br/>[1] Standard Errors assume that the covariance matrix of the errors is correctly specified."
      ],
      "text/plain": [
       "<class 'statsmodels.iolib.summary.Summary'>\n",
       "\"\"\"\n",
       "                            OLS Regression Results                            \n",
       "==============================================================================\n",
       "Dep. Variable:            Path_length   R-squared:                       0.000\n",
       "Model:                            OLS   Adj. R-squared:                  0.000\n",
       "Method:                 Least Squares   F-statistic:                     4.704\n",
       "Date:                Fri, 22 Dec 2023   Prob (F-statistic):            0.00906\n",
       "Time:                        19:18:40   Log-Likelihood:            -1.7524e+05\n",
       "No. Observations:               65669   AIC:                         3.505e+05\n",
       "Df Residuals:                   65666   BIC:                         3.505e+05\n",
       "Df Model:                           2                                         \n",
       "Covariance Type:            nonrobust                                         \n",
       "=================================================================================================\n",
       "                                    coef    std err          t      P>|t|      [0.025      0.975]\n",
       "-------------------------------------------------------------------------------------------------\n",
       "Intercept                         6.0105      0.015    413.736      0.000       5.982       6.039\n",
       "C(is_target_positive)[T.True]     0.0215      0.079      0.273      0.785      -0.133       0.176\n",
       "C(is_target_negative)[T.True]    -0.1441      0.047     -3.035      0.002      -0.237      -0.051\n",
       "==============================================================================\n",
       "Omnibus:                   166985.510   Durbin-Watson:                   1.845\n",
       "Prob(Omnibus):                  0.000   Jarque-Bera (JB):      19940403342.826\n",
       "Skew:                          27.681   Prob(JB):                         0.00\n",
       "Kurtosis:                    2701.989   Cond. No.                         5.82\n",
       "==============================================================================\n",
       "\n",
       "Notes:\n",
       "[1] Standard Errors assume that the covariance matrix of the errors is correctly specified.\n",
       "\"\"\""
      ]
     },
     "execution_count": 19,
     "metadata": {},
     "output_type": "execute_result"
    }
   ],
   "source": [
    "mod = smf.ols(formula='Path_length ~ C(is_target_positive) + C(is_target_negative)', data=df)\n",
    "res = mod.fit()\n",
    "res.summary()"
   ]
  },
  {
   "cell_type": "markdown",
   "id": "5a0312e8",
   "metadata": {},
   "source": [
    "The negativity of target seems to have some link towards predicting the path length. There is some negative correlation, and it is significant at the $0.05$ significance level because the p-value for the coefficient is $0.002$, indicating that we cannot reject the null hypothesis that there is no correlation between negativity of target sentiment and path length. Let us verify that the fact that a target is reached or not is a confounder variable in that case. "
   ]
  },
  {
   "cell_type": "code",
   "execution_count": 20,
   "id": "5e462861",
   "metadata": {},
   "outputs": [
    {
     "data": {
      "text/html": [
       "<div>\n",
       "<style scoped>\n",
       "    .dataframe tbody tr th:only-of-type {\n",
       "        vertical-align: middle;\n",
       "    }\n",
       "\n",
       "    .dataframe tbody tr th {\n",
       "        vertical-align: top;\n",
       "    }\n",
       "\n",
       "    .dataframe thead th {\n",
       "        text-align: right;\n",
       "    }\n",
       "</style>\n",
       "<table border=\"1\" class=\"dataframe\">\n",
       "  <thead>\n",
       "    <tr style=\"text-align: right;\">\n",
       "      <th></th>\n",
       "      <th>Scores</th>\n",
       "      <th>Rounded</th>\n",
       "      <th>Target score</th>\n",
       "      <th>Scores_mean</th>\n",
       "      <th>Path_length</th>\n",
       "      <th>target_score_raw</th>\n",
       "      <th>is_target_positive</th>\n",
       "      <th>is_target_negative</th>\n",
       "      <th>is_target_negative_and_reached</th>\n",
       "      <th>is_target_negative_and_not_reached</th>\n",
       "      <th>is_target_positive_and_reached</th>\n",
       "      <th>is_target_positive_and_not_reached</th>\n",
       "    </tr>\n",
       "  </thead>\n",
       "  <tbody>\n",
       "    <tr>\n",
       "      <th>0</th>\n",
       "      <td>[-0.14721301536458237, -0.028293290087380706, ...</td>\n",
       "      <td>[0, 0, 0, 0, 0, 0, 0, -1, -1]</td>\n",
       "      <td>NaN</td>\n",
       "      <td>-0.204399</td>\n",
       "      <td>9</td>\n",
       "      <td>-0.787055</td>\n",
       "      <td>False</td>\n",
       "      <td>True</td>\n",
       "      <td>1</td>\n",
       "      <td>0</td>\n",
       "      <td>0</td>\n",
       "      <td>0</td>\n",
       "    </tr>\n",
       "    <tr>\n",
       "      <th>1</th>\n",
       "      <td>[-0.14721301536458237, -0.048477304979667915, ...</td>\n",
       "      <td>[0, 0, 0, -1, -1]</td>\n",
       "      <td>NaN</td>\n",
       "      <td>-0.386558</td>\n",
       "      <td>5</td>\n",
       "      <td>-0.787055</td>\n",
       "      <td>False</td>\n",
       "      <td>True</td>\n",
       "      <td>1</td>\n",
       "      <td>0</td>\n",
       "      <td>0</td>\n",
       "      <td>0</td>\n",
       "    </tr>\n",
       "    <tr>\n",
       "      <th>2</th>\n",
       "      <td>[-0.14721301536458237, -0.052448976123087784, ...</td>\n",
       "      <td>[0, 0, -1, 0, -1, 0, -1, -1]</td>\n",
       "      <td>NaN</td>\n",
       "      <td>-0.457848</td>\n",
       "      <td>8</td>\n",
       "      <td>-0.787055</td>\n",
       "      <td>False</td>\n",
       "      <td>True</td>\n",
       "      <td>1</td>\n",
       "      <td>0</td>\n",
       "      <td>0</td>\n",
       "      <td>0</td>\n",
       "    </tr>\n",
       "    <tr>\n",
       "      <th>3</th>\n",
       "      <td>[-0.14721301536458237, 0.037461097698424525, -...</td>\n",
       "      <td>[0, 0, 0, 0]</td>\n",
       "      <td>NaN</td>\n",
       "      <td>-0.020967</td>\n",
       "      <td>4</td>\n",
       "      <td>0.080644</td>\n",
       "      <td>False</td>\n",
       "      <td>False</td>\n",
       "      <td>0</td>\n",
       "      <td>0</td>\n",
       "      <td>0</td>\n",
       "      <td>0</td>\n",
       "    </tr>\n",
       "    <tr>\n",
       "      <th>4</th>\n",
       "      <td>[-0.14721301536458237, -0.06396592637112342, 0...</td>\n",
       "      <td>[0, 0, 0, -1, 0, 0, 0]</td>\n",
       "      <td>NaN</td>\n",
       "      <td>-0.177478</td>\n",
       "      <td>7</td>\n",
       "      <td>-0.051500</td>\n",
       "      <td>False</td>\n",
       "      <td>False</td>\n",
       "      <td>0</td>\n",
       "      <td>0</td>\n",
       "      <td>0</td>\n",
       "      <td>0</td>\n",
       "    </tr>\n",
       "  </tbody>\n",
       "</table>\n",
       "</div>"
      ],
      "text/plain": [
       "                                              Scores  \\\n",
       "0  [-0.14721301536458237, -0.028293290087380706, ...   \n",
       "1  [-0.14721301536458237, -0.048477304979667915, ...   \n",
       "2  [-0.14721301536458237, -0.052448976123087784, ...   \n",
       "3  [-0.14721301536458237, 0.037461097698424525, -...   \n",
       "4  [-0.14721301536458237, -0.06396592637112342, 0...   \n",
       "\n",
       "                         Rounded  Target score  Scores_mean  Path_length  \\\n",
       "0  [0, 0, 0, 0, 0, 0, 0, -1, -1]           NaN    -0.204399            9   \n",
       "1              [0, 0, 0, -1, -1]           NaN    -0.386558            5   \n",
       "2   [0, 0, -1, 0, -1, 0, -1, -1]           NaN    -0.457848            8   \n",
       "3                   [0, 0, 0, 0]           NaN    -0.020967            4   \n",
       "4         [0, 0, 0, -1, 0, 0, 0]           NaN    -0.177478            7   \n",
       "\n",
       "   target_score_raw  is_target_positive  is_target_negative  \\\n",
       "0         -0.787055               False                True   \n",
       "1         -0.787055               False                True   \n",
       "2         -0.787055               False                True   \n",
       "3          0.080644               False               False   \n",
       "4         -0.051500               False               False   \n",
       "\n",
       "   is_target_negative_and_reached  is_target_negative_and_not_reached  \\\n",
       "0                               1                                   0   \n",
       "1                               1                                   0   \n",
       "2                               1                                   0   \n",
       "3                               0                                   0   \n",
       "4                               0                                   0   \n",
       "\n",
       "   is_target_positive_and_reached  is_target_positive_and_not_reached  \n",
       "0                               0                                   0  \n",
       "1                               0                                   0  \n",
       "2                               0                                   0  \n",
       "3                               0                                   0  \n",
       "4                               0                                   0  "
      ]
     },
     "execution_count": 20,
     "metadata": {},
     "output_type": "execute_result"
    }
   ],
   "source": [
    "df[\"is_target_negative_and_reached\"] = np.where((df[\"target_score_raw\"] < -0.5) & np.isnan(df[\"Target score\"]), 1, 0)\n",
    "df[\"is_target_negative_and_not_reached\"] = np.where((df[\"target_score_raw\"] < -0.5) & (~ np.isnan(df[\"Target score\"])), 1, 0)\n",
    "df[\"is_target_positive_and_reached\"] = np.where((df[\"target_score_raw\"] > 0.5) & np.isnan(df[\"Target score\"]), 1, 0)\n",
    "df[\"is_target_positive_and_not_reached\"] = np.where((df[\"target_score_raw\"] > 0.5) & (~ np.isnan(df[\"Target score\"])), 1, 0)\n",
    "df.head()"
   ]
  },
  {
   "cell_type": "code",
   "execution_count": 21,
   "id": "9ac06a85",
   "metadata": {},
   "outputs": [
    {
     "data": {
      "text/html": [
       "<table class=\"simpletable\">\n",
       "<caption>OLS Regression Results</caption>\n",
       "<tr>\n",
       "  <th>Dep. Variable:</th>       <td>Path_length</td>   <th>  R-squared:         </th>  <td>   0.000</td>  \n",
       "</tr>\n",
       "<tr>\n",
       "  <th>Model:</th>                   <td>OLS</td>       <th>  Adj. R-squared:    </th>  <td>   0.000</td>  \n",
       "</tr>\n",
       "<tr>\n",
       "  <th>Method:</th>             <td>Least Squares</td>  <th>  F-statistic:       </th>  <td>   4.561</td>  \n",
       "</tr>\n",
       "<tr>\n",
       "  <th>Date:</th>             <td>Fri, 22 Dec 2023</td> <th>  Prob (F-statistic):</th>   <td>0.00111</td>  \n",
       "</tr>\n",
       "<tr>\n",
       "  <th>Time:</th>                 <td>19:18:41</td>     <th>  Log-Likelihood:    </th> <td>-1.7523e+05</td>\n",
       "</tr>\n",
       "<tr>\n",
       "  <th>No. Observations:</th>      <td> 65669</td>      <th>  AIC:               </th>  <td>3.505e+05</td> \n",
       "</tr>\n",
       "<tr>\n",
       "  <th>Df Residuals:</th>          <td> 65664</td>      <th>  BIC:               </th>  <td>3.505e+05</td> \n",
       "</tr>\n",
       "<tr>\n",
       "  <th>Df Model:</th>              <td>     4</td>      <th>                     </th>      <td> </td>     \n",
       "</tr>\n",
       "<tr>\n",
       "  <th>Covariance Type:</th>      <td>nonrobust</td>    <th>                     </th>      <td> </td>     \n",
       "</tr>\n",
       "</table>\n",
       "<table class=\"simpletable\">\n",
       "<tr>\n",
       "                       <td></td>                         <th>coef</th>     <th>std err</th>      <th>t</th>      <th>P>|t|</th>  <th>[0.025</th>    <th>0.975]</th>  \n",
       "</tr>\n",
       "<tr>\n",
       "  <th>Intercept</th>                                  <td>    6.0105</td> <td>    0.015</td> <td>  413.758</td> <td> 0.000</td> <td>    5.982</td> <td>    6.039</td>\n",
       "</tr>\n",
       "<tr>\n",
       "  <th>C(is_target_negative_and_reached)[T.1]</th>     <td>   -0.1018</td> <td>    0.053</td> <td>   -1.913</td> <td> 0.056</td> <td>   -0.206</td> <td>    0.002</td>\n",
       "</tr>\n",
       "<tr>\n",
       "  <th>C(is_target_negative_and_not_reached)[T.1]</th> <td>   -0.2932</td> <td>    0.097</td> <td>   -3.014</td> <td> 0.003</td> <td>   -0.484</td> <td>   -0.103</td>\n",
       "</tr>\n",
       "<tr>\n",
       "  <th>C(is_target_positive_and_reached)[T.1]</th>     <td>    0.1189</td> <td>    0.089</td> <td>    1.341</td> <td> 0.180</td> <td>   -0.055</td> <td>    0.293</td>\n",
       "</tr>\n",
       "<tr>\n",
       "  <th>C(is_target_positive_and_not_reached)[T.1]</th> <td>   -0.3324</td> <td>    0.167</td> <td>   -1.987</td> <td> 0.047</td> <td>   -0.660</td> <td>   -0.004</td>\n",
       "</tr>\n",
       "</table>\n",
       "<table class=\"simpletable\">\n",
       "<tr>\n",
       "  <th>Omnibus:</th>       <td>167003.365</td> <th>  Durbin-Watson:     </th>    <td>   1.845</td>    \n",
       "</tr>\n",
       "<tr>\n",
       "  <th>Prob(Omnibus):</th>   <td> 0.000</td>   <th>  Jarque-Bera (JB):  </th> <td>19951452208.502</td>\n",
       "</tr>\n",
       "<tr>\n",
       "  <th>Skew:</th>            <td>27.688</td>   <th>  Prob(JB):          </th>    <td>    0.00</td>    \n",
       "</tr>\n",
       "<tr>\n",
       "  <th>Kurtosis:</th>       <td>2702.736</td>  <th>  Cond. No.          </th>    <td>    12.3</td>    \n",
       "</tr>\n",
       "</table><br/><br/>Notes:<br/>[1] Standard Errors assume that the covariance matrix of the errors is correctly specified."
      ],
      "text/plain": [
       "<class 'statsmodels.iolib.summary.Summary'>\n",
       "\"\"\"\n",
       "                            OLS Regression Results                            \n",
       "==============================================================================\n",
       "Dep. Variable:            Path_length   R-squared:                       0.000\n",
       "Model:                            OLS   Adj. R-squared:                  0.000\n",
       "Method:                 Least Squares   F-statistic:                     4.561\n",
       "Date:                Fri, 22 Dec 2023   Prob (F-statistic):            0.00111\n",
       "Time:                        19:18:41   Log-Likelihood:            -1.7523e+05\n",
       "No. Observations:               65669   AIC:                         3.505e+05\n",
       "Df Residuals:                   65664   BIC:                         3.505e+05\n",
       "Df Model:                           4                                         \n",
       "Covariance Type:            nonrobust                                         \n",
       "==============================================================================================================\n",
       "                                                 coef    std err          t      P>|t|      [0.025      0.975]\n",
       "--------------------------------------------------------------------------------------------------------------\n",
       "Intercept                                      6.0105      0.015    413.758      0.000       5.982       6.039\n",
       "C(is_target_negative_and_reached)[T.1]        -0.1018      0.053     -1.913      0.056      -0.206       0.002\n",
       "C(is_target_negative_and_not_reached)[T.1]    -0.2932      0.097     -3.014      0.003      -0.484      -0.103\n",
       "C(is_target_positive_and_reached)[T.1]         0.1189      0.089      1.341      0.180      -0.055       0.293\n",
       "C(is_target_positive_and_not_reached)[T.1]    -0.3324      0.167     -1.987      0.047      -0.660      -0.004\n",
       "==============================================================================\n",
       "Omnibus:                   167003.365   Durbin-Watson:                   1.845\n",
       "Prob(Omnibus):                  0.000   Jarque-Bera (JB):      19951452208.502\n",
       "Skew:                          27.688   Prob(JB):                         0.00\n",
       "Kurtosis:                    2702.736   Cond. No.                         12.3\n",
       "==============================================================================\n",
       "\n",
       "Notes:\n",
       "[1] Standard Errors assume that the covariance matrix of the errors is correctly specified.\n",
       "\"\"\""
      ]
     },
     "execution_count": 21,
     "metadata": {},
     "output_type": "execute_result"
    }
   ],
   "source": [
    "mod = smf.ols(formula='Path_length ~ C(is_target_negative_and_reached) + \\\n",
    "                                     C(is_target_negative_and_not_reached) + \\\n",
    "                                     C(is_target_positive_and_reached) + \\\n",
    "                                     C(is_target_positive_and_not_reached)', data=df)\n",
    "res = mod.fit()\n",
    "res.summary()"
   ]
  },
  {
   "cell_type": "markdown",
   "id": "287d1d80",
   "metadata": {},
   "source": [
    "At the $0.05$ significance level, the coefficient for the articles with reached targets is <b>not</b> significant, while the coefficient for the articles with <b>un</b>reached targets is significant. We conclude that unreached targets lower the average game length... the fact that a game is finished was indeed a confounder. This conclusion is clearly trivial: when players give up, it shortens the path length. \n",
    "\n",
    "It would have been interesting to observe that, for instance, negative targets are more likely to make the player give up than positive targets. However, it does not seem to be the case. What does that tell us about human psychology online? When exploring the web, have we become completely insensible machines, completely unmindful of the information we are reading? In a competitive context where both time and strategy are competing inside one's thinking process, it seems that from our analyses we cannot reach a unified conclusion about the effect of the target article's sentiment."
   ]
  },
  {
   "cell_type": "code",
   "execution_count": null,
   "id": "31fd65e0",
   "metadata": {},
   "outputs": [],
   "source": []
  }
 ],
 "metadata": {
  "kernelspec": {
   "display_name": "Python 3 (ipykernel)",
   "language": "python",
   "name": "python3"
  },
  "language_info": {
   "codemirror_mode": {
    "name": "ipython",
    "version": 3
   },
   "file_extension": ".py",
   "mimetype": "text/x-python",
   "name": "python",
   "nbconvert_exporter": "python",
   "pygments_lexer": "ipython3",
   "version": "3.9.7"
  }
 },
 "nbformat": 4,
 "nbformat_minor": 5
}
