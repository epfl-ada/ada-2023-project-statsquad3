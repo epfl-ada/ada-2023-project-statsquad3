{
 "cells": [
  {
   "cell_type": "markdown",
   "metadata": {},
   "source": [
    "### Imports"
   ]
  },
  {
   "cell_type": "code",
   "execution_count": 26,
   "metadata": {},
   "outputs": [],
   "source": [
    "import pickle\n",
    "import pandas as pd\n",
    "import numpy as np\n",
    "import matplotlib.pyplot as plt"
   ]
  },
  {
   "cell_type": "markdown",
   "metadata": {},
   "source": [
    "# Path analysis\n",
    "\n",
    "The second notebook analyzes the paths converted in the first notebook. The main goal is to answer the following questions:\n",
    "\n",
    "Does the sentiment of the starting article influence the trajectory of the game path?\n",
    "For instance, if a player begins with an article with a negative tone, are they more likely to navigate through similarly negatively toned articles?"
   ]
  },
  {
   "cell_type": "markdown",
   "metadata": {},
   "source": [
    "## Data Loading and rearrangement"
   ]
  },
  {
   "cell_type": "markdown",
   "metadata": {},
   "source": [
    "The first step is to choose which path analysis method we are going to use.\n",
    "For this question, the first method (the one considering only the direct paths).\n",
    "\n",
    "!! Not sure about this decision, what do you think ? !!"
   ]
  },
  {
   "cell_type": "code",
   "execution_count": 27,
   "metadata": {},
   "outputs": [
    {
     "data": {
      "text/html": [
       "<div>\n",
       "<style scoped>\n",
       "    .dataframe tbody tr th:only-of-type {\n",
       "        vertical-align: middle;\n",
       "    }\n",
       "\n",
       "    .dataframe tbody tr th {\n",
       "        vertical-align: top;\n",
       "    }\n",
       "\n",
       "    .dataframe thead th {\n",
       "        text-align: right;\n",
       "    }\n",
       "</style>\n",
       "<table border=\"1\" class=\"dataframe\">\n",
       "  <thead>\n",
       "    <tr style=\"text-align: right;\">\n",
       "      <th></th>\n",
       "      <th>Scores</th>\n",
       "      <th>Rounded</th>\n",
       "      <th>Target score</th>\n",
       "    </tr>\n",
       "  </thead>\n",
       "  <tbody>\n",
       "    <tr>\n",
       "      <th>0</th>\n",
       "      <td>[-0.14721301536458237, -0.028293290087380706, ...</td>\n",
       "      <td>[0, 0, 0, 0, 0, 0, 0, -1, -1]</td>\n",
       "      <td>NaN</td>\n",
       "    </tr>\n",
       "    <tr>\n",
       "      <th>1</th>\n",
       "      <td>[-0.14721301536458237, -0.048477304979667915, ...</td>\n",
       "      <td>[0, 0, 0, -1, -1]</td>\n",
       "      <td>NaN</td>\n",
       "    </tr>\n",
       "    <tr>\n",
       "      <th>2</th>\n",
       "      <td>[-0.14721301536458237, -0.052448976123087784, ...</td>\n",
       "      <td>[0, 0, -1, 0, -1, 0, -1, -1]</td>\n",
       "      <td>NaN</td>\n",
       "    </tr>\n",
       "    <tr>\n",
       "      <th>3</th>\n",
       "      <td>[-0.14721301536458237, 0.037461097698424525, -...</td>\n",
       "      <td>[0, 0, 0, 0]</td>\n",
       "      <td>NaN</td>\n",
       "    </tr>\n",
       "    <tr>\n",
       "      <th>4</th>\n",
       "      <td>[-0.14721301536458237, -0.06396592637112342, 0...</td>\n",
       "      <td>[0, 0, 0, -1, 0, 0, 0]</td>\n",
       "      <td>NaN</td>\n",
       "    </tr>\n",
       "  </tbody>\n",
       "</table>\n",
       "</div>"
      ],
      "text/plain": [
       "                                              Scores  \\\n",
       "0  [-0.14721301536458237, -0.028293290087380706, ...   \n",
       "1  [-0.14721301536458237, -0.048477304979667915, ...   \n",
       "2  [-0.14721301536458237, -0.052448976123087784, ...   \n",
       "3  [-0.14721301536458237, 0.037461097698424525, -...   \n",
       "4  [-0.14721301536458237, -0.06396592637112342, 0...   \n",
       "\n",
       "                         Rounded  Target score  \n",
       "0  [0, 0, 0, 0, 0, 0, 0, -1, -1]           NaN  \n",
       "1              [0, 0, 0, -1, -1]           NaN  \n",
       "2   [0, 0, -1, 0, -1, 0, -1, -1]           NaN  \n",
       "3                   [0, 0, 0, 0]           NaN  \n",
       "4         [0, 0, 0, -1, 0, 0, 0]           NaN  "
      ]
     },
     "execution_count": 27,
     "metadata": {},
     "output_type": "execute_result"
    }
   ],
   "source": [
    "with open('df_paths1.pickle', 'rb') as file:\n",
    "    df_paths = pickle.load(file)\n",
    "\n",
    "df_paths.head()"
   ]
  },
  {
   "cell_type": "markdown",
   "metadata": {},
   "source": [
    "The length of each path is calculated and stored in the dataframe.\n",
    "The paths that have a length of 1 are unfinished paths that do not countain any useful information for this analysis, they are therefore discarded"
   ]
  },
  {
   "cell_type": "code",
   "execution_count": 28,
   "metadata": {},
   "outputs": [
    {
     "name": "stdout",
     "output_type": "stream",
     "text": [
      "There is 70280 paths\n"
     ]
    },
    {
     "data": {
      "text/html": [
       "<div>\n",
       "<style scoped>\n",
       "    .dataframe tbody tr th:only-of-type {\n",
       "        vertical-align: middle;\n",
       "    }\n",
       "\n",
       "    .dataframe tbody tr th {\n",
       "        vertical-align: top;\n",
       "    }\n",
       "\n",
       "    .dataframe thead th {\n",
       "        text-align: right;\n",
       "    }\n",
       "</style>\n",
       "<table border=\"1\" class=\"dataframe\">\n",
       "  <thead>\n",
       "    <tr style=\"text-align: right;\">\n",
       "      <th></th>\n",
       "      <th>Scores</th>\n",
       "      <th>Rounded</th>\n",
       "      <th>Target score</th>\n",
       "      <th>Length</th>\n",
       "    </tr>\n",
       "  </thead>\n",
       "  <tbody>\n",
       "    <tr>\n",
       "      <th>0</th>\n",
       "      <td>[-0.14721301536458237, -0.028293290087380706, ...</td>\n",
       "      <td>[0, 0, 0, 0, 0, 0, 0, -1, -1]</td>\n",
       "      <td>NaN</td>\n",
       "      <td>9</td>\n",
       "    </tr>\n",
       "    <tr>\n",
       "      <th>1</th>\n",
       "      <td>[-0.14721301536458237, -0.048477304979667915, ...</td>\n",
       "      <td>[0, 0, 0, -1, -1]</td>\n",
       "      <td>NaN</td>\n",
       "      <td>5</td>\n",
       "    </tr>\n",
       "    <tr>\n",
       "      <th>2</th>\n",
       "      <td>[-0.14721301536458237, -0.052448976123087784, ...</td>\n",
       "      <td>[0, 0, -1, 0, -1, 0, -1, -1]</td>\n",
       "      <td>NaN</td>\n",
       "      <td>8</td>\n",
       "    </tr>\n",
       "    <tr>\n",
       "      <th>3</th>\n",
       "      <td>[-0.14721301536458237, 0.037461097698424525, -...</td>\n",
       "      <td>[0, 0, 0, 0]</td>\n",
       "      <td>NaN</td>\n",
       "      <td>4</td>\n",
       "    </tr>\n",
       "    <tr>\n",
       "      <th>4</th>\n",
       "      <td>[-0.14721301536458237, -0.06396592637112342, 0...</td>\n",
       "      <td>[0, 0, 0, -1, 0, 0, 0]</td>\n",
       "      <td>NaN</td>\n",
       "      <td>7</td>\n",
       "    </tr>\n",
       "  </tbody>\n",
       "</table>\n",
       "</div>"
      ],
      "text/plain": [
       "                                              Scores  \\\n",
       "0  [-0.14721301536458237, -0.028293290087380706, ...   \n",
       "1  [-0.14721301536458237, -0.048477304979667915, ...   \n",
       "2  [-0.14721301536458237, -0.052448976123087784, ...   \n",
       "3  [-0.14721301536458237, 0.037461097698424525, -...   \n",
       "4  [-0.14721301536458237, -0.06396592637112342, 0...   \n",
       "\n",
       "                         Rounded  Target score  Length  \n",
       "0  [0, 0, 0, 0, 0, 0, 0, -1, -1]           NaN       9  \n",
       "1              [0, 0, 0, -1, -1]           NaN       5  \n",
       "2   [0, 0, -1, 0, -1, 0, -1, -1]           NaN       8  \n",
       "3                   [0, 0, 0, 0]           NaN       4  \n",
       "4         [0, 0, 0, -1, 0, 0, 0]           NaN       7  "
      ]
     },
     "execution_count": 28,
     "metadata": {},
     "output_type": "execute_result"
    }
   ],
   "source": [
    "for i in range(len(df_paths)):\n",
    "    df_paths.loc[i,'Length']=len(df_paths.loc[i,'Scores'])\n",
    "\n",
    "df_paths['Length']=df_paths['Length'].astype(int)\n",
    "\n",
    "df_paths=df_paths[df_paths['Length']!=1].copy(deep=True)\n",
    "df_paths.reset_index(inplace=True,drop=True)\n",
    "\n",
    "print(f'There is {len(df_paths)} paths')\n",
    "df_paths.head()"
   ]
  },
  {
   "cell_type": "markdown",
   "metadata": {},
   "source": [
    "Add a few more statistics to the dataframe."
   ]
  },
  {
   "cell_type": "code",
   "execution_count": 29,
   "metadata": {},
   "outputs": [
    {
     "name": "stdout",
     "output_type": "stream",
     "text": [
      "1st done\n",
      "2nd done\n",
      "3rd done\n"
     ]
    },
    {
     "data": {
      "text/html": [
       "<div>\n",
       "<style scoped>\n",
       "    .dataframe tbody tr th:only-of-type {\n",
       "        vertical-align: middle;\n",
       "    }\n",
       "\n",
       "    .dataframe tbody tr th {\n",
       "        vertical-align: top;\n",
       "    }\n",
       "\n",
       "    .dataframe thead th {\n",
       "        text-align: right;\n",
       "    }\n",
       "</style>\n",
       "<table border=\"1\" class=\"dataframe\">\n",
       "  <thead>\n",
       "    <tr style=\"text-align: right;\">\n",
       "      <th></th>\n",
       "      <th>Scores</th>\n",
       "      <th>Rounded</th>\n",
       "      <th>Target score</th>\n",
       "      <th>Length</th>\n",
       "      <th>Starting</th>\n",
       "      <th>Pos Nbr</th>\n",
       "      <th>Neutral Nbr</th>\n",
       "      <th>Neg Nbr</th>\n",
       "      <th>Pos %</th>\n",
       "      <th>Neg %</th>\n",
       "      <th>Neutral %</th>\n",
       "    </tr>\n",
       "  </thead>\n",
       "  <tbody>\n",
       "    <tr>\n",
       "      <th>0</th>\n",
       "      <td>[-0.14721301536458237, -0.028293290087380706, ...</td>\n",
       "      <td>[0, 0, 0, 0, 0, 0, 0, -1, -1]</td>\n",
       "      <td>NaN</td>\n",
       "      <td>9</td>\n",
       "      <td>0</td>\n",
       "      <td>0</td>\n",
       "      <td>7</td>\n",
       "      <td>2</td>\n",
       "      <td>0.0</td>\n",
       "      <td>0.22</td>\n",
       "      <td>0.78</td>\n",
       "    </tr>\n",
       "    <tr>\n",
       "      <th>1</th>\n",
       "      <td>[-0.14721301536458237, -0.048477304979667915, ...</td>\n",
       "      <td>[0, 0, 0, -1, -1]</td>\n",
       "      <td>NaN</td>\n",
       "      <td>5</td>\n",
       "      <td>0</td>\n",
       "      <td>0</td>\n",
       "      <td>3</td>\n",
       "      <td>2</td>\n",
       "      <td>0.0</td>\n",
       "      <td>0.40</td>\n",
       "      <td>0.60</td>\n",
       "    </tr>\n",
       "    <tr>\n",
       "      <th>2</th>\n",
       "      <td>[-0.14721301536458237, -0.052448976123087784, ...</td>\n",
       "      <td>[0, 0, -1, 0, -1, 0, -1, -1]</td>\n",
       "      <td>NaN</td>\n",
       "      <td>8</td>\n",
       "      <td>0</td>\n",
       "      <td>0</td>\n",
       "      <td>4</td>\n",
       "      <td>4</td>\n",
       "      <td>0.0</td>\n",
       "      <td>0.50</td>\n",
       "      <td>0.50</td>\n",
       "    </tr>\n",
       "    <tr>\n",
       "      <th>3</th>\n",
       "      <td>[-0.14721301536458237, 0.037461097698424525, -...</td>\n",
       "      <td>[0, 0, 0, 0]</td>\n",
       "      <td>NaN</td>\n",
       "      <td>4</td>\n",
       "      <td>0</td>\n",
       "      <td>0</td>\n",
       "      <td>4</td>\n",
       "      <td>0</td>\n",
       "      <td>0.0</td>\n",
       "      <td>0.00</td>\n",
       "      <td>1.00</td>\n",
       "    </tr>\n",
       "    <tr>\n",
       "      <th>4</th>\n",
       "      <td>[-0.14721301536458237, -0.06396592637112342, 0...</td>\n",
       "      <td>[0, 0, 0, -1, 0, 0, 0]</td>\n",
       "      <td>NaN</td>\n",
       "      <td>7</td>\n",
       "      <td>0</td>\n",
       "      <td>0</td>\n",
       "      <td>6</td>\n",
       "      <td>1</td>\n",
       "      <td>0.0</td>\n",
       "      <td>0.14</td>\n",
       "      <td>0.86</td>\n",
       "    </tr>\n",
       "  </tbody>\n",
       "</table>\n",
       "</div>"
      ],
      "text/plain": [
       "                                              Scores  \\\n",
       "0  [-0.14721301536458237, -0.028293290087380706, ...   \n",
       "1  [-0.14721301536458237, -0.048477304979667915, ...   \n",
       "2  [-0.14721301536458237, -0.052448976123087784, ...   \n",
       "3  [-0.14721301536458237, 0.037461097698424525, -...   \n",
       "4  [-0.14721301536458237, -0.06396592637112342, 0...   \n",
       "\n",
       "                         Rounded  Target score  Length  Starting  Pos Nbr  \\\n",
       "0  [0, 0, 0, 0, 0, 0, 0, -1, -1]           NaN       9         0        0   \n",
       "1              [0, 0, 0, -1, -1]           NaN       5         0        0   \n",
       "2   [0, 0, -1, 0, -1, 0, -1, -1]           NaN       8         0        0   \n",
       "3                   [0, 0, 0, 0]           NaN       4         0        0   \n",
       "4         [0, 0, 0, -1, 0, 0, 0]           NaN       7         0        0   \n",
       "\n",
       "   Neutral Nbr  Neg Nbr  Pos %  Neg %  Neutral %  \n",
       "0            7        2    0.0   0.22       0.78  \n",
       "1            3        2    0.0   0.40       0.60  \n",
       "2            4        4    0.0   0.50       0.50  \n",
       "3            4        0    0.0   0.00       1.00  \n",
       "4            6        1    0.0   0.14       0.86  "
      ]
     },
     "execution_count": 29,
     "metadata": {},
     "output_type": "execute_result"
    }
   ],
   "source": [
    "# Add the starting article score\n",
    "for i in range(len(df_paths)):\n",
    "    df_paths.loc[i,'Starting']=df_paths.loc[i,'Rounded'][0]\n",
    "\n",
    "df_paths['Starting']=df_paths['Starting'].astype(int)\n",
    "\n",
    "print('1st done')\n",
    "\n",
    "\n",
    "# Add the number of positive/neutral/negative articles\n",
    "for i in range(len(df_paths)):\n",
    "    list2=df_paths.loc[i,'Rounded']\n",
    "    df_paths.loc[i,'Pos Nbr']=list2.count(1)\n",
    "    df_paths.loc[i,'Neutral Nbr']=list2.count(0)\n",
    "    df_paths.loc[i,'Neg Nbr']=list2.count(-1)\n",
    "\n",
    "df_paths['Pos Nbr']=df_paths['Pos Nbr'].astype(int)\n",
    "df_paths['Neutral Nbr']=df_paths['Neutral Nbr'].astype(int)\n",
    "df_paths['Neg Nbr']=df_paths['Neg Nbr'].astype(int)\n",
    "\n",
    "print('2nd done')\n",
    "\n",
    "\n",
    "# Add the positive/neutral/negative percentage of articles\n",
    "df_paths['Pos %']=round(df_paths['Pos Nbr']/df_paths['Length'],2)\n",
    "df_paths['Neg %']=round(df_paths['Neg Nbr']/df_paths['Length'],2)\n",
    "df_paths['Neutral %']=round(df_paths['Neutral Nbr']/df_paths['Length'],2)\n",
    "\n",
    "print('3rd done')\n",
    "\n",
    "df_paths.head()"
   ]
  },
  {
   "cell_type": "markdown",
   "metadata": {},
   "source": [
    "## Data visualisation and analysis"
   ]
  },
  {
   "cell_type": "markdown",
   "metadata": {},
   "source": [
    "Let's visualize the data and start to answer the question, starting by:\n",
    "- Does the starting article score influence the following articles scores ?  \n",
    "To achieve this, we will first look at the positive case  \n",
    "(For a positive starting article, is it more likely to get positive articles in the corresponding path ?)."
   ]
  },
  {
   "cell_type": "code",
   "execution_count": 30,
   "metadata": {},
   "outputs": [
    {
     "data": {
      "text/plain": [
       "Text(0, 0.5, 'Positive start')"
      ]
     },
     "execution_count": 30,
     "metadata": {},
     "output_type": "execute_result"
    },
    {
     "data": {
      "image/png": "[encoded data removed]",
      "text/plain": [
       "<Figure size 1200x700 with 12 Axes>"
      ]
     },
     "metadata": {},
     "output_type": "display_data"
    }
   ],
   "source": [
    "arrs=[]\n",
    "\n",
    "for col in ['Pos Nbr','Pos %']:\n",
    "    arrs.append(df_paths[col].values)\n",
    "    arrs.append(df_paths[df_paths['Starting']==-1][col].values)\n",
    "    arrs.append(df_paths[df_paths['Starting']==0][col].values)\n",
    "    arrs.append(df_paths[df_paths['Starting']==1][col].values)\n",
    "\n",
    "fig,axs=plt.subplots(4,3,figsize=(12,7))\n",
    "\n",
    "for i in range(4):\n",
    "    axs[i,0].hist(arrs[i],bins=10,range=(0,10))\n",
    "    axs[i,0].set_yscale('log')\n",
    "\n",
    "    axs[i,1].hist(100*arrs[4+i],bins=25,range=(0,100))\n",
    "    axs[i,1].set_yscale('log')\n",
    "\n",
    "    axs[i,2].hist(100*arrs[4+i],bins=25,range=(1,100))\n",
    "    axs[i,2].set_yscale('log')\n",
    "\n",
    "axs[0,0].set_title('Number of positive articles')\n",
    "axs[0,1].set_title('Percentage of positive articles')\n",
    "axs[0,2].set_title('Percentage of positive articles')\n",
    "\n",
    "axs[0,0].set_ylabel('Overall')\n",
    "axs[1,0].set_ylabel('Negative start')\n",
    "axs[2,0].set_ylabel('Neutral start')\n",
    "axs[3,0].set_ylabel('Positive start')"
   ]
  },
  {
   "cell_type": "markdown",
   "metadata": {},
   "source": [
    "##### First column\n",
    "\n",
    "By looking at the number of positive articles, it seems like the path starting with neutral articles have more positive articles. However, we remember that there is way more neutral starting path than positive or negative starting ones. Therefore, it makes sense that they are also more long paths, which can have several positive articles, without the path being positive overall.  \n",
    "To avoid this misleading, we look at the path percentage rather than the absolute number of positive articles.\n",
    "\n",
    "##### Second column (all paths)\n",
    "\n",
    "At first glance, it seems like the positive starting paths have a higher distribution of positive articles. However, we need to consider the fact that the positive starting paths have at least one positive article, whereas the other don't necessarily. To account for this, the path with zero positive articles are removed.\n",
    "\n",
    "##### Third column (only paths with at least one positive articles)\n",
    "\n",
    "The distributions seem to be the same (slightly shifted to the right for positive starting path, but not significant). This means that when we look at the positive starting paths, we are actually just cutting out the paths that have no positive articles, and it doesn't affect the positive distribution (the chance of having more positive articles)."
   ]
  },
  {
   "cell_type": "markdown",
   "metadata": {},
   "source": [
    "---------\n",
    "Now, to answer the question  \n",
    "Is it more likely to get a positive article in the path if the starting article is positive rather than if it is neutral or negative ?  \n",
    "\n",
    "The first assumption (stemming from the previous graphs) is that it doesn't. To see this more rigorously, we look at the positive percentage of the positive starting paths but excluding the first (positive) article, and compare this to the neutral/negative starting article."
   ]
  },
  {
   "cell_type": "code",
   "execution_count": 34,
   "metadata": {},
   "outputs": [
    {
     "data": {
      "text/html": [
       "<div>\n",
       "<style scoped>\n",
       "    .dataframe tbody tr th:only-of-type {\n",
       "        vertical-align: middle;\n",
       "    }\n",
       "\n",
       "    .dataframe tbody tr th {\n",
       "        vertical-align: top;\n",
       "    }\n",
       "\n",
       "    .dataframe thead th {\n",
       "        text-align: right;\n",
       "    }\n",
       "</style>\n",
       "<table border=\"1\" class=\"dataframe\">\n",
       "  <thead>\n",
       "    <tr style=\"text-align: right;\">\n",
       "      <th></th>\n",
       "      <th>Scores</th>\n",
       "      <th>Rounded</th>\n",
       "      <th>Target score</th>\n",
       "      <th>Length</th>\n",
       "      <th>Starting</th>\n",
       "      <th>Pos Nbr</th>\n",
       "      <th>Neutral Nbr</th>\n",
       "      <th>Neg Nbr</th>\n",
       "      <th>Pos %</th>\n",
       "      <th>Neg %</th>\n",
       "      <th>Neutral %</th>\n",
       "      <th>Pos % 2</th>\n",
       "    </tr>\n",
       "  </thead>\n",
       "  <tbody>\n",
       "    <tr>\n",
       "      <th>0</th>\n",
       "      <td>[-0.14721301536458237, -0.028293290087380706, ...</td>\n",
       "      <td>[0, 0, 0, 0, 0, 0, 0, -1, -1]</td>\n",
       "      <td>NaN</td>\n",
       "      <td>9</td>\n",
       "      <td>0</td>\n",
       "      <td>0</td>\n",
       "      <td>7</td>\n",
       "      <td>2</td>\n",
       "      <td>0.0</td>\n",
       "      <td>0.22</td>\n",
       "      <td>0.78</td>\n",
       "      <td>NaN</td>\n",
       "    </tr>\n",
       "    <tr>\n",
       "      <th>1</th>\n",
       "      <td>[-0.14721301536458237, -0.048477304979667915, ...</td>\n",
       "      <td>[0, 0, 0, -1, -1]</td>\n",
       "      <td>NaN</td>\n",
       "      <td>5</td>\n",
       "      <td>0</td>\n",
       "      <td>0</td>\n",
       "      <td>3</td>\n",
       "      <td>2</td>\n",
       "      <td>0.0</td>\n",
       "      <td>0.40</td>\n",
       "      <td>0.60</td>\n",
       "      <td>NaN</td>\n",
       "    </tr>\n",
       "    <tr>\n",
       "      <th>2</th>\n",
       "      <td>[-0.14721301536458237, -0.052448976123087784, ...</td>\n",
       "      <td>[0, 0, -1, 0, -1, 0, -1, -1]</td>\n",
       "      <td>NaN</td>\n",
       "      <td>8</td>\n",
       "      <td>0</td>\n",
       "      <td>0</td>\n",
       "      <td>4</td>\n",
       "      <td>4</td>\n",
       "      <td>0.0</td>\n",
       "      <td>0.50</td>\n",
       "      <td>0.50</td>\n",
       "      <td>NaN</td>\n",
       "    </tr>\n",
       "    <tr>\n",
       "      <th>3</th>\n",
       "      <td>[-0.14721301536458237, 0.037461097698424525, -...</td>\n",
       "      <td>[0, 0, 0, 0]</td>\n",
       "      <td>NaN</td>\n",
       "      <td>4</td>\n",
       "      <td>0</td>\n",
       "      <td>0</td>\n",
       "      <td>4</td>\n",
       "      <td>0</td>\n",
       "      <td>0.0</td>\n",
       "      <td>0.00</td>\n",
       "      <td>1.00</td>\n",
       "      <td>NaN</td>\n",
       "    </tr>\n",
       "    <tr>\n",
       "      <th>4</th>\n",
       "      <td>[-0.14721301536458237, -0.06396592637112342, 0...</td>\n",
       "      <td>[0, 0, 0, -1, 0, 0, 0]</td>\n",
       "      <td>NaN</td>\n",
       "      <td>7</td>\n",
       "      <td>0</td>\n",
       "      <td>0</td>\n",
       "      <td>6</td>\n",
       "      <td>1</td>\n",
       "      <td>0.0</td>\n",
       "      <td>0.14</td>\n",
       "      <td>0.86</td>\n",
       "      <td>NaN</td>\n",
       "    </tr>\n",
       "  </tbody>\n",
       "</table>\n",
       "</div>"
      ],
      "text/plain": [
       "                                              Scores  \\\n",
       "0  [-0.14721301536458237, -0.028293290087380706, ...   \n",
       "1  [-0.14721301536458237, -0.048477304979667915, ...   \n",
       "2  [-0.14721301536458237, -0.052448976123087784, ...   \n",
       "3  [-0.14721301536458237, 0.037461097698424525, -...   \n",
       "4  [-0.14721301536458237, -0.06396592637112342, 0...   \n",
       "\n",
       "                         Rounded  Target score  Length  Starting  Pos Nbr  \\\n",
       "0  [0, 0, 0, 0, 0, 0, 0, -1, -1]           NaN       9         0        0   \n",
       "1              [0, 0, 0, -1, -1]           NaN       5         0        0   \n",
       "2   [0, 0, -1, 0, -1, 0, -1, -1]           NaN       8         0        0   \n",
       "3                   [0, 0, 0, 0]           NaN       4         0        0   \n",
       "4         [0, 0, 0, -1, 0, 0, 0]           NaN       7         0        0   \n",
       "\n",
       "   Neutral Nbr  Neg Nbr  Pos %  Neg %  Neutral %  Pos % 2  \n",
       "0            7        2    0.0   0.22       0.78      NaN  \n",
       "1            3        2    0.0   0.40       0.60      NaN  \n",
       "2            4        4    0.0   0.50       0.50      NaN  \n",
       "3            4        0    0.0   0.00       1.00      NaN  \n",
       "4            6        1    0.0   0.14       0.86      NaN  "
      ]
     },
     "execution_count": 34,
     "metadata": {},
     "output_type": "execute_result"
    }
   ],
   "source": [
    "df_paths.loc[df_paths['Starting']==1,'Pos % 2']=round((df_paths['Pos Nbr']-1)/(df_paths['Length']-1),2)\n",
    "\n",
    "df_paths.head()"
   ]
  },
  {
   "cell_type": "code",
   "execution_count": 38,
   "metadata": {},
   "outputs": [
    {
     "data": {
      "text/plain": [
       "Text(0, 0.5, 'Positive start')"
      ]
     },
     "execution_count": 38,
     "metadata": {},
     "output_type": "execute_result"
    },
    {
     "data": {
      "image/png": "[encoded data removed]",
      "text/plain": [
       "<Figure size 500x600 with 3 Axes>"
      ]
     },
     "metadata": {},
     "output_type": "display_data"
    }
   ],
   "source": [
    "arrs=[]\n",
    "\n",
    "arrs.append(df_paths[df_paths['Starting']==-1]['Pos %'].values)\n",
    "arrs.append(df_paths[df_paths['Starting']==0]['Pos %'].values)\n",
    "arrs.append(df_paths[df_paths['Starting']==1]['Pos % 2'].values)\n",
    "\n",
    "fig,axs=plt.subplots(3,1,figsize=(5,6))\n",
    "\n",
    "for i in range(3):\n",
    "    axs[i].hist(100*arrs[i],bins=25,range=(0,100))\n",
    "    axs[i].set_yscale('log')\n",
    "\n",
    "\n",
    "axs[0].set_ylabel('Negative start')\n",
    "axs[1].set_ylabel('Neutral start')\n",
    "axs[2].set_ylabel('Positive start')"
   ]
  },
  {
   "cell_type": "markdown",
   "metadata": {},
   "source": [
    "As expected, the distributions looks quite similar. To prove our hypothesis, some more rigorous statistic tests are required."
   ]
  },
  {
   "cell_type": "markdown",
   "metadata": {},
   "source": [
    "----------------------------"
   ]
  },
  {
   "cell_type": "markdown",
   "metadata": {},
   "source": [
    "These plots compare the number and percentage of positive articles depending on the score of the starting article. We can see that if we get rid of the paths with 0 articles for neutral and negative starting articles (this makes sense, as the starting positive article would at least have 1 pos article, so we need to equilibrate) (another way to equilibrate would be to calculate the pos % without taking into account the first article ? to do next (1)).\n",
    "Is a path with a starting positive article would have more positive articles in the path ? With these graphs, seems like no: the distributions seem to be the same (slightly shifted to the right it seems, but not much for pos). This means that when we look at the positive starting articles, we are actually just cutting out the paths that have no pos articles, and it doesnt affect the positive distribution (the chance of having more positive articles)\n",
    "However, if we ask the question: The first article is positive, is it more likely to get a positive article in the path than if the first article was neutral or negative ?\n",
    "The answer must be by doing (1) (I think), and then check with statistic tests"
   ]
  },
  {
   "cell_type": "markdown",
   "metadata": {},
   "source": [
    "Can then check the same for negative, and for start pos -> neg, start neg -> pos, and also has at least one instead of start by"
   ]
  }
 ],
 "metadata": {
  "kernelspec": {
   "display_name": "base",
   "language": "python",
   "name": "python3"
  },
  "language_info": {
   "codemirror_mode": {
    "name": "ipython",
    "version": 3
   },
   "file_extension": ".py",
   "mimetype": "text/x-python",
   "name": "python",
   "nbconvert_exporter": "python",
   "pygments_lexer": "ipython3",
   "version": "3.11.4"
  }
 },
 "nbformat": 4,
 "nbformat_minor": 2
}
